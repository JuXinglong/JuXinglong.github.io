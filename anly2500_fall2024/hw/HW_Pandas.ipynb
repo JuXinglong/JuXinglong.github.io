{
  "cells": [
    {
      "cell_type": "markdown",
      "metadata": {
        "id": "HKoVLcZ71-jK"
      },
      "source": [
        "Grading Ruberic: 20 points possible.\n",
        "\n",
        "\n",
        "**Python library - Pandas (20 points)**\n",
        "\n",
        "- Question 1: Creating DataFrames  (2 points)\n",
        "- Question 2: Reading Data (2 points)\n",
        "- Question 3: Indexing and Selecting Data (2 points)\n",
        "- Question 4: Filtering Data (2 points)\n",
        "- Question 5: Data Manipulation (2 points)\n",
        "- Question 6: Handling Missing Data (2 points)\n",
        "- Question 7: Aggregation and Grouping (2 points)\n",
        "- Question 8: Merging and Joining (2 points)\n",
        "- Question 9: Data Sorting (2 points)\n",
        "- Question 10: Exporting Data (2 points)\n",
        "\n"
      ]
    },
    {
      "cell_type": "markdown",
      "metadata": {
        "id": "N9Idgy-zW84i"
      },
      "source": [
        "# Python library - Pandas"
      ]
    },
    {
      "cell_type": "markdown",
      "metadata": {
        "id": "zhuZjf9uuGGA"
      },
      "source": [
        "**Introducing Pandas DataFrames**\n",
        "\n",
        "Pandas is a powerful Python library for data manipulation and analysis. One of the key features is the DataFrame, a two-dimensional, size-mutable tabular data structure with labeled axes (rows and columns). We can create DataFrames from various data sources such as dictionaries, lists, CSV files, and SQL databases.\n",
        "\n",
        "We'll go through a general set of steps serving as best practices on preparing your data for analysis--from importing, reading, cleaning, sorting, and mining to exporting.\n",
        "\n",
        "\n",
        "\n",
        "1. Creating DataFrames: How to create DataFrames from dictionaries, lists, and CSV files.\n",
        "2. Reading Data: How to read CSV files into DataFrames.\n",
        "3. Indexing and Selecting Data: Techniques for selecting single and multiple columns and rows using .loc and .iloc.\n",
        "4. Filtering Data: Methods to filter rows based on conditions.\n",
        "5. Data Manipulation: Adding, removing, and renaming columns.\n",
        "6. Handling Missing Data: Identifying and handling missing values.\n",
        "7. Aggregation and Grouping: Grouping data and calculating summary statistics.\n",
        "8. Merging and Joining: Merging DataFrames based on common columns.\n",
        "9. Data Sorting: Sorting DataFrames by columns.\n",
        "10. Exporting Data: Saving DataFrames to CSV files.\n"
      ]
    },
    {
      "cell_type": "code",
      "execution_count": null,
      "metadata": {
        "colab": {
          "base_uri": "https://localhost:8080/"
        },
        "id": "LDNlllNGfDRO",
        "outputId": "31eb6b1e-57ad-4ef0-a69b-70a8cd0f78a2"
      },
      "outputs": [
        {
          "name": "stdout",
          "output_type": "stream",
          "text": [
            "      Name  Age\n",
            "0  Heather   25\n",
            "1      Joe   30\n",
            "2  Charlie   28\n"
          ]
        }
      ],
      "source": [
        "# This is just an example of creating a DataFrame from dictionary.\n",
        "import pandas as pd\n",
        "\n",
        "# Creating a DataFrame from a dictionary\n",
        "data = {'Name': ['Heather', 'Joe', 'Charlie'], 'Age': [25, 30, 28]}\n",
        "df = pd.DataFrame(data)\n",
        "print(df)\n"
      ]
    },
    {
      "cell_type": "markdown",
      "metadata": {
        "id": "kbqbu8LRti7S"
      },
      "source": [
        "Question 1: Creating DataFrames\n",
        "\n",
        "Task: Create a DataFrame from a dictionary. The dataframe should look like the following:      \n",
        "\n",
        "|   Name   | Age |    City     |\n",
        "|:--------:|:---:|:-----------:|\n",
        "|  Alice   |  25 |  New York   |\n",
        "|   Bob    |  30 | Los Angeles |\n",
        "| Charlie  |  35 |   Chicago   |\n"
      ]
    },
    {
      "cell_type": "code",
      "execution_count": null,
      "metadata": {
        "id": "6tFJ79r0txQf"
      },
      "outputs": [],
      "source": [
        "# Write a code to create a DataFrame\n",
        "\n",
        "import pandas as pd\n",
        "\n",
        "# Create a dictionary with the data\n",
        "data = {\n",
        "\n",
        "}\n",
        "\n",
        "# Convert the dictionary into a dataframe named df\n",
        "\n",
        "\n",
        "# Print the dataframe\n",
        "\n",
        "\n"
      ]
    },
    {
      "cell_type": "code",
      "execution_count": null,
      "metadata": {
        "id": "aCyXOST_Qtl5"
      },
      "outputs": [],
      "source": [
        "# Mount your drive\n",
        "\n",
        "from google.colab import drive\n",
        "drive.mount('/content/drive')\n"
      ]
    },
    {
      "cell_type": "code",
      "execution_count": null,
      "metadata": {},
      "outputs": [],
      "source": [
        "# Change current directory\n",
        "%cd \"path of the new directory\""
      ]
    },
    {
      "cell_type": "code",
      "execution_count": null,
      "metadata": {},
      "outputs": [],
      "source": [
        "# Verify the current directory\n",
        "%pwd"
      ]
    },
    {
      "cell_type": "code",
      "execution_count": null,
      "metadata": {},
      "outputs": [],
      "source": [
        "\n",
        "# Save the dataframe into a data.csv file in your working directory. Make sure you have data.csv file in your colab drive.\n",
        "df.to_csv('--------', index=False)"
      ]
    },
    {
      "cell_type": "markdown",
      "metadata": {
        "id": "zWi__tUgwKz0"
      },
      "source": [
        "Question 2: Reading Data\n",
        "\n",
        "Task: Import a CSV file into a DataFrame from google.colab import drive. I am assuming that you have data.csv file in your colab drive."
      ]
    },
    {
      "cell_type": "code",
      "execution_count": null,
      "metadata": {
        "id": "H9X3L-YCwvsk"
      },
      "outputs": [],
      "source": [
        "# Importing/reading your CSV file\n",
        "df = pd.read_csv('-----------')\n",
        "print(df)\n"
      ]
    },
    {
      "cell_type": "markdown",
      "metadata": {
        "id": "QhyG3JXtw7Ja"
      },
      "source": [
        "Question 3: Indexing and Selecting Data\n",
        "\n",
        "Task 1: Select a single column from a DataFrame."
      ]
    },
    {
      "cell_type": "code",
      "execution_count": null,
      "metadata": {
        "id": "WErEGoKVxkSf"
      },
      "outputs": [],
      "source": [
        "# (0.5 points) Select the 'Name' column\n",
        "names = '-----------'\n",
        "print(names)"
      ]
    },
    {
      "cell_type": "markdown",
      "metadata": {
        "id": "FEYRqp5oxBq8"
      },
      "source": [
        "Task 2: Select multiple columns from a DataFrame."
      ]
    },
    {
      "cell_type": "code",
      "execution_count": null,
      "metadata": {
        "id": "XsdLrRfnxn2o"
      },
      "outputs": [],
      "source": [
        "# (0.5 points) Select 'Name' and 'Age' columns\n",
        "subset = '------------'\n",
        "print(subset)"
      ]
    },
    {
      "cell_type": "markdown",
      "metadata": {
        "id": "xVskOu9ZxtXV"
      },
      "source": [
        "Task 3: Select rows from a DataFrame using .loc and .iloc."
      ]
    },
    {
      "cell_type": "code",
      "execution_count": null,
      "metadata": {
        "id": "L5GtWNUOxq99"
      },
      "outputs": [],
      "source": [
        "# (0.5 points) Your code using .loc. Print the 2nd row.\n",
        "\n",
        "\n",
        "# (0.5 points) Your code use .iloc. Print the first row."
      ]
    },
    {
      "cell_type": "markdown",
      "metadata": {
        "id": "pVmh7yCV0Wm_"
      },
      "source": [
        "Question 4: Filtering Data\n",
        "\n",
        "Task: Filter rows in a DataFrame based on a condition (e.g., select rows where a column's value is greater than a specific number)."
      ]
    },
    {
      "cell_type": "code",
      "execution_count": null,
      "metadata": {
        "id": "LqYiEORj0cVc"
      },
      "outputs": [],
      "source": [
        "# Filter rows where 'Age' is greater than 30"
      ]
    },
    {
      "cell_type": "markdown",
      "metadata": {
        "id": "s1tbyG_80iFL"
      },
      "source": [
        "Question 5: Data Manipulation\n",
        "\n",
        "Task 1: Add a new column to a DataFrame."
      ]
    },
    {
      "cell_type": "code",
      "execution_count": null,
      "metadata": {
        "id": "FfB5-O0v0dYW"
      },
      "outputs": [],
      "source": [
        "# (0.5 points) Add a new column 'Salary'column. Provide salary in US dollars."
      ]
    },
    {
      "cell_type": "markdown",
      "metadata": {
        "id": "9eUw0ASD09WM"
      },
      "source": [
        "Task 2: Remove a column from a DataFrame.\n"
      ]
    },
    {
      "cell_type": "code",
      "execution_count": null,
      "metadata": {
        "id": "uhew-pKB0yXf"
      },
      "outputs": [],
      "source": [
        "# (0.5 points) Remove the 'City' column"
      ]
    },
    {
      "cell_type": "markdown",
      "metadata": {
        "id": "OlFawlmL1BH-"
      },
      "source": [
        "Task 3: Rename columns in a DataFrame."
      ]
    },
    {
      "cell_type": "code",
      "execution_count": null,
      "metadata": {
        "id": "uSKaW3ez1EbJ"
      },
      "outputs": [],
      "source": [
        "# (0.5 points) Rename the 'Salary' column to 'Monthly Salary'\n",
        "\n",
        "\n",
        "# Create one row with all missing values.\n",
        "import numpy as np\n",
        "missing_row = pd.Series([np.nan, np.nan,np.nan,np.nan], index = df.columns)\n",
        "\n",
        "# (0.5 points) Add the missing row to the DataFrame\n",
        "\n",
        "# Display the updated DataFrame\n",
        "print(df)"
      ]
    },
    {
      "cell_type": "markdown",
      "metadata": {
        "id": "ikiLdgCY0w5m"
      },
      "source": [
        "Question 6: Handling Missing Data\n",
        "\n",
        "Task 1: Identify and handle missing values in a DataFrame."
      ]
    },
    {
      "cell_type": "code",
      "execution_count": null,
      "metadata": {
        "id": "NPjcSqcC0nlk"
      },
      "outputs": [],
      "source": [
        "# (1 point) Check for missing values. Get the total count of missing values in each variable."
      ]
    },
    {
      "cell_type": "markdown",
      "metadata": {
        "id": "BVuXFXVU1PVF"
      },
      "source": [
        "Task 2: Fill or replace missing values in a DataFrame."
      ]
    },
    {
      "cell_type": "code",
      "execution_count": null,
      "metadata": {
        "id": "CihFgRHJ1N1w"
      },
      "outputs": [],
      "source": [
        "# (1 point) Filling missing values with a specified value (use '0')."
      ]
    },
    {
      "cell_type": "markdown",
      "metadata": {
        "id": "w3n4pXIP1ShR"
      },
      "source": [
        "Question 7: Aggregation and Grouping\n",
        "\n",
        "Task: Group data in a DataFrame by a specific column and then calculate summary statistics for each group."
      ]
    },
    {
      "cell_type": "code",
      "execution_count": null,
      "metadata": {
        "id": "HNpX-p7E1V_Z"
      },
      "outputs": [],
      "source": [
        "# Add two more rows in the above dataframe\n",
        "\"\"\"\n",
        "first row:\n",
        "Name: Jack, Age: 25, Monthly Salary: 55000\n",
        "second row:\n",
        "Name: Jill, Age: 30, Monthly Salary: 60000\n",
        "\"\"\"\n",
        "# Group by 'Age' and calculate the  mean 'Monthly Salary'"
      ]
    },
    {
      "cell_type": "markdown",
      "metadata": {
        "id": "gJeB2aPj1YBD"
      },
      "source": [
        "Question 8: Merging and Joining\n",
        "\n",
        "Task: Merge two DataFrames based on a common column."
      ]
    },
    {
      "cell_type": "code",
      "execution_count": null,
      "metadata": {
        "id": "LwXpeiOs1Xny"
      },
      "outputs": [],
      "source": [
        "import pandas as pd\n",
        "# Create two DataFrames with at least one common column\n",
        "data1 = {'Name': ['Alice', 'Bob', 'Charlie'], 'Age': [25, 30, 35]}\n",
        "data2 = {'Name': ['Alice', 'Bob', 'Charlie'], 'City': ['New York', 'Los Angeles', 'Chicago']}\n",
        "\n",
        "df1 = pd.DataFrame(data1)\n",
        "df2 = pd.DataFrame(data2)\n",
        "print(df1)\n",
        "print(df2)\n",
        "# Merge the DataFrames based on the 'Name' column\n",
        "merged_df =\n",
        "print(merged_df)\n"
      ]
    },
    {
      "cell_type": "markdown",
      "metadata": {
        "id": "ZCkFa6Ta1hNv"
      },
      "source": [
        "Question 9: Data Sorting\n",
        "\n",
        "Task: Sort a DataFrame by one or more columns."
      ]
    },
    {
      "cell_type": "code",
      "execution_count": null,
      "metadata": {
        "id": "J0V9ZH4B1kVO"
      },
      "outputs": [],
      "source": [
        "# Sorting by 'Age' in ascending order\n",
        "\n",
        "\n",
        "\n",
        "# Sort by 'Age' in descending order\n",
        "\n"
      ]
    },
    {
      "cell_type": "markdown",
      "metadata": {
        "id": "gOh1fD1n1l7T"
      },
      "source": [
        "Question 10: Exporting Data\n",
        "\n",
        "Task: Save a DataFrame to a CSV file.File name should be output.csv."
      ]
    },
    {
      "cell_type": "code",
      "execution_count": null,
      "metadata": {
        "id": "idkX4efq1vYq"
      },
      "outputs": [],
      "source": [
        "# Save the DataFrame to 'output.csv' file\n",
        "df.to_csv('---------------', index=False)\n",
        "print(\"DataFrame saved to 'output.csv'\")"
      ]
    }
  ],
  "metadata": {
    "colab": {
      "provenance": []
    },
    "kernelspec": {
      "display_name": "Python 3",
      "name": "python3"
    },
    "language_info": {
      "name": "python"
    }
  },
  "nbformat": 4,
  "nbformat_minor": 0
}
