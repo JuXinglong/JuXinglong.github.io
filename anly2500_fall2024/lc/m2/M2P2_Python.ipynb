{
  "nbformat": 4,
  "nbformat_minor": 0,
  "metadata": {
    "colab": {
      "provenance": []
    },
    "kernelspec": {
      "name": "python3",
      "display_name": "Python 3"
    },
    "language_info": {
      "name": "python"
    }
  },
  "cells": [
    {
      "cell_type": "code",
      "execution_count": 1,
      "metadata": {
        "colab": {
          "base_uri": "https://localhost:8080/"
        },
        "id": "nMAqKzUisO22",
        "outputId": "007c7146-0571-4c3f-ebb9-fc7d7126b6d7"
      },
      "outputs": [
        {
          "output_type": "stream",
          "name": "stdout",
          "text": [
            "This is Module 2 Part 2\n"
          ]
        }
      ],
      "source": [
        "print(\"This is Module 2 Part 2\")"
      ]
    },
    {
      "cell_type": "code",
      "source": [
        "# functions\n",
        "# print()\n",
        "# print: functin, the machine,\n",
        "# function call: print() press the button on the machine\n",
        "print(\"Line 1\",end=\"\")\n",
        "print(\"Line 2\",end=\" ### \")\n",
        "print(\"Line 3\")\n",
        "age1 = 23\n",
        "w1 = 136.6\n",
        "print(age1)\n",
        "print(w1)\n",
        "\n",
        "print(\"Line1\",\"Line 2\",age1,w1) #"
      ],
      "metadata": {
        "colab": {
          "base_uri": "https://localhost:8080/"
        },
        "id": "dwDju2Zwsl9T",
        "outputId": "437ab575-9844-4081-a231-7a89014520a1"
      },
      "execution_count": 8,
      "outputs": [
        {
          "output_type": "stream",
          "name": "stdout",
          "text": [
            "Line 1Line 2 ### Line 3\n",
            "23\n",
            "136.6\n",
            "Line1 Line 2 23 136.6\n"
          ]
        }
      ]
    },
    {
      "cell_type": "code",
      "source": [
        "str1 = \"Tom\"\n",
        "# len:\n",
        "# len():\n",
        "n1 = len(str1)\n",
        "print(n1)"
      ],
      "metadata": {
        "colab": {
          "base_uri": "https://localhost:8080/"
        },
        "id": "tREvxF-Xt8HS",
        "outputId": "03502e85-06b7-4e5e-cf9a-e726e6bf87c0"
      },
      "execution_count": 9,
      "outputs": [
        {
          "output_type": "stream",
          "name": "stdout",
          "text": [
            "3\n"
          ]
        }
      ]
    },
    {
      "cell_type": "code",
      "source": [
        "age1 = 23\n",
        "v1= 23.6\n",
        "\n",
        "i1 = int(v1)\n",
        "print(i1)\n"
      ],
      "metadata": {
        "colab": {
          "base_uri": "https://localhost:8080/"
        },
        "id": "aEqkQX9_Hr2Z",
        "outputId": "3c5a8dd0-f8e6-4d33-b94b-51d894b09bcd"
      },
      "execution_count": 113,
      "outputs": [
        {
          "output_type": "stream",
          "name": "stdout",
          "text": [
            "23\n"
          ]
        }
      ]
    },
    {
      "cell_type": "code",
      "source": [
        "# input()\n",
        "print(\"Please input the currrent balance: \",end=\"\")\n",
        "bal = input() # result int string\n",
        "bal = float(bal)\n",
        "print(bal)\n",
        "\n",
        "bal = bal*1.1\n",
        "print(bal)\n"
      ],
      "metadata": {
        "colab": {
          "base_uri": "https://localhost:8080/"
        },
        "id": "9o5Ek6D_H62r",
        "outputId": "5307b16c-bbfb-4fdf-da65-793c79d1cd55"
      },
      "execution_count": 115,
      "outputs": [
        {
          "output_type": "stream",
          "name": "stdout",
          "text": [
            "Please input the currrent balance: 1000\n",
            "1000.0\n",
            "1100.0\n"
          ]
        }
      ]
    },
    {
      "cell_type": "code",
      "source": [
        "# expressions\n",
        "r1 = 2*3+6\n",
        "# assignment\n",
        "# step 1: right hand side. expression. CPU\n",
        "# step 2: store the result into left hand side variable\n",
        "print(r1)"
      ],
      "metadata": {
        "colab": {
          "base_uri": "https://localhost:8080/"
        },
        "id": "ic2STWCOueDF",
        "outputId": "5d790ac0-2735-458e-d511-738df339ce80"
      },
      "execution_count": 10,
      "outputs": [
        {
          "output_type": "stream",
          "name": "stdout",
          "text": [
            "12\n"
          ]
        }
      ]
    },
    {
      "cell_type": "code",
      "source": [
        "# comparsion operators\n",
        "# bool (boolean)\n",
        "# True False\n",
        "b1 = True\n",
        "print(b1)\n",
        "\n",
        "# > >= < <= == !=\n",
        "# expression in bool\n",
        "b2 = 3<2 # assignment\n",
        "# step 1: CPU\n",
        "# step 2: True\n",
        "print(b2)"
      ],
      "metadata": {
        "colab": {
          "base_uri": "https://localhost:8080/"
        },
        "id": "_XwHbEjGwb4k",
        "outputId": "1510fea9-f223-4382-89de-a13ac95fca54"
      },
      "execution_count": 13,
      "outputs": [
        {
          "output_type": "stream",
          "name": "stdout",
          "text": [
            "True\n",
            "False\n"
          ]
        }
      ]
    },
    {
      "cell_type": "code",
      "source": [
        "b3 = 3>=2 # greather than or equal 2\n",
        "print(b3)"
      ],
      "metadata": {
        "colab": {
          "base_uri": "https://localhost:8080/"
        },
        "id": "L00ET0gux4Ce",
        "outputId": "81ba044c-c2cf-4046-c8d6-e543f305aaeb"
      },
      "execution_count": 15,
      "outputs": [
        {
          "output_type": "stream",
          "name": "stdout",
          "text": [
            "True\n"
          ]
        }
      ]
    },
    {
      "cell_type": "code",
      "source": [
        "# == not space ==\n",
        "b4 = 2==3# assignment\n",
        "print(b4)"
      ],
      "metadata": {
        "colab": {
          "base_uri": "https://localhost:8080/"
        },
        "id": "a_fxId27yHKU",
        "outputId": "a2d28e35-d91f-4886-d036-0ba0c8020dc7"
      },
      "execution_count": 16,
      "outputs": [
        {
          "output_type": "stream",
          "name": "stdout",
          "text": [
            "False\n"
          ]
        }
      ]
    },
    {
      "cell_type": "code",
      "source": [
        "# != not equal to\n",
        "b5 = 2!=3\n",
        "print(b5)"
      ],
      "metadata": {
        "colab": {
          "base_uri": "https://localhost:8080/"
        },
        "id": "wyG-3O06yWZ_",
        "outputId": "d2a664f5-0efa-4dcb-ea3e-10cab34f5dfc"
      },
      "execution_count": 17,
      "outputs": [
        {
          "output_type": "stream",
          "name": "stdout",
          "text": [
            "True\n"
          ]
        }
      ]
    },
    {
      "cell_type": "code",
      "source": [
        "# data structure\n",
        "# list\n",
        "# data types: int float bool string\n",
        "age1 = 20 # label on the first age value\n",
        "age2= 23\n",
        "age3=26\n",
        "# 30 variable\n",
        "print(age1)\n",
        "print(age3)\n",
        "# where are the varialbes? RAM\n",
        "# ages for 1000 students\n",
        "# List\n",
        "\n",
        "ageList= [20,21,30,26,19] # warehouse\n",
        "# [20,21,30,26,19] list\n",
        "print(ageList) # ctrl c"
      ],
      "metadata": {
        "colab": {
          "base_uri": "https://localhost:8080/"
        },
        "id": "sllK3C_szbT8",
        "outputId": "69a105e9-ef4e-4375-9509-6b85fc06c7d8"
      },
      "execution_count": 21,
      "outputs": [
        {
          "output_type": "stream",
          "name": "stdout",
          "text": [
            "20\n",
            "26\n",
            "[20, 21, 30, 26, 19]\n"
          ]
        }
      ]
    },
    {
      "cell_type": "code",
      "source": [
        "# ctrl v\n",
        "        # terms: index, label, (label or index for the list starts from 0)\n",
        "        # 0  1  2  3  4\n",
        "ageList= [20,21,30,26,19] # warehouse\n",
        "# [20,21,30,26,19] list\n",
        "print(ageList)\n",
        "# labels: for list: by default\n"
      ],
      "metadata": {
        "colab": {
          "base_uri": "https://localhost:8080/"
        },
        "id": "QsMKj5QI1E9i",
        "outputId": "5e34f897-60a5-4d2c-8715-d0c959fac0f0"
      },
      "execution_count": 22,
      "outputs": [
        {
          "output_type": "stream",
          "name": "stdout",
          "text": [
            "[20, 21, 30, 26, 19]\n"
          ]
        }
      ]
    },
    {
      "cell_type": "code",
      "source": [
        "# indexing\n",
        "item = ageList[0] #\n",
        "print(item)"
      ],
      "metadata": {
        "colab": {
          "base_uri": "https://localhost:8080/"
        },
        "id": "16WlcijN1nxp",
        "outputId": "fa75296c-2276-44ea-ed72-71e6154dd13e"
      },
      "execution_count": 23,
      "outputs": [
        {
          "output_type": "stream",
          "name": "stdout",
          "text": [
            "20\n"
          ]
        }
      ]
    },
    {
      "cell_type": "code",
      "source": [
        "# indexing: get single item\n",
        "# slice: multiple elements from the list. sub list.\n",
        "        # 0  1  2  3  4\n",
        "ageList= [20,21,30,26,19]\n",
        "print(ageList)"
      ],
      "metadata": {
        "colab": {
          "base_uri": "https://localhost:8080/"
        },
        "id": "kn_6K_Mp2GOj",
        "outputId": "36e4317d-a851-4106-d4e8-333ed4f23089"
      },
      "execution_count": 24,
      "outputs": [
        {
          "output_type": "stream",
          "name": "stdout",
          "text": [
            "[20, 21, 30, 26, 19]\n"
          ]
        }
      ]
    },
    {
      "cell_type": "code",
      "source": [
        "# indexing\n",
        "item  = ageList[3]\n",
        "print(item)"
      ],
      "metadata": {
        "colab": {
          "base_uri": "https://localhost:8080/"
        },
        "id": "q3f7qWGz2U-B",
        "outputId": "c61e1430-057c-4012-8bf7-47096d30d232"
      },
      "execution_count": 27,
      "outputs": [
        {
          "output_type": "stream",
          "name": "stdout",
          "text": [
            "26\n"
          ]
        }
      ]
    },
    {
      "cell_type": "code",
      "source": [
        "# indexing\n",
        "item  = ageList[4] # to get the last item\n",
        "print(item)"
      ],
      "metadata": {
        "colab": {
          "base_uri": "https://localhost:8080/"
        },
        "id": "vbpa-Nqj2oUw",
        "outputId": "f613536c-ae45-499a-909d-3f8e97605460"
      },
      "execution_count": 29,
      "outputs": [
        {
          "output_type": "stream",
          "name": "stdout",
          "text": [
            "19\n"
          ]
        }
      ]
    },
    {
      "cell_type": "code",
      "source": [
        "# indexing  -3 -2 -1\n",
        "item  = ageList[-2] # to get the last item\n",
        "print(item)"
      ],
      "metadata": {
        "colab": {
          "base_uri": "https://localhost:8080/"
        },
        "id": "SzL8sLWe2v-I",
        "outputId": "8b5013e7-9d77-40e0-faf6-de3e2956b4ec"
      },
      "execution_count": 32,
      "outputs": [
        {
          "output_type": "stream",
          "name": "stdout",
          "text": [
            "26\n"
          ]
        }
      ]
    },
    {
      "cell_type": "code",
      "source": [
        "# slicing: sub list\n",
        "        # 0  1  2  3  4\n",
        "ageList= [20,21,30,26,19]\n",
        "\n",
        "slice = ageList[0:3] # 0 included 2 not included\n",
        "print(slice)"
      ],
      "metadata": {
        "colab": {
          "base_uri": "https://localhost:8080/"
        },
        "id": "BjksY3IT3CO6",
        "outputId": "8790077e-ad87-4128-ca80-229f02975d1d"
      },
      "execution_count": 35,
      "outputs": [
        {
          "output_type": "stream",
          "name": "stdout",
          "text": [
            "[20, 21, 30]\n"
          ]
        }
      ]
    },
    {
      "cell_type": "code",
      "source": [
        "# slicing: sub list\n",
        "        # 0  1  2  3  4\n",
        "ageList= [20,21,30,26,19]\n",
        "\n",
        "slice = ageList[0:-1] # 0 included 2 not included\n",
        "print(slice)"
      ],
      "metadata": {
        "colab": {
          "base_uri": "https://localhost:8080/"
        },
        "id": "UFCENha-3ix1",
        "outputId": "8206a278-4842-4ff7-fb9a-59b828381d28"
      },
      "execution_count": 37,
      "outputs": [
        {
          "output_type": "stream",
          "name": "stdout",
          "text": [
            "[20, 21, 30, 26]\n"
          ]
        }
      ]
    },
    {
      "cell_type": "code",
      "source": [
        "# slicing: sub list\n",
        "        # 0  1  2  3  4\n",
        "ageList= [20,21,30,26,19]\n",
        "\n",
        "slice = ageList[:] # all\n",
        "print(slice)"
      ],
      "metadata": {
        "colab": {
          "base_uri": "https://localhost:8080/"
        },
        "id": "rOMdRkl13pWX",
        "outputId": "c918f782-f359-4409-d975-cbb63f8433c1"
      },
      "execution_count": 38,
      "outputs": [
        {
          "output_type": "stream",
          "name": "stdout",
          "text": [
            "[20, 21, 30, 26, 19]\n"
          ]
        }
      ]
    },
    {
      "cell_type": "code",
      "source": [
        "# slicing: sub list\n",
        "        # 0  1  2  3  4\n",
        "ageList= [20,21,30,26,19]\n",
        "\n",
        "slice = ageList[0:4:2] #\n",
        "print(slice)"
      ],
      "metadata": {
        "colab": {
          "base_uri": "https://localhost:8080/"
        },
        "id": "6mOUGbMN3vUu",
        "outputId": "17971dc6-0f1b-40ee-c4eb-41754ebc6117"
      },
      "execution_count": 41,
      "outputs": [
        {
          "output_type": "stream",
          "name": "stdout",
          "text": [
            "[20, 30]\n"
          ]
        }
      ]
    },
    {
      "cell_type": "code",
      "source": [
        "# slicing: sub list\n",
        "        # 0  1  2  3  4\n",
        "ageList= [20,21,30,26,19]\n",
        "\n",
        "slice = ageList[::2] #\n",
        "print(slice)"
      ],
      "metadata": {
        "colab": {
          "base_uri": "https://localhost:8080/"
        },
        "id": "OPbWXg5S4Be5",
        "outputId": "44e0ec19-654e-4e67-85ff-d394273d6b51"
      },
      "execution_count": 42,
      "outputs": [
        {
          "output_type": "stream",
          "name": "stdout",
          "text": [
            "[20, 30, 19]\n"
          ]
        }
      ]
    },
    {
      "cell_type": "code",
      "source": [
        "# slicing: sub list\n",
        "        # 0  1  2  3  4\n",
        "ageList= [20,21,30,26,19]\n",
        "\n",
        "slice = ageList[4:0:-1] #\n",
        "print(slice)"
      ],
      "metadata": {
        "colab": {
          "base_uri": "https://localhost:8080/"
        },
        "id": "89RIOT_n4Fug",
        "outputId": "43400ba6-21c6-4fa0-a86d-921ec6c698be"
      },
      "execution_count": 44,
      "outputs": [
        {
          "output_type": "stream",
          "name": "stdout",
          "text": [
            "[19, 26, 30, 21]\n"
          ]
        }
      ]
    },
    {
      "cell_type": "code",
      "source": [
        "        # 0  1  2  3  4\n",
        "ageList= [20,21,30,26,19]\n",
        "# change items\n",
        "item = ageList[1]\n",
        "print(item)\n",
        "\n",
        "ageList[1] = 23\n",
        "\n",
        "print(ageList)\n"
      ],
      "metadata": {
        "colab": {
          "base_uri": "https://localhost:8080/"
        },
        "id": "46Hj21II4z-w",
        "outputId": "5d4b89a7-11ee-434f-bdd1-4266ded531bb"
      },
      "execution_count": 46,
      "outputs": [
        {
          "output_type": "stream",
          "name": "stdout",
          "text": [
            "21\n",
            "[20, 23, 30, 26, 19]\n"
          ]
        }
      ]
    },
    {
      "cell_type": "code",
      "source": [
        "l1 = [20,23]\n",
        "l2 = [26,30]\n",
        "\n",
        "l3 = l1+l2 # combine\n",
        "print(l3)"
      ],
      "metadata": {
        "colab": {
          "base_uri": "https://localhost:8080/"
        },
        "id": "9zi9RCY05QOH",
        "outputId": "01cc3f23-94b6-45b5-9a06-0835bf9d37bf"
      },
      "execution_count": 47,
      "outputs": [
        {
          "output_type": "stream",
          "name": "stdout",
          "text": [
            "[20, 23, 26, 30]\n"
          ]
        }
      ]
    },
    {
      "cell_type": "code",
      "source": [
        "l4 = l1*3 #\n",
        "print(l4)"
      ],
      "metadata": {
        "colab": {
          "base_uri": "https://localhost:8080/"
        },
        "id": "T18i-oPF5cMS",
        "outputId": "632fd376-15ba-4b03-caa8-0c1bba5e0df3"
      },
      "execution_count": 48,
      "outputs": [
        {
          "output_type": "stream",
          "name": "stdout",
          "text": [
            "[20, 23, 20, 23, 20, 23]\n"
          ]
        }
      ]
    },
    {
      "cell_type": "code",
      "source": [
        "nameList=[\"Tom\",\"Jack\",\"Kelly\",\"Kate\"]\n",
        "print(nameList)\n",
        "\n",
        "# in , not in result in bool\n",
        "b1 = \"Tom\" not in nameList\n",
        "print(b1)"
      ],
      "metadata": {
        "colab": {
          "base_uri": "https://localhost:8080/"
        },
        "id": "gtaogdos5oex",
        "outputId": "54d9e49c-9a70-4015-dc0c-97b819f9dbd1"
      },
      "execution_count": 51,
      "outputs": [
        {
          "output_type": "stream",
          "name": "stdout",
          "text": [
            "['Tom', 'Jack', 'Kelly', 'Kate']\n",
            "False\n"
          ]
        }
      ]
    },
    {
      "cell_type": "code",
      "source": [
        "        # 0  1  2  3  4\n",
        "ageList= [20,21,30,26,19]\n",
        "nameList=[\"Tom\",\"Jack\",\"Kelly\",\"Kate\"]\n",
        "\n",
        "# terms: methods functions\n",
        "#\n",
        "print(ageList)\n",
        "i1 = ageList.index(30) # belongs to\n",
        "print(i1)\n",
        "\n",
        "# append()\n",
        "ageList.append(32)\n",
        "print(ageList)\n",
        "\n",
        "n1 = len(ageList)\n",
        "print(n1)\n",
        "\n",
        "# insert(pos,newItem)\n",
        "ageList.insert(2,23)\n",
        "print(ageList)\n",
        "\n",
        "ageList.sort(reverse=True)\n",
        "print(ageList)"
      ],
      "metadata": {
        "colab": {
          "base_uri": "https://localhost:8080/"
        },
        "id": "GRlYTgn37Fd5",
        "outputId": "505c20ef-b75c-4f13-eacb-ced74c438240"
      },
      "execution_count": 58,
      "outputs": [
        {
          "output_type": "stream",
          "name": "stdout",
          "text": [
            "[20, 21, 30, 26, 19]\n",
            "2\n",
            "[20, 21, 30, 26, 19, 32]\n",
            "6\n",
            "[20, 21, 23, 30, 26, 19, 32]\n",
            "[32, 30, 26, 23, 21, 20, 19]\n"
          ]
        }
      ]
    },
    {
      "cell_type": "code",
      "source": [
        "nameList=[\"Tom\",\"Jack\",\"Kelly\",\"Kate\"]\n",
        "print(nameList)\n",
        "\n",
        "nameList.reverse()\n",
        "print(nameList)"
      ],
      "metadata": {
        "colab": {
          "base_uri": "https://localhost:8080/"
        },
        "id": "Spz5i_-o81CA",
        "outputId": "404ec567-c06a-4832-f432-d0676b60cdd5"
      },
      "execution_count": 61,
      "outputs": [
        {
          "output_type": "stream",
          "name": "stdout",
          "text": [
            "['Tom', 'Jack', 'Kelly', 'Kate']\n",
            "['Kate', 'Kelly', 'Jack', 'Tom']\n"
          ]
        }
      ]
    },
    {
      "cell_type": "code",
      "source": [
        "nameList=[\"Tom\",\"Jack\",\"Kelly\",\"Kate\"]\n",
        "print(nameList)\n",
        "\n",
        "# pop()\n",
        "nameList.pop()\n",
        "print(nameList)"
      ],
      "metadata": {
        "colab": {
          "base_uri": "https://localhost:8080/"
        },
        "id": "LqeQpu-e9JkV",
        "outputId": "bdd6445d-da98-44e5-b099-7789a2471a3a"
      },
      "execution_count": 63,
      "outputs": [
        {
          "output_type": "stream",
          "name": "stdout",
          "text": [
            "['Tom', 'Jack', 'Kelly', 'Kate']\n",
            "['Tom', 'Jack', 'Kelly']\n"
          ]
        }
      ]
    },
    {
      "cell_type": "code",
      "source": [
        "nameList=[\"Tom\",\"Jack\",\"Kelly\",\"Kate\"]\n",
        "print(nameList)\n",
        "\n",
        "# pop()\n",
        "nameList.remove(\"Jack\")\n",
        "print(nameList)"
      ],
      "metadata": {
        "colab": {
          "base_uri": "https://localhost:8080/"
        },
        "id": "QBralJeG9U-E",
        "outputId": "9001bab0-05bc-4eac-955e-1c960da8013e"
      },
      "execution_count": 64,
      "outputs": [
        {
          "output_type": "stream",
          "name": "stdout",
          "text": [
            "['Tom', 'Jack', 'Kelly', 'Kate']\n",
            "['Tom', 'Kelly', 'Kate']\n"
          ]
        }
      ]
    },
    {
      "cell_type": "code",
      "source": [
        "        # 0  1  2  3  4\n",
        "ageList= [20,21,30,26,19]\n",
        "#\n",
        "maxAge = max(ageList)\n",
        "print(maxAge)"
      ],
      "metadata": {
        "colab": {
          "base_uri": "https://localhost:8080/"
        },
        "id": "OHRgMY8K9d3Y",
        "outputId": "c2619758-96ae-4a5d-8de9-096128475299"
      },
      "execution_count": 65,
      "outputs": [
        {
          "output_type": "stream",
          "name": "stdout",
          "text": [
            "30\n"
          ]
        }
      ]
    },
    {
      "cell_type": "code",
      "source": [
        "        # 0  1  2  3  4\n",
        "ageList= [20,21,30,26,19]\n",
        "#\n",
        "minAge = min(ageList)\n",
        "print(minAge)"
      ],
      "metadata": {
        "colab": {
          "base_uri": "https://localhost:8080/"
        },
        "id": "CYagnFyI9r-u",
        "outputId": "981475cc-0390-4cdb-97e3-7903e9b80984"
      },
      "execution_count": 66,
      "outputs": [
        {
          "output_type": "stream",
          "name": "stdout",
          "text": [
            "19\n"
          ]
        }
      ]
    },
    {
      "cell_type": "code",
      "source": [
        "# dictionary\n",
        "    # 0  1    2\n",
        "l1= [20,\"Tom\",136.6]\n",
        "print(l1[0])\n",
        "print(l1[1])"
      ],
      "metadata": {
        "colab": {
          "base_uri": "https://localhost:8080/"
        },
        "id": "ztrtyg8X-Oo7",
        "outputId": "81bee211-f2fe-4e75-c3f6-d19c1ce17456"
      },
      "execution_count": 69,
      "outputs": [
        {
          "output_type": "stream",
          "name": "stdout",
          "text": [
            "20\n",
            "Tom\n"
          ]
        }
      ]
    },
    {
      "cell_type": "code",
      "source": [
        "stu1d= { \"age\":20, \"name\":\"Tom\",\"weight\":136.6  }\n",
        "print(stu1d)"
      ],
      "metadata": {
        "colab": {
          "base_uri": "https://localhost:8080/"
        },
        "id": "Ba-Bs43X-5lg",
        "outputId": "ec9718be-b5dd-473d-956b-3f62195d89ee"
      },
      "execution_count": 70,
      "outputs": [
        {
          "output_type": "stream",
          "name": "stdout",
          "text": [
            "{'age': 20, 'name': 'Tom', 'weight': 136.6}\n"
          ]
        }
      ]
    },
    {
      "cell_type": "code",
      "source": [
        "item = stu1d[\"age\"]\n",
        "print(item)"
      ],
      "metadata": {
        "colab": {
          "base_uri": "https://localhost:8080/"
        },
        "id": "6vNtzMsv_y9F",
        "outputId": "75ed8db2-7bcb-4013-9ae8-e3c76f4d38e2"
      },
      "execution_count": 71,
      "outputs": [
        {
          "output_type": "stream",
          "name": "stdout",
          "text": [
            "20\n"
          ]
        }
      ]
    },
    {
      "cell_type": "code",
      "source": [
        "item = stu1d[\"name\"]\n",
        "print(item)"
      ],
      "metadata": {
        "colab": {
          "base_uri": "https://localhost:8080/"
        },
        "id": "k15rc_SR_8d7",
        "outputId": "a3884d2c-cbaf-4f78-fef8-2d202b84ea76"
      },
      "execution_count": 72,
      "outputs": [
        {
          "output_type": "stream",
          "name": "stdout",
          "text": [
            "Tom\n"
          ]
        }
      ]
    },
    {
      "cell_type": "code",
      "source": [
        "# keys() value()\n",
        "labels= stu1d.keys() # label key index\n",
        "labels = list(labels)\n",
        "print(labels)"
      ],
      "metadata": {
        "colab": {
          "base_uri": "https://localhost:8080/"
        },
        "id": "JK0E5ay4ANJM",
        "outputId": "295b9864-54a3-44b9-ad1d-52eb5754db09"
      },
      "execution_count": 74,
      "outputs": [
        {
          "output_type": "stream",
          "name": "stdout",
          "text": [
            "['age', 'name', 'weight']\n"
          ]
        }
      ]
    },
    {
      "cell_type": "code",
      "source": [
        "values = stu1d.values()\n",
        "values= list(values)\n",
        "print(values)"
      ],
      "metadata": {
        "colab": {
          "base_uri": "https://localhost:8080/"
        },
        "id": "Y86P0Cs9AiIV",
        "outputId": "a9daa593-a81f-42ae-bec0-2c712ce98ff2"
      },
      "execution_count": 77,
      "outputs": [
        {
          "output_type": "stream",
          "name": "stdout",
          "text": [
            "[20, 'Tom', 136.6]\n"
          ]
        }
      ]
    },
    {
      "cell_type": "code",
      "source": [
        "# tuples\n",
        "# tuple vs list: you could not change the value in a tuple after you created a tuple\n",
        "t1 = (20,21,30,26,19)\n",
        "print(t1)\n",
        "\n",
        "item = t1[1]\n",
        "print(item)\n"
      ],
      "metadata": {
        "colab": {
          "base_uri": "https://localhost:8080/"
        },
        "id": "8Nah2QpXA8y0",
        "outputId": "16a51d3c-543d-481d-e0eb-99b23df7d16b"
      },
      "execution_count": 79,
      "outputs": [
        {
          "output_type": "stream",
          "name": "stdout",
          "text": [
            "(20, 21, 30, 26, 19)\n",
            "21\n"
          ]
        }
      ]
    },
    {
      "cell_type": "code",
      "source": [
        "t1[1] = 22 # could not modify the value in the tuple"
      ],
      "metadata": {
        "colab": {
          "base_uri": "https://localhost:8080/",
          "height": 141
        },
        "id": "ku-clINSBTWd",
        "outputId": "e06fd745-3eed-419a-8dc5-ab79e462aea1"
      },
      "execution_count": 80,
      "outputs": [
        {
          "output_type": "error",
          "ename": "TypeError",
          "evalue": "'tuple' object does not support item assignment",
          "traceback": [
            "\u001b[0;31m---------------------------------------------------------------------------\u001b[0m",
            "\u001b[0;31mTypeError\u001b[0m                                 Traceback (most recent call last)",
            "\u001b[0;32m<ipython-input-80-bbb5799eac2e>\u001b[0m in \u001b[0;36m<cell line: 1>\u001b[0;34m()\u001b[0m\n\u001b[0;32m----> 1\u001b[0;31m \u001b[0mt1\u001b[0m\u001b[0;34m[\u001b[0m\u001b[0;36m1\u001b[0m\u001b[0;34m]\u001b[0m \u001b[0;34m=\u001b[0m \u001b[0;36m22\u001b[0m\u001b[0;34m\u001b[0m\u001b[0;34m\u001b[0m\u001b[0m\n\u001b[0m",
            "\u001b[0;31mTypeError\u001b[0m: 'tuple' object does not support item assignment"
          ]
        }
      ]
    },
    {
      "cell_type": "code",
      "source": [
        "n1 = len(t1)\n",
        "print(n1)"
      ],
      "metadata": {
        "colab": {
          "base_uri": "https://localhost:8080/"
        },
        "id": "2ejI7hFoBFHj",
        "outputId": "d7951900-8dfd-46b7-c86b-20eb6889bb11"
      },
      "execution_count": 81,
      "outputs": [
        {
          "output_type": "stream",
          "name": "stdout",
          "text": [
            "5\n"
          ]
        }
      ]
    },
    {
      "cell_type": "code",
      "source": [
        "# if else conditional statement\n",
        "g1 = 86.6\n",
        "print(\"You get A\")\n",
        "print(\"You do not get A\")"
      ],
      "metadata": {
        "colab": {
          "base_uri": "https://localhost:8080/"
        },
        "id": "W21KoQyFB8KE",
        "outputId": "29a92be7-b13b-4b2f-bb4c-7076b7e4c8f5"
      },
      "execution_count": 82,
      "outputs": [
        {
          "output_type": "stream",
          "name": "stdout",
          "text": [
            "You get A\n",
            "You do not get A\n"
          ]
        }
      ]
    },
    {
      "cell_type": "code",
      "source": [
        "g1 = 86.6\n",
        "if g1>=90:\n",
        "  print(\"A\")\n",
        "\n",
        "print(\"After the if else\")"
      ],
      "metadata": {
        "colab": {
          "base_uri": "https://localhost:8080/"
        },
        "id": "IKYc5hwqCPnn",
        "outputId": "01047f31-86ea-4149-e331-fbcb206b8a08"
      },
      "execution_count": 84,
      "outputs": [
        {
          "output_type": "stream",
          "name": "stdout",
          "text": [
            "After the if else\n"
          ]
        }
      ]
    },
    {
      "cell_type": "code",
      "source": [
        "g1 = 86.6\n",
        "if g1>=90:\n",
        "  print(\"A\")\n",
        "else:\n",
        "  print(\"Not A\")\n",
        "print(\"After the if else\")"
      ],
      "metadata": {
        "colab": {
          "base_uri": "https://localhost:8080/"
        },
        "id": "0rtCf5cvCmEG",
        "outputId": "ade0d0bc-3977-431d-91e3-86fa9a85d04e"
      },
      "execution_count": 85,
      "outputs": [
        {
          "output_type": "stream",
          "name": "stdout",
          "text": [
            "Not A\n",
            "After the if else\n"
          ]
        }
      ]
    },
    {
      "cell_type": "code",
      "source": [
        "g1 = 86.6\n",
        "if g1>=90:\n",
        "  print(\"A\")\n",
        "  print(\"congrats!\")\n",
        "elif g1>=80:\n",
        "  print(\"B\")\n",
        "  print(\"Hello\")\n",
        "elif g1>=70:\n",
        "  print(\"C\")\n",
        "else:\n",
        "  print(\"NOT ABC\")\n",
        "\n",
        "print(\"After the if else\")"
      ],
      "metadata": {
        "colab": {
          "base_uri": "https://localhost:8080/"
        },
        "id": "4loy1yW3Cxv-",
        "outputId": "62417c6c-163e-4dca-e7fd-d49136562ad4"
      },
      "execution_count": 86,
      "outputs": [
        {
          "output_type": "stream",
          "name": "stdout",
          "text": [
            "B\n",
            "Hello\n",
            "After the if else\n"
          ]
        }
      ]
    },
    {
      "cell_type": "code",
      "source": [
        "# loop\n",
        "# for loop\n",
        "nameList=[\"Tom\",\"Jack\",\"Kelly\",\"Kate\"]\n",
        "for item in nameList:\n",
        "  print(\"Hello\")\n",
        "  print(item)\n",
        "  print(\"\")"
      ],
      "metadata": {
        "colab": {
          "base_uri": "https://localhost:8080/"
        },
        "id": "GfaMIZC3Dp_l",
        "outputId": "6a33f477-5526-4501-dfd0-17d7fbe66683"
      },
      "execution_count": 88,
      "outputs": [
        {
          "output_type": "stream",
          "name": "stdout",
          "text": [
            "Hello\n",
            "Tom\n",
            "\n",
            "Hello\n",
            "Jack\n",
            "\n",
            "Hello\n",
            "Kelly\n",
            "\n",
            "Hello\n",
            "Kate\n",
            "\n"
          ]
        }
      ]
    },
    {
      "cell_type": "code",
      "source": [
        "# range()\n",
        "r1 = range(0,20,1) # 0 included 20 not included step 2\n",
        "\n",
        "l1 = list(r1)\n",
        "\n",
        "print(l1)"
      ],
      "metadata": {
        "colab": {
          "base_uri": "https://localhost:8080/"
        },
        "id": "Z4rPh2MDECoF",
        "outputId": "dcb1019d-1936-4267-b22d-1c0ffd08f90f"
      },
      "execution_count": 92,
      "outputs": [
        {
          "output_type": "stream",
          "name": "stdout",
          "text": [
            "[0, 1, 2, 3, 4, 5, 6, 7, 8, 9, 10, 11, 12, 13, 14, 15, 16, 17, 18, 19]\n"
          ]
        }
      ]
    },
    {
      "cell_type": "code",
      "source": [
        "for v in l1:\n",
        "  print(v)"
      ],
      "metadata": {
        "colab": {
          "base_uri": "https://localhost:8080/"
        },
        "id": "I07CN30cEVsy",
        "outputId": "64c3e192-a81b-4a75-a937-93b79b3185ca"
      },
      "execution_count": 93,
      "outputs": [
        {
          "output_type": "stream",
          "name": "stdout",
          "text": [
            "0\n",
            "1\n",
            "2\n",
            "3\n",
            "4\n",
            "5\n",
            "6\n",
            "7\n",
            "8\n",
            "9\n",
            "10\n",
            "11\n",
            "12\n",
            "13\n",
            "14\n",
            "15\n",
            "16\n",
            "17\n",
            "18\n",
            "19\n"
          ]
        }
      ]
    },
    {
      "cell_type": "code",
      "source": [
        "print(nameList)"
      ],
      "metadata": {
        "colab": {
          "base_uri": "https://localhost:8080/"
        },
        "id": "O-BJMn4NEeRz",
        "outputId": "8938a1af-8f02-4e1f-ab1a-e393b945a87f"
      },
      "execution_count": 94,
      "outputs": [
        {
          "output_type": "stream",
          "name": "stdout",
          "text": [
            "['Tom', 'Jack', 'Kelly', 'Kate']\n"
          ]
        }
      ]
    },
    {
      "cell_type": "code",
      "source": [
        "i =0\n",
        "while i<4:\n",
        "  print(nameList[i])\n",
        "  i = i+1 #"
      ],
      "metadata": {
        "colab": {
          "base_uri": "https://localhost:8080/"
        },
        "id": "2yPLQaFcEjG9",
        "outputId": "06e56b0c-ccbe-4001-f912-13d171ef4540"
      },
      "execution_count": 95,
      "outputs": [
        {
          "output_type": "stream",
          "name": "stdout",
          "text": [
            "Tom\n",
            "Jack\n",
            "Kelly\n",
            "Kate\n"
          ]
        }
      ]
    },
    {
      "cell_type": "code",
      "source": [
        "# strings\n",
        "str1 = \"This is ANLY 2500\" # '' \"\"\"  \"\"\"  '''  '''\n",
        "print(str1)"
      ],
      "metadata": {
        "colab": {
          "base_uri": "https://localhost:8080/"
        },
        "id": "IvVz8U_KFiN8",
        "outputId": "eabbb583-2826-4d14-fb1c-bd8bbcba0d68"
      },
      "execution_count": 96,
      "outputs": [
        {
          "output_type": "stream",
          "name": "stdout",
          "text": [
            "This is ANLY 2500\n"
          ]
        }
      ]
    },
    {
      "cell_type": "code",
      "source": [
        "str2 = \"T\\no\\tm\" # \\n special char, escape sequence \\t tab\n",
        "print(str2)\n",
        "\n",
        "n1 = len(str2)\n",
        "print(n1)"
      ],
      "metadata": {
        "colab": {
          "base_uri": "https://localhost:8080/"
        },
        "id": "dbzAlVSvFw_6",
        "outputId": "f5b1bcdf-04c4-4aef-9cd2-c0ef0508c3ce"
      },
      "execution_count": 100,
      "outputs": [
        {
          "output_type": "stream",
          "name": "stdout",
          "text": [
            "T\n",
            "o\tm\n",
            "5\n"
          ]
        }
      ]
    },
    {
      "cell_type": "code",
      "source": [
        "print(str1)"
      ],
      "metadata": {
        "colab": {
          "base_uri": "https://localhost:8080/"
        },
        "id": "dE1bNBwXGNmE",
        "outputId": "ac3e3aed-c218-4a48-ffe0-21724aa23e11"
      },
      "execution_count": 101,
      "outputs": [
        {
          "output_type": "stream",
          "name": "stdout",
          "text": [
            "This is ANLY 2500\n"
          ]
        }
      ]
    },
    {
      "cell_type": "code",
      "source": [
        "str3 = str1.upper()\n",
        "print(str3)"
      ],
      "metadata": {
        "colab": {
          "base_uri": "https://localhost:8080/"
        },
        "id": "PQYosuD2GPpR",
        "outputId": "0500943d-656b-47cc-f3b7-2635ee742a5b"
      },
      "execution_count": 102,
      "outputs": [
        {
          "output_type": "stream",
          "name": "stdout",
          "text": [
            "THIS IS ANLY 2500\n"
          ]
        }
      ]
    },
    {
      "cell_type": "code",
      "source": [
        "age1 = 20\n",
        "w1= 136.6\n",
        "g1 = 0.96"
      ],
      "metadata": {
        "id": "X848NH85GZbZ"
      },
      "execution_count": 103,
      "outputs": []
    },
    {
      "cell_type": "code",
      "source": [
        "str4= f\"Age is {age1}\\nWeight is {w1:.3f}\\nGrade is {g1:.2%}\"# format\n",
        "print(str4)"
      ],
      "metadata": {
        "colab": {
          "base_uri": "https://localhost:8080/"
        },
        "id": "PD_I-BHWGfmB",
        "outputId": "712a9b7c-d0ca-4eb3-c106-c6aa095c7814"
      },
      "execution_count": 109,
      "outputs": [
        {
          "output_type": "stream",
          "name": "stdout",
          "text": [
            "Age is 20\n",
            "Weight is 136.600\n",
            "Grade is 96.00%\n"
          ]
        }
      ]
    },
    {
      "cell_type": "code",
      "source": [
        "print(str1)\n",
        "b1 = str1.startswith(\"This\")\n",
        "print(b1)"
      ],
      "metadata": {
        "colab": {
          "base_uri": "https://localhost:8080/"
        },
        "id": "PkulrZKNHBl1",
        "outputId": "b3311635-e03b-48e9-bd46-09b7cdc9dcce"
      },
      "execution_count": 112,
      "outputs": [
        {
          "output_type": "stream",
          "name": "stdout",
          "text": [
            "This is ANLY 2500\n",
            "True\n"
          ]
        }
      ]
    },
    {
      "cell_type": "code",
      "source": [
        "# List practice\n",
        "# Q1\n",
        "brand_list = [\"Apple\",\"Samsung\",\"LG\",\"Apple\"]\n",
        "print(brand_list)"
      ],
      "metadata": {
        "colab": {
          "base_uri": "https://localhost:8080/"
        },
        "id": "lHsOOmeOJRzv",
        "outputId": "4c1b9b26-5f9a-4146-ab30-95f9270ad054"
      },
      "execution_count": 116,
      "outputs": [
        {
          "output_type": "stream",
          "name": "stdout",
          "text": [
            "['Apple', 'Samsung', 'LG', 'Apple']\n"
          ]
        }
      ]
    },
    {
      "cell_type": "code",
      "source": [
        "# Q2\n",
        "ram_list=[4,12,8,8]\n",
        "price_list=[900,899,600,1000]\n",
        "memory_list=[128,64,128,128]\n",
        "print(ram_list)\n",
        "print(price_list)\n",
        "print(memory_list)"
      ],
      "metadata": {
        "colab": {
          "base_uri": "https://localhost:8080/"
        },
        "id": "0S7X0TmnJu3O",
        "outputId": "a5cafea3-9ce6-44fb-a4a2-715f8c27e413"
      },
      "execution_count": 117,
      "outputs": [
        {
          "output_type": "stream",
          "name": "stdout",
          "text": [
            "[4, 12, 8, 8]\n",
            "[900, 899, 600, 1000]\n",
            "[128, 64, 128, 128]\n"
          ]
        }
      ]
    },
    {
      "cell_type": "code",
      "source": [
        "# Q3\n",
        "n1 = len(brand_list)\n",
        "str1= f\"There are {n1} brands in the brand list\"\n",
        "print(str1)"
      ],
      "metadata": {
        "colab": {
          "base_uri": "https://localhost:8080/"
        },
        "id": "rzC-C51pK9oN",
        "outputId": "ca843921-20fe-42d4-897c-6b00a969cae5"
      },
      "execution_count": 120,
      "outputs": [
        {
          "output_type": "stream",
          "name": "stdout",
          "text": [
            "There are 4 brands in the brand list\n"
          ]
        }
      ]
    },
    {
      "cell_type": "code",
      "source": [
        "# Q4:\n",
        "maxPrice = max(price_list)\n",
        "minPrice =min(price_list)\n",
        "str1 = f\"The maximum price is ${maxPrice:.2f}\" #f: fixed digits after the decimal point\n",
        "print(str1)\n",
        "\n",
        "str2= f\"The minimum price is ${minPrice:.3f}\"\n",
        "print(str2)"
      ],
      "metadata": {
        "colab": {
          "base_uri": "https://localhost:8080/"
        },
        "id": "UD5xTDT7LRMy",
        "outputId": "b63b7366-f2dd-4302-eac4-4bde0cfc8be8"
      },
      "execution_count": 127,
      "outputs": [
        {
          "output_type": "stream",
          "name": "stdout",
          "text": [
            "The maximum price is $1000.00\n",
            "The minimum price is $600.000\n"
          ]
        }
      ]
    },
    {
      "cell_type": "code",
      "source": [
        "# Q5:\n",
        "# 0 1 2 3\n",
        "ram = ram_list[2] #\n",
        "str1 = f\"The third RAM is {ram} GB\"\n",
        "print(str1)"
      ],
      "metadata": {
        "colab": {
          "base_uri": "https://localhost:8080/"
        },
        "id": "UR0PRja2L8H9",
        "outputId": "69fd0d19-db1c-4f14-b0d6-58847ca34b38"
      },
      "execution_count": 130,
      "outputs": [
        {
          "output_type": "stream",
          "name": "stdout",
          "text": [
            "The third RAM is 8 GB\n"
          ]
        }
      ]
    },
    {
      "cell_type": "code",
      "source": [
        "# Q6\n",
        "l1 = price_list[0:3]\n",
        "str1 = f\"The first three items in the price list is {l1}\"\n",
        "print(str1)\n"
      ],
      "metadata": {
        "colab": {
          "base_uri": "https://localhost:8080/"
        },
        "id": "S93qKp55MUED",
        "outputId": "6a338b35-d737-4fa4-980b-c687e002dad1"
      },
      "execution_count": 132,
      "outputs": [
        {
          "output_type": "stream",
          "name": "stdout",
          "text": [
            "The first three items in the price list is [900, 899, 600]\n"
          ]
        }
      ]
    },
    {
      "cell_type": "code",
      "source": [
        "# Q7\n",
        "#item = brand_list[3]\n",
        "item = brand_list[-1]\n",
        "str1 = f\"The last brand is : {item}\"\n",
        "\n",
        "print(str1)"
      ],
      "metadata": {
        "colab": {
          "base_uri": "https://localhost:8080/"
        },
        "id": "gCDAqEC_MtBy",
        "outputId": "1e348d38-cff7-4b10-ced8-e42ff3919b2b"
      },
      "execution_count": 136,
      "outputs": [
        {
          "output_type": "stream",
          "name": "stdout",
          "text": [
            "The last brand is : Apple\n"
          ]
        }
      ]
    },
    {
      "cell_type": "code",
      "source": [
        "# Q8\n",
        "brand_list = [\"Apple\",\"Samsung\",\"LG\",\"Apple\"]\n",
        "brand_list.pop()\n",
        "str1 = f\"After we removed the last item, the new brand list is: {brand_list}\"\n",
        "print(str1)"
      ],
      "metadata": {
        "colab": {
          "base_uri": "https://localhost:8080/"
        },
        "id": "1W76ZDjfND6v",
        "outputId": "dfbc7f5c-c062-4613-8f54-88651373d0f7"
      },
      "execution_count": 139,
      "outputs": [
        {
          "output_type": "stream",
          "name": "stdout",
          "text": [
            "After we removed the last item, the new brand list is: ['Apple', 'Samsung', 'LG']\n"
          ]
        }
      ]
    },
    {
      "cell_type": "code",
      "source": [
        "# Q9\n",
        "brand_list.append(\"Motorola\")\n",
        "str1 = f\"After we add one item, the brand list is: {brand_list}\"\n",
        "print(str1)"
      ],
      "metadata": {
        "colab": {
          "base_uri": "https://localhost:8080/"
        },
        "id": "ysSFTXqZNwKQ",
        "outputId": "df25838d-cbb3-4695-e1c3-cb4b241d7a14"
      },
      "execution_count": 140,
      "outputs": [
        {
          "output_type": "stream",
          "name": "stdout",
          "text": [
            "After we add one item, the brand list is: ['Apple', 'Samsung', 'LG', 'Motorola']\n"
          ]
        }
      ]
    },
    {
      "cell_type": "code",
      "source": [
        "# tuple\n",
        "#Q1\n",
        "storage= (32,64,128,256)\n",
        "str1 = f\"The tuple is: {storage}\"\n",
        "print(str1)"
      ],
      "metadata": {
        "colab": {
          "base_uri": "https://localhost:8080/"
        },
        "id": "ZCTWUneQOi5M",
        "outputId": "abec6de1-538a-4e97-b9c3-7ef3a922a7f4"
      },
      "execution_count": 142,
      "outputs": [
        {
          "output_type": "stream",
          "name": "stdout",
          "text": [
            "The tuple is: (32, 64, 128, 256)\n"
          ]
        }
      ]
    },
    {
      "cell_type": "code",
      "source": [
        "#Q2\n",
        "item = storage[1]\n",
        "str1 = f\"The second item in the tuple is: {item}\"\n",
        "print(str1)"
      ],
      "metadata": {
        "colab": {
          "base_uri": "https://localhost:8080/"
        },
        "id": "7JQ5PSsrOvPY",
        "outputId": "811f642f-d703-4bcc-dfa0-5914e8623599"
      },
      "execution_count": 143,
      "outputs": [
        {
          "output_type": "stream",
          "name": "stdout",
          "text": [
            "The second item in the tuple is: 64\n"
          ]
        }
      ]
    },
    {
      "cell_type": "code",
      "source": [
        "# Q3\n",
        "storage[1] = 60 # tuple is immutable\n"
      ],
      "metadata": {
        "colab": {
          "base_uri": "https://localhost:8080/",
          "height": 159
        },
        "id": "X-y9vrSJPdAO",
        "outputId": "66ad7421-60c2-4cfa-e89e-c6ef627ddf31"
      },
      "execution_count": 144,
      "outputs": [
        {
          "output_type": "error",
          "ename": "TypeError",
          "evalue": "'tuple' object does not support item assignment",
          "traceback": [
            "\u001b[0;31m---------------------------------------------------------------------------\u001b[0m",
            "\u001b[0;31mTypeError\u001b[0m                                 Traceback (most recent call last)",
            "\u001b[0;32m<ipython-input-144-c979d638aa9b>\u001b[0m in \u001b[0;36m<cell line: 2>\u001b[0;34m()\u001b[0m\n\u001b[1;32m      1\u001b[0m \u001b[0;31m# Q3\u001b[0m\u001b[0;34m\u001b[0m\u001b[0;34m\u001b[0m\u001b[0m\n\u001b[0;32m----> 2\u001b[0;31m \u001b[0mstorage\u001b[0m\u001b[0;34m[\u001b[0m\u001b[0;36m1\u001b[0m\u001b[0;34m]\u001b[0m \u001b[0;34m=\u001b[0m \u001b[0;36m60\u001b[0m\u001b[0;34m\u001b[0m\u001b[0;34m\u001b[0m\u001b[0m\n\u001b[0m",
            "\u001b[0;31mTypeError\u001b[0m: 'tuple' object does not support item assignment"
          ]
        }
      ]
    },
    {
      "cell_type": "code",
      "source": [
        "# dictionary\n",
        "# Q1\n",
        "d1 = {\"Brand\":\"Apple\",\"Price\":800,\"RAM\":4,\"Storage\":128 }\n",
        "\n",
        "str1 = f\"The dictionary is : {d1}\"\n",
        "\n",
        "print(str1)"
      ],
      "metadata": {
        "colab": {
          "base_uri": "https://localhost:8080/"
        },
        "id": "6qWTaWgSQFAb",
        "outputId": "61e3d5a0-0b08-48ef-98ca-fc344b64b171"
      },
      "execution_count": 146,
      "outputs": [
        {
          "output_type": "stream",
          "name": "stdout",
          "text": [
            "The dictionary is : {'Brand': 'Apple', 'Price': 800, 'RAM': 4, 'Storage': 128}\n"
          ]
        }
      ]
    },
    {
      "cell_type": "code",
      "source": [
        "# Q2\n",
        "price = d1[\"Price\"]\n",
        "\n",
        "str1 = f\"The price is ${price}\"\n",
        "\n",
        "print(str1)"
      ],
      "metadata": {
        "colab": {
          "base_uri": "https://localhost:8080/"
        },
        "id": "a-jho51mQkPh",
        "outputId": "a51c8b0b-0789-4180-a934-58deac36ad36"
      },
      "execution_count": 148,
      "outputs": [
        {
          "output_type": "stream",
          "name": "stdout",
          "text": [
            "The price is $800\n"
          ]
        }
      ]
    },
    {
      "cell_type": "code",
      "source": [
        "# Q3:\n",
        "d1[\"Price\"] = 900\n",
        "\n",
        "str1 = f\"The new price is ${d1['Price']}\"\n",
        "print(str1)"
      ],
      "metadata": {
        "colab": {
          "base_uri": "https://localhost:8080/"
        },
        "id": "FLbgkyKzQxrx",
        "outputId": "15e50a9a-e0ef-4c1e-b591-01c4b39d7d34"
      },
      "execution_count": 149,
      "outputs": [
        {
          "output_type": "stream",
          "name": "stdout",
          "text": [
            "The new price is $900\n"
          ]
        }
      ]
    },
    {
      "cell_type": "code",
      "source": [
        "#Q4\n",
        "products={\n",
        "    \"brand\":brand_list,\n",
        "    \"price\":price_list,\n",
        "    \"ram\":ram_list,\n",
        "    \"storage\":memory_list\n",
        "}\n",
        "print(products)"
      ],
      "metadata": {
        "colab": {
          "base_uri": "https://localhost:8080/"
        },
        "id": "2DlSEGQMRHi1",
        "outputId": "0cd4e55f-0ee4-4048-b9af-266b00bc79c2"
      },
      "execution_count": 150,
      "outputs": [
        {
          "output_type": "stream",
          "name": "stdout",
          "text": [
            "{'brand': ['Apple', 'Samsung', 'LG', 'Motorola'], 'price': [900, 899, 600, 1000], 'ram': [4, 12, 8, 8], 'storage': [128, 64, 128, 128]}\n"
          ]
        }
      ]
    },
    {
      "cell_type": "code",
      "source": [
        "# Q5\n",
        "labels = products.keys()\n",
        "\n",
        "labels = list(labels)\n",
        "\n",
        "print(labels)"
      ],
      "metadata": {
        "colab": {
          "base_uri": "https://localhost:8080/"
        },
        "id": "s2AtBv7lRdR-",
        "outputId": "faf501cc-727c-491f-a5ef-37b4d440e8e0"
      },
      "execution_count": 152,
      "outputs": [
        {
          "output_type": "stream",
          "name": "stdout",
          "text": [
            "['brand', 'price', 'ram', 'storage']\n"
          ]
        }
      ]
    },
    {
      "cell_type": "code",
      "source": [
        "values=products.values()\n",
        "\n",
        "values=list(values)\n",
        "\n",
        "print(values)"
      ],
      "metadata": {
        "colab": {
          "base_uri": "https://localhost:8080/"
        },
        "id": "4JkXaCz4Rn-V",
        "outputId": "f4e3ca54-4e64-41ed-a77d-59f5b10db847"
      },
      "execution_count": 154,
      "outputs": [
        {
          "output_type": "stream",
          "name": "stdout",
          "text": [
            "[['Apple', 'Samsung', 'LG', 'Motorola'], [900, 899, 600, 1000], [4, 12, 8, 8], [128, 64, 128, 128]]\n"
          ]
        }
      ]
    },
    {
      "cell_type": "code",
      "source": [
        "# if else\n",
        "# Q1\n",
        "# 900\n",
        "budget = 600\n",
        "if budget>=900:\n",
        "  print(\"You can buy the Apple iPhone.\")\n",
        "  print(\"You have enought budget!\")\n",
        "else:\n",
        "  print(\"Sorry!\")\n",
        "  print(\"You do not have enough budget!\")\n"
      ],
      "metadata": {
        "colab": {
          "base_uri": "https://localhost:8080/"
        },
        "id": "rJQCUNd7SVzr",
        "outputId": "3cd987a1-6619-4360-e9d7-d98c6cec79c0"
      },
      "execution_count": 157,
      "outputs": [
        {
          "output_type": "stream",
          "name": "stdout",
          "text": [
            "Sorry!\n",
            "You do not have enough budget!\n"
          ]
        }
      ]
    },
    {
      "cell_type": "code",
      "source": [
        "# Q2\n",
        "print(\"Please input the internal storage size (32, 64, or 128): \")\n",
        "ssize = input() # string\n",
        "ssize = int(ssize)\n",
        "\n",
        "if ssize==32:\n",
        "  price=600\n",
        "  print(f\"The price is ${price:.2f}\")\n",
        "elif ssize ==64:\n",
        "  price=700\n",
        "  print(f\"The price is ${price:.2f}\")\n",
        "elif ssize==128:\n",
        "  price=900\n",
        "  print(f\"The price is ${price:.2f}\")\n",
        "else:\n",
        "  print(f\"No price for this internal storage size {ssize} GB\")"
      ],
      "metadata": {
        "colab": {
          "base_uri": "https://localhost:8080/"
        },
        "id": "SewhoOs4TMHS",
        "outputId": "46ac0211-c19a-4933-f0f5-af06de2418bd"
      },
      "execution_count": 163,
      "outputs": [
        {
          "output_type": "stream",
          "name": "stdout",
          "text": [
            "Please input the internal storage size (32, 64, or 128): \n",
            "256\n",
            "No price for this internal storage size 256 GB\n"
          ]
        }
      ]
    },
    {
      "cell_type": "code",
      "source": [
        "# Loop\n",
        "# for loop\n",
        "discount_list=[0.05, 0.1, 0.15,0.2]"
      ],
      "metadata": {
        "id": "wVKIM-JOUvgI"
      },
      "execution_count": 165,
      "outputs": []
    },
    {
      "cell_type": "code",
      "source": [
        "# for loop\n",
        "price = 900\n",
        "for discount in discount_list:\n",
        "  newPrice=price- price*discount\n",
        "  print(f\"After {discount:.2%} discount, the new price is: ${newPrice:.2f}\")"
      ],
      "metadata": {
        "colab": {
          "base_uri": "https://localhost:8080/"
        },
        "id": "lEr_Ca9mU3-d",
        "outputId": "ba94f272-c2ab-47c4-f5bf-88414182c7b7"
      },
      "execution_count": 170,
      "outputs": [
        {
          "output_type": "stream",
          "name": "stdout",
          "text": [
            "After 5.00% discount, the new price is: $855.00\n",
            "After 10.00% discount, the new price is: $810.00\n",
            "After 15.00% discount, the new price is: $765.00\n",
            "After 20.00% discount, the new price is: $720.00\n"
          ]
        }
      ]
    },
    {
      "cell_type": "code",
      "source": [
        "# while loop\n",
        "i = 0\n",
        "price=900\n",
        "while i<=3:\n",
        "  discount=discount_list[i]\n",
        "  newPrice=price-price*discount\n",
        "  print(f\"After {discount:.2%} discount, the new price is: ${newPrice:.2f}\")\n",
        "  i=i+1"
      ],
      "metadata": {
        "colab": {
          "base_uri": "https://localhost:8080/"
        },
        "id": "I9H1UVkNVjNq",
        "outputId": "5b7b3233-4271-4fc5-e248-03d03ca4afcd"
      },
      "execution_count": 172,
      "outputs": [
        {
          "output_type": "stream",
          "name": "stdout",
          "text": [
            "After 5.00% discount, the new price is: $855.00\n",
            "After 10.00% discount, the new price is: $810.00\n",
            "After 15.00% discount, the new price is: $765.00\n",
            "After 20.00% discount, the new price is: $720.00\n"
          ]
        }
      ]
    }
  ]
}