{
  "nbformat": 4,
  "nbformat_minor": 0,
  "metadata": {
    "colab": {
      "provenance": []
    },
    "kernelspec": {
      "name": "python3",
      "display_name": "Python 3"
    },
    "language_info": {
      "name": "python"
    }
  },
  "cells": [
    {
      "cell_type": "code",
      "execution_count": null,
      "metadata": {
        "colab": {
          "base_uri": "https://localhost:8080/"
        },
        "id": "45pE6PbOgcQE",
        "outputId": "6a85c86f-4ee6-48e8-c3db-a5bd7a2c072a"
      },
      "outputs": [
        {
          "output_type": "stream",
          "name": "stdout",
          "text": [
            "Hello\n"
          ]
        }
      ],
      "source": [
        "# review: comment\n",
        "print(\"Hello\") # this is the code. line of code. statement.\n"
      ]
    },
    {
      "cell_type": "code",
      "source": [
        "# datatypes\n",
        "# hotels F11\n",
        "# room types\n",
        "# int float bool string\n",
        "# int: 4B\n",
        "# float: 8B\n",
        "# bool: True False\n",
        "# string: \"Tom\" 'Kelly'\n",
        "\n",
        "# Two resources: CPU and RAM\n",
        "# CPU: calculation\n",
        "# RAM: store data (RAM is not hard drive)\n",
        "\n",
        "# CPU: 3+4*2 expression\n",
        "# RAM: variable\n",
        "\n",
        "# define variables: 2 rules\n",
        "# 1. letter number _\n",
        "# 2. start with letter or _ (not start with number)\n",
        "\n",
        "# assignment\n",
        "age1 = 23+1 # one line code. statement. assignment statemnet.\n",
        "# =\n",
        "# 2\n",
        "# step 1: right hand side\n",
        "# step 2: 24\n",
        "print(age1) # function (machine) vs function call (press the button)\n",
        "# print function\n",
        "# print(...) call ingredients, parameters\n",
        "\n",
        "# + - * / // % **: arithmetic\n",
        "# =\n",
        "r1 = 2**3 # assignment\n",
        "# r1 is in the RAM\n",
        "print(r1)"
      ],
      "metadata": {
        "colab": {
          "base_uri": "https://localhost:8080/"
        },
        "id": "GquCPpSXhQGK",
        "outputId": "6dec9da1-838f-4cb7-880e-3c611f632d6e"
      },
      "execution_count": null,
      "outputs": [
        {
          "output_type": "stream",
          "name": "stdout",
          "text": [
            "24\n",
            "8\n"
          ]
        }
      ]
    },
    {
      "cell_type": "code",
      "source": [
        "# functions\n",
        "age1 = 20\n",
        "w1=136.6\n",
        "g1= 0.966\n",
        "print(age1,end=\"\\n***\\n\") #\n",
        "print(w1,end=\"###\")\n",
        "print(g1,end=\"\\n\")\n",
        "\n",
        "print(age1,w1,g1) #\n",
        "# 3 ingredient: 1. water 2. sugar 3. flour\n",
        "str1 =f\"The age is\\t\\t {age1}.\\n The weight is {w1:.4f}.\\n The grade is {g1:.2%}\" # format\n",
        "print(str1)"
      ],
      "metadata": {
        "colab": {
          "base_uri": "https://localhost:8080/"
        },
        "id": "KWtDPBoEoDaP",
        "outputId": "4d638b9d-c7f1-405f-ca93-8c80dd5a1ca5"
      },
      "execution_count": null,
      "outputs": [
        {
          "output_type": "stream",
          "name": "stdout",
          "text": [
            "20\n",
            "***\n",
            "136.6###0.966\n",
            "20 136.6 0.966\n",
            "The age is\t\t 20.\n",
            " The weight is 136.6000.\n",
            " The grade is 96.60%\n"
          ]
        }
      ]
    },
    {
      "cell_type": "code",
      "source": [
        "#\n",
        "str1 = \"T\\no\\tm\" # special char, escape squence \\n \\t\n",
        "\n",
        "n1 = len(str1)\n",
        "print(n1)\n",
        "print(str1)"
      ],
      "metadata": {
        "colab": {
          "base_uri": "https://localhost:8080/"
        },
        "id": "p2hlUWWCrGzW",
        "outputId": "5f1554a3-05fb-4036-af22-df2d86e58b32"
      },
      "execution_count": null,
      "outputs": [
        {
          "output_type": "stream",
          "name": "stdout",
          "text": [
            "5\n",
            "T\n",
            "o\tm\n"
          ]
        }
      ]
    },
    {
      "cell_type": "code",
      "source": [
        "# input()\n",
        "# input function\n",
        "# input()\n",
        "# string\n",
        "print(\"Please input an age: \")\n",
        "str1 = input() # function call\n",
        "\n",
        "age1 = int(str1) #\n",
        "\n",
        "age1 = age1+2 #assignment\n",
        "\n",
        "str2 = f\"After two years, the age will be {age1}\"\n",
        "\n",
        "print(str2)\n"
      ],
      "metadata": {
        "colab": {
          "base_uri": "https://localhost:8080/"
        },
        "id": "FVNxetgkv7SU",
        "outputId": "b0ded299-de91-433b-f597-424ae90c09b4"
      },
      "execution_count": null,
      "outputs": [
        {
          "output_type": "stream",
          "name": "stdout",
          "text": [
            "Please input an age: \n",
            "10\n",
            "After two years, the age will be 12\n"
          ]
        }
      ]
    },
    {
      "cell_type": "code",
      "source": [
        "str2 = \"12\" # 2B not an integer\n"
      ],
      "metadata": {
        "id": "a0nywvngxPRM"
      },
      "execution_count": null,
      "outputs": []
    },
    {
      "cell_type": "code",
      "source": [
        "# comparison operators\n",
        "# < > <= >= == != # result in bool\n",
        "b1 = 2<3 # True False\n",
        "print(b1) # ctrl c"
      ],
      "metadata": {
        "colab": {
          "base_uri": "https://localhost:8080/"
        },
        "id": "4fV8yX4wz8UI",
        "outputId": "8d1d92ec-2e99-4a3e-9c44-8a479ed7165c"
      },
      "execution_count": null,
      "outputs": [
        {
          "output_type": "stream",
          "name": "stdout",
          "text": [
            "True\n"
          ]
        }
      ]
    },
    {
      "cell_type": "code",
      "source": [
        "b1 = 2<=3 # True False less than or equal to\n",
        "print(b1) # ctrl v"
      ],
      "metadata": {
        "colab": {
          "base_uri": "https://localhost:8080/"
        },
        "id": "K8WX4r_Y1e20",
        "outputId": "980fd946-36c4-4ff0-ee16-bdde2f31f185"
      },
      "execution_count": null,
      "outputs": [
        {
          "output_type": "stream",
          "name": "stdout",
          "text": [
            "True\n"
          ]
        }
      ]
    },
    {
      "cell_type": "code",
      "source": [
        "b1 = 3==3 # True False\n",
        "print(b1)"
      ],
      "metadata": {
        "colab": {
          "base_uri": "https://localhost:8080/"
        },
        "id": "UpNa1DwN10Br",
        "outputId": "3c78d678-f40a-45b1-f1d9-5a549c89346a"
      },
      "execution_count": null,
      "outputs": [
        {
          "output_type": "stream",
          "name": "stdout",
          "text": [
            "True\n"
          ]
        }
      ]
    },
    {
      "cell_type": "code",
      "source": [
        "b1 = 2!=3 # True False\n",
        "print(b1)"
      ],
      "metadata": {
        "colab": {
          "base_uri": "https://localhost:8080/"
        },
        "id": "E5JxEWkv2OJA",
        "outputId": "44e68a96-256f-4662-acd4-54c46fc0c8bc"
      },
      "execution_count": null,
      "outputs": [
        {
          "output_type": "stream",
          "name": "stdout",
          "text": [
            "True\n"
          ]
        }
      ]
    },
    {
      "cell_type": "code",
      "source": [
        "# conditional statement (if else)\n",
        "\n",
        "g1 = 86.6 #\n",
        "\n",
        "print(g1>=90)\n",
        "\n",
        "if g1>=90:\n",
        "  print(\"Cograts!\")\n",
        "  print(\"You get A!\")\n",
        "\n",
        "print(\"This is after the if else\") # ctrl c\n",
        "#print(\"You get A\")\n",
        "#print(\"You do not get A\")\n"
      ],
      "metadata": {
        "colab": {
          "base_uri": "https://localhost:8080/"
        },
        "id": "LWuynzpb2uUI",
        "outputId": "35ff9267-250e-4844-c10c-60bd70b6e297"
      },
      "execution_count": null,
      "outputs": [
        {
          "output_type": "stream",
          "name": "stdout",
          "text": [
            "False\n",
            "This is after the if else\n"
          ]
        }
      ]
    },
    {
      "cell_type": "code",
      "source": [
        "g1 = 90 #\n",
        "\n",
        "print(g1>=90)\n",
        "\n",
        "if g1>=90:\n",
        "  print(\"Cograts!\")\n",
        "  print(\"You get A!\")\n",
        "\n",
        "print(\"This is after the if else\")"
      ],
      "metadata": {
        "colab": {
          "base_uri": "https://localhost:8080/"
        },
        "id": "tOF2GI8U4f4f",
        "outputId": "e3f02d69-49e5-4e7c-d754-27a19b3eaf7b"
      },
      "execution_count": null,
      "outputs": [
        {
          "output_type": "stream",
          "name": "stdout",
          "text": [
            "True\n",
            "Cograts!\n",
            "You get A!\n",
            "This is after the if else\n"
          ]
        }
      ]
    },
    {
      "cell_type": "code",
      "source": [
        "g1 = 86.6 #\n",
        "\n",
        "print(g1>=90)\n",
        "\n",
        "if g1>=90:\n",
        "  print(\"Cograts!\")\n",
        "  print(\"You get A!\")\n",
        "else:\n",
        "  print(\"You need to work hard\")\n",
        "  print(\"You do not get A.\")\n",
        "\n",
        "print(\"This is after the if else\")"
      ],
      "metadata": {
        "colab": {
          "base_uri": "https://localhost:8080/"
        },
        "id": "Ti7-yHyI44vb",
        "outputId": "e7947b7e-a64e-4dc5-cc83-c32f94fe8bde"
      },
      "execution_count": null,
      "outputs": [
        {
          "output_type": "stream",
          "name": "stdout",
          "text": [
            "False\n",
            "You need to work hard\n",
            "You do not get A.\n",
            "This is after the if else\n"
          ]
        }
      ]
    },
    {
      "cell_type": "code",
      "source": [
        "g1 = 86.6 #\n",
        "\n",
        "print(g1>=90)\n",
        "\n",
        "if g1>=90:\n",
        "  print(\"Cograts!\")\n",
        "  print(\"You get A!\")\n",
        "elif g1>=80:\n",
        "  print(\"B\")\n",
        "elif g1>=70:\n",
        "  print(\"C\")\n",
        "else:\n",
        "  print(\"You need to work hard\")\n",
        "  print(\"You do not get A.\")\n",
        "\n",
        "print(\"This is after the if else\")"
      ],
      "metadata": {
        "colab": {
          "base_uri": "https://localhost:8080/"
        },
        "id": "JfCCjEzV5jR8",
        "outputId": "c1340fc9-259c-477b-a62f-e1f609e3d421"
      },
      "execution_count": null,
      "outputs": [
        {
          "output_type": "stream",
          "name": "stdout",
          "text": [
            "False\n",
            "B\n",
            "This is after the if else\n"
          ]
        }
      ]
    },
    {
      "cell_type": "code",
      "source": [
        "# list\n",
        "# grade\n",
        "# float\n",
        "g1 = 96.6\n",
        "g2 = 86.6\n",
        "\n",
        "#\n",
        "l1 = [ 86.6, 90.6, 80, 70 ]#"
      ],
      "metadata": {
        "id": "i0IwdTRR6ZK0"
      },
      "execution_count": null,
      "outputs": []
    }
  ]
}