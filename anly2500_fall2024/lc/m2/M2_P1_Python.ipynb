{
  "nbformat": 4,
  "nbformat_minor": 0,
  "metadata": {
    "colab": {
      "provenance": []
    },
    "kernelspec": {
      "name": "python3",
      "display_name": "Python 3"
    },
    "language_info": {
      "name": "python"
    }
  },
  "cells": [
    {
      "cell_type": "code",
      "execution_count": null,
      "metadata": {
        "colab": {
          "base_uri": "https://localhost:8080/"
        },
        "id": "fYXJd3LJoMST",
        "outputId": "920a65ea-3ca0-4cd5-a2af-f18b3e72084e"
      },
      "outputs": [
        {
          "output_type": "stream",
          "name": "stdout",
          "text": [
            "Hello Anly 2500 Python Programming\n"
          ]
        }
      ],
      "source": [
        "print(\"Hello Anly 2500 Python Programming\") # ctrl s to save the code"
      ]
    },
    {
      "cell_type": "code",
      "source": [
        "# code\n",
        "# comment\n",
        "# what is programming (language)?\n",
        "# language: be understood by the computer\n",
        "# command to the computer and the computer can understand it. execute them.\n",
        "\n",
        "# many programming languages: Python, C#, C/C++, Java, JavaScript\n",
        "# Python is very popular in data science\n",
        "# one line of code\n",
        "# after is not code. comment.\n",
        "# By far, we only one line of code.\n"
      ],
      "metadata": {
        "id": "m6wqtz64qO8A"
      },
      "execution_count": null,
      "outputs": []
    },
    {
      "cell_type": "code",
      "source": [
        "print(\"Second line of code\") # print function, print() is a function call\n",
        "# a function is a machine. Coffee maker is a function\n",
        "# a function call. press the button on the coffee maker.\n",
        "print(\"This is the third line\") # paramters (ingredients)"
      ],
      "metadata": {
        "colab": {
          "base_uri": "https://localhost:8080/"
        },
        "id": "VKB691GYtqWC",
        "outputId": "14edb42d-fb00-41c2-9fcd-e8a9f583c72c"
      },
      "execution_count": null,
      "outputs": [
        {
          "output_type": "stream",
          "name": "stdout",
          "text": [
            "Second line of code\n",
            "This is the third line\n"
          ]
        }
      ]
    },
    {
      "cell_type": "code",
      "source": [
        "# F11 3 lines of codes\n",
        "# Two resources: CPU and RAM (computer memory)\n",
        "# CPU: to the calculation for us\n",
        "# RAM: to store the data"
      ],
      "metadata": {
        "id": "OILR3eVGuyat"
      },
      "execution_count": null,
      "outputs": []
    },
    {
      "cell_type": "code",
      "source": [
        "#two resources: CPU and RAM\n",
        "# CPU: expressions\n",
        "# RAM: variables\n",
        "print(3*6) #3*6 an expression\n",
        "print(100+2-3) # 100+2-3 is an expression, expression to be excecuted by CPU\n"
      ],
      "metadata": {
        "colab": {
          "base_uri": "https://localhost:8080/"
        },
        "id": "NYv-f2uavzto",
        "outputId": "0d1119e5-239f-40d5-c7c0-4422c83bb43c"
      },
      "execution_count": null,
      "outputs": [
        {
          "output_type": "stream",
          "name": "stdout",
          "text": [
            "18\n",
            "99\n"
          ]
        }
      ]
    },
    {
      "cell_type": "code",
      "source": [
        "# variables and assignment operator\n",
        "age1 = 20 # very important line of code\n",
        "# varaible is called age1\n",
        "# = is called assignement operator. = helps us to store data into the Computer RAM\n",
        "# 20\n",
        "# age1: left hand side\n",
        "# =\n",
        "# right hand side\n",
        "# two steps:\n",
        "# step 1: execute the right hand side\n",
        "# step 2: store or put the right hand side (20) into RAM\n",
        "#"
      ],
      "metadata": {
        "id": "-2wwvMmXwn_8"
      },
      "execution_count": null,
      "outputs": []
    },
    {
      "cell_type": "code",
      "source": [
        "# more about assginment\n",
        "r1 = 2+3-9 # = assignment operator\n",
        "# assignment (statement)\n",
        "# two steps: right hand side\n",
        "# store the result from the right hand side into the variable on the left hand side\n",
        "# 2+3-9: expression, CPU execute the expression\n",
        "print(r1)"
      ],
      "metadata": {
        "colab": {
          "base_uri": "https://localhost:8080/"
        },
        "id": "Xmh2vYoAyS-1",
        "outputId": "b6f0d753-b9d8-412f-d698-611dd1f9fbde"
      },
      "execution_count": null,
      "outputs": [
        {
          "output_type": "stream",
          "name": "stdout",
          "text": [
            "-4\n"
          ]
        }
      ]
    },
    {
      "cell_type": "code",
      "source": [
        "# datatypes and variable naming rules\n",
        "# 2 rules: letters numbers _ Start with letter or _ Do not start a variable with numbers\n",
        "age1= 20\n",
        "age2=19\n",
        "age_3=21\n",
        "_age2=22\n",
        "\n",
        "#2age = 23\n",
        "\n",
        "print(_age2)\n",
        "\n",
        "# datatypes: hotel, public storage place\n",
        "# room types in the hotel: make better use of the resources\n",
        "# int: 0 1 2 -2 -9, 4B\n",
        "# float: 128.8 26.6, 8B\n",
        "# bool: True or False\n",
        "# string: \"I like python\"\n",
        "\n",
        "w1 = 128.8\n",
        "print(w1)\n"
      ],
      "metadata": {
        "colab": {
          "base_uri": "https://localhost:8080/"
        },
        "id": "e-5fEOIRzjq1",
        "outputId": "79590aa8-8491-47a5-951e-117aa0485846"
      },
      "execution_count": null,
      "outputs": [
        {
          "output_type": "stream",
          "name": "stdout",
          "text": [
            "22\n",
            "128.8\n"
          ]
        }
      ]
    },
    {
      "cell_type": "code",
      "source": [
        "# bool string\n",
        "# bool : True False\n",
        "isA = True\n",
        "print(isA)"
      ],
      "metadata": {
        "colab": {
          "base_uri": "https://localhost:8080/"
        },
        "id": "62AsWzDYAoDh",
        "outputId": "72506071-68c9-46bd-ddbf-bf2e91b4de3b"
      },
      "execution_count": 1,
      "outputs": [
        {
          "output_type": "stream",
          "name": "stdout",
          "text": [
            "True\n"
          ]
        }
      ]
    },
    {
      "cell_type": "code",
      "source": [
        "# string:a pair of '' \"\" ''' ''' \"\"\" \"\"\"\n",
        "age1 = 20\n",
        "\n",
        "name1= \"Dave\" # \"\" Dave is the string value \"\" is not included\n",
        "name2='Tom'\n",
        "\n",
        "print(name1)\n",
        "print(name2)"
      ],
      "metadata": {
        "colab": {
          "base_uri": "https://localhost:8080/"
        },
        "id": "0wWzkSksA1V9",
        "outputId": "e024ff5d-8dbf-4e60-fafc-8620f04a4700"
      },
      "execution_count": 3,
      "outputs": [
        {
          "output_type": "stream",
          "name": "stdout",
          "text": [
            "Dave\n",
            "Tom\n"
          ]
        }
      ]
    },
    {
      "cell_type": "code",
      "source": [
        "# arithmetic operators\n",
        "# + - * / ** // %\n",
        "r1 = 2+3-4*2 # assignment\n",
        "# 2+3-4*2 expression CPU\n",
        "print(r1)\n",
        "\n",
        "# ** raise power\n",
        "r2 = 3**4 # 3*3*3*3\n",
        "print(r2)\n",
        "\n",
        "# // get the integer part\n",
        "r3 = 17/3\n",
        "print(r3)\n",
        "\n",
        "r4 = 17//3\n",
        "print(r4)\n",
        "\n",
        "# % reminder\n",
        "r5 = 17%3\n",
        "print(r5)"
      ],
      "metadata": {
        "colab": {
          "base_uri": "https://localhost:8080/"
        },
        "id": "R0R1nNSYBk4_",
        "outputId": "7d4c5da3-ab8b-40de-b270-aec7a2a8cbf8"
      },
      "execution_count": 13,
      "outputs": [
        {
          "output_type": "stream",
          "name": "stdout",
          "text": [
            "-3\n",
            "81\n",
            "5.666666666666667\n",
            "5\n",
            "2\n"
          ]
        }
      ]
    },
    {
      "cell_type": "code",
      "source": [
        "# variables & id() type()\n",
        "\n",
        "v1 = 2*3-6+2\n",
        "print(v1) # int\n",
        "# some space in the RAM\n",
        "\n",
        "v2 = 2.3/2\n",
        "print(v2) # float\n",
        "\n",
        "# id() : it will produce the address on the card\n",
        "print( id(v1)  )\n",
        "print( id(v2) )# the address in the RAM is a positive number\n",
        "\n",
        "# type() : get the datatype (room type) of a variable\n",
        "\n",
        "print( type(v1)  )\n",
        "print( type(v2) )"
      ],
      "metadata": {
        "colab": {
          "base_uri": "https://localhost:8080/"
        },
        "id": "zqgblK3HERWU",
        "outputId": "33b51126-0d4b-444d-f98c-b2674a24c376"
      },
      "execution_count": 18,
      "outputs": [
        {
          "output_type": "stream",
          "name": "stdout",
          "text": [
            "2\n",
            "1.15\n",
            "138425825362192\n",
            "138425529578352\n",
            "<class 'int'>\n",
            "<class 'float'>\n"
          ]
        }
      ]
    },
    {
      "cell_type": "code",
      "source": [
        "# q1: Suppose the store sells an Apple iPhone (4GB, 128GB) for $900. Store this information in the variables price, brand, ram, and storage.\n",
        "# paste: ctrl v\n",
        "price = 900\n",
        "print(900)\n",
        "\n",
        "print( type(price) )\n",
        "print( id(price) )\n",
        "\n",
        "brand = \"Apple iPhone\"\n",
        "print( type(brand) )\n",
        "print( id(brand) )"
      ],
      "metadata": {
        "colab": {
          "base_uri": "https://localhost:8080/"
        },
        "id": "vPNXpmURG2Ar",
        "outputId": "4abdd908-c09a-4670-8409-c4adeb814b4d"
      },
      "execution_count": 21,
      "outputs": [
        {
          "output_type": "stream",
          "name": "stdout",
          "text": [
            "900\n",
            "<class 'int'>\n",
            "138424544296368\n",
            "<class 'str'>\n",
            "138424542654768\n"
          ]
        }
      ]
    },
    {
      "cell_type": "code",
      "source": [
        "ram = 4.0 #\n",
        "print(ram)\n",
        "print(type(ram))"
      ],
      "metadata": {
        "colab": {
          "base_uri": "https://localhost:8080/"
        },
        "id": "mmisiqQkHhuJ",
        "outputId": "2bc54982-c809-4eb7-8912-506e53d92b2e"
      },
      "execution_count": 22,
      "outputs": [
        {
          "output_type": "stream",
          "name": "stdout",
          "text": [
            "4.0\n",
            "<class 'float'>\n"
          ]
        }
      ]
    },
    {
      "cell_type": "code",
      "source": [
        "storage = 128\n",
        "print(storage)\n",
        "print(  type(storage)  )"
      ],
      "metadata": {
        "colab": {
          "base_uri": "https://localhost:8080/"
        },
        "id": "OnPpp4YcHvqw",
        "outputId": "a89a5c4f-fda2-419b-ce22-0e02a5b58c11"
      },
      "execution_count": 23,
      "outputs": [
        {
          "output_type": "stream",
          "name": "stdout",
          "text": [
            "128\n",
            "<class 'int'>\n"
          ]
        }
      ]
    },
    {
      "cell_type": "code",
      "source": [
        "# Q2: Q2: Let’s assume the store wants to save the billing status of the aforementioned iPhone in a boolean variable. Write Python code to implement this.\n",
        "# ctrl v to paste what you copied\n",
        "isBilled = False\n",
        "print(isBilled)\n",
        "print( type(isBilled) )\n",
        "print( id(isBilled) )"
      ],
      "metadata": {
        "colab": {
          "base_uri": "https://localhost:8080/"
        },
        "id": "3mTH0A9SIka_",
        "outputId": "eec8727c-49a6-4413-c8bc-e184398002d5"
      },
      "execution_count": 25,
      "outputs": [
        {
          "output_type": "stream",
          "name": "stdout",
          "text": [
            "False\n",
            "<class 'bool'>\n",
            "102127563625472\n"
          ]
        }
      ]
    },
    {
      "cell_type": "code",
      "source": [
        "# Q3: Check the data types of the variables price, brand, ram, and storage\n",
        "\n",
        "print( type(price) )\n",
        "print( type(brand) )\n",
        "print( type(ram) )\n",
        "print( type(storage) )\n"
      ],
      "metadata": {
        "colab": {
          "base_uri": "https://localhost:8080/"
        },
        "id": "f0e4btWlKUB5",
        "outputId": "ac504cb2-4717-46d1-942d-487c4d961a18"
      },
      "execution_count": 26,
      "outputs": [
        {
          "output_type": "stream",
          "name": "stdout",
          "text": [
            "<class 'int'>\n",
            "<class 'str'>\n",
            "<class 'float'>\n",
            "<class 'int'>\n"
          ]
        }
      ]
    },
    {
      "cell_type": "code",
      "source": [
        "# Q4: Suppose a customer purchases two Apple iPhones (4GB, 128GB) at a price of $900 each. What will be the total amount the customer needs to pay?\n",
        "\n",
        "print(price)\n",
        "\n",
        "# way 1\n",
        "totalAmount = 900*2\n",
        "print(totalAmount)\n",
        "\n",
        "# way 2\n",
        "totalAmount = price*2 # assignment\n",
        "# step 1 and step 2\n",
        "print(totalAmount)\n"
      ],
      "metadata": {
        "colab": {
          "base_uri": "https://localhost:8080/"
        },
        "id": "pWQxwIUrKqFl",
        "outputId": "309ec681-a8f6-4449-d694-2f628a891e8c"
      },
      "execution_count": 29,
      "outputs": [
        {
          "output_type": "stream",
          "name": "stdout",
          "text": [
            "900\n",
            "1800\n",
            "1800\n"
          ]
        }
      ]
    },
    {
      "cell_type": "code",
      "source": [
        "# Q5: Suppose the store offers a $15 discount on the Apple iPhone (4GB, 128GB), which is originally priced at $900. What will be the iPhone's price after applying the discount?\n",
        "\n",
        "dPrice = price - 15\n",
        "print(dPrice)\n",
        "print( type(dPrice) )"
      ],
      "metadata": {
        "colab": {
          "base_uri": "https://localhost:8080/"
        },
        "id": "VOmd_hqjLt4I",
        "outputId": "4dcd74d0-a565-4c93-c1bd-6baac97b803c"
      },
      "execution_count": 30,
      "outputs": [
        {
          "output_type": "stream",
          "name": "stdout",
          "text": [
            "885\n",
            "<class 'int'>\n"
          ]
        }
      ]
    },
    {
      "cell_type": "code",
      "source": [
        "# Q6: Suppose a customer purchases two Apple iPhones (4GB, 128GB) and pays a total bill of $1800. Write a Python code to determine the price of each Apple iPhone.\n",
        "\n",
        "totalCost = 1800.0\n",
        "priceEach = totalCost/2\n",
        "print(priceEach)\n",
        "\n",
        "print( type(priceEach) )\n"
      ],
      "metadata": {
        "colab": {
          "base_uri": "https://localhost:8080/"
        },
        "id": "qT86nty5Mou5",
        "outputId": "090b6a31-e33d-4719-f7e9-45764f2d0f57"
      },
      "execution_count": 31,
      "outputs": [
        {
          "output_type": "stream",
          "name": "stdout",
          "text": [
            "900.0\n",
            "<class 'float'>\n"
          ]
        }
      ]
    },
    {
      "cell_type": "code",
      "source": [
        "# Q7: Suppose a customer purchases a certain number of Apple iPhones (4GB, 128GB) at a price of $900 each. The total amount the customer pays is $3600. Write a Python program to determine the value of n, which represents the number of iPhones purchased.\n",
        "\n",
        "totalCost = 3600\n",
        "price=900\n",
        "\n",
        "n = totalCost/price\n",
        "print(n)\n"
      ],
      "metadata": {
        "colab": {
          "base_uri": "https://localhost:8080/"
        },
        "id": "jmdxOFk1NHSq",
        "outputId": "d86c57e2-f8be-4cf3-9c2d-918675e39a27"
      },
      "execution_count": 32,
      "outputs": [
        {
          "output_type": "stream",
          "name": "stdout",
          "text": [
            "4.0\n"
          ]
        }
      ]
    },
    {
      "cell_type": "code",
      "source": [
        "# Q8: Suppose the store plans to offer a 4.5% discount on the Apple iPhone. What will the price of the phone be after applying the discount?\n",
        "\n",
        "price = 900\n",
        "discoutRate=4.5/100 # 0.045\n",
        "discount = price*discoutRate\n",
        "print(discount)\n",
        "\n",
        "newPrice= price - discount\n",
        "print(newPrice)\n",
        "\n",
        "print(type(newPrice))"
      ],
      "metadata": {
        "colab": {
          "base_uri": "https://localhost:8080/"
        },
        "id": "-k6j_A4SNg5f",
        "outputId": "bf754fa0-4f58-4d5f-cc95-4a9b65c9b334"
      },
      "execution_count": 34,
      "outputs": [
        {
          "output_type": "stream",
          "name": "stdout",
          "text": [
            "40.5\n",
            "859.5\n",
            "<class 'float'>\n"
          ]
        }
      ]
    }
  ]
}