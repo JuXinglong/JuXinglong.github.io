{
 "cells": [
  {
   "cell_type": "markdown",
   "metadata": {},
   "source": [
    "## **Put your name and student ID here**"
   ]
  },
  {
   "cell_type": "markdown",
   "metadata": {
    "id": "LIFBBdz5k-sX"
   },
   "source": [
    "# **NumPy**\n",
    "\n",
    "*NumPy is the fundamental library for scientific computing with Python. NumPy is centered around a powerful N-dimensional array object, and it also contains useful linear algebra, Fourier transform, and random number functions.*"
   ]
  },
  {
   "cell_type": "code",
   "metadata": {
    "collapsed": false,
    "jupyter": {
     "outputs_hidden": false
    },
    "ExecuteTime": {
     "end_time": "2024-09-17T04:18:40.277790Z",
     "start_time": "2024-09-17T04:18:40.275035Z"
    }
   },
   "source": [],
   "outputs": [],
   "execution_count": null
  },
  {
   "cell_type": "markdown",
   "metadata": {
    "collapsed": false,
    "jupyter": {
     "outputs_hidden": false
    }
   },
   "source": [
    "## 2D"
   ]
  },
  {
   "cell_type": "code",
   "metadata": {
    "collapsed": false,
    "jupyter": {
     "outputs_hidden": false
    },
    "ExecuteTime": {
     "end_time": "2024-09-17T04:18:40.347702Z",
     "start_time": "2024-09-17T04:18:40.345808Z"
    }
   },
   "source": [],
   "outputs": [],
   "execution_count": null
  },
  {
   "cell_type": "markdown",
   "metadata": {
    "collapsed": false,
    "jupyter": {
     "outputs_hidden": false
    }
   },
   "source": [
    "## arange()"
   ]
  },
  {
   "cell_type": "code",
   "metadata": {
    "collapsed": false,
    "jupyter": {
     "outputs_hidden": false
    },
    "ExecuteTime": {
     "end_time": "2024-09-17T04:18:40.370319Z",
     "start_time": "2024-09-17T04:18:40.367708Z"
    }
   },
   "source": [],
   "outputs": [],
   "execution_count": null
  },
  {
   "cell_type": "markdown",
   "metadata": {
    "collapsed": false,
    "jupyter": {
     "outputs_hidden": false
    }
   },
   "source": [
    "## reshape() indexing"
   ]
  },
  {
   "cell_type": "code",
   "metadata": {
    "collapsed": false,
    "jupyter": {
     "outputs_hidden": false
    },
    "ExecuteTime": {
     "end_time": "2024-09-17T04:18:40.610837Z",
     "start_time": "2024-09-17T04:18:40.608396Z"
    }
   },
   "source": [],
   "outputs": [],
   "execution_count": null
  },
  {
   "cell_type": "markdown",
   "metadata": {
    "collapsed": false,
    "jupyter": {
     "outputs_hidden": false
    }
   },
   "source": [
    "## mean() max() min() sum()"
   ]
  },
  {
   "cell_type": "code",
   "metadata": {
    "collapsed": false,
    "jupyter": {
     "outputs_hidden": false
    },
    "ExecuteTime": {
     "end_time": "2024-09-17T04:18:40.679291Z",
     "start_time": "2024-09-17T04:18:40.676771Z"
    }
   },
   "source": [],
   "outputs": [],
   "execution_count": null
  },
  {
   "cell_type": "markdown",
   "metadata": {
    "collapsed": false,
    "jupyter": {
     "outputs_hidden": false
    }
   },
   "source": [
    "## linspace()"
   ]
  },
  {
   "cell_type": "code",
   "metadata": {
    "collapsed": false,
    "jupyter": {
     "outputs_hidden": false
    },
    "ExecuteTime": {
     "end_time": "2024-09-17T04:18:40.823866Z",
     "start_time": "2024-09-17T04:18:40.821331Z"
    }
   },
   "source": [],
   "outputs": [],
   "execution_count": null
  },
  {
   "cell_type": "code",
   "metadata": {
    "collapsed": false,
    "jupyter": {
     "outputs_hidden": false
    },
    "ExecuteTime": {
     "end_time": "2024-09-17T04:18:40.967997Z",
     "start_time": "2024-09-17T04:18:40.966191Z"
    }
   },
   "source": [],
   "outputs": [],
   "execution_count": null
  },
  {
   "cell_type": "code",
   "metadata": {
    "collapsed": false,
    "jupyter": {
     "outputs_hidden": false
    },
    "ExecuteTime": {
     "end_time": "2024-09-17T04:18:41.095177Z",
     "start_time": "2024-09-17T04:18:41.093029Z"
    }
   },
   "source": [],
   "outputs": [],
   "execution_count": null
  },
  {
   "cell_type": "code",
   "metadata": {
    "collapsed": false,
    "jupyter": {
     "outputs_hidden": false
    },
    "ExecuteTime": {
     "end_time": "2024-09-17T04:18:41.210369Z",
     "start_time": "2024-09-17T04:18:41.207770Z"
    }
   },
   "source": [],
   "outputs": [],
   "execution_count": null
  },
  {
   "cell_type": "code",
   "metadata": {
    "collapsed": false,
    "jupyter": {
     "outputs_hidden": false
    },
    "ExecuteTime": {
     "end_time": "2024-09-17T04:18:41.346938Z",
     "start_time": "2024-09-17T04:18:41.345166Z"
    }
   },
   "source": [],
   "outputs": [],
   "execution_count": null
  },
  {
   "cell_type": "markdown",
   "metadata": {
    "id": "Sc3AVYTAk-sa"
   },
   "source": [
    "# Creating Arrays"
   ]
  },
  {
   "cell_type": "markdown",
   "metadata": {
    "id": "5ifDKHX3k-sa"
   },
   "source": [
    "Now let's import `numpy`. Most people import it as `np`:"
   ]
  },
  {
   "cell_type": "code",
   "metadata": {
    "id": "UbTuYfq_k-sb",
    "ExecuteTime": {
     "end_time": "2024-09-17T04:18:41.466380Z",
     "start_time": "2024-09-17T04:18:41.463966Z"
    }
   },
   "source": [],
   "outputs": [],
   "execution_count": null
  },
  {
   "cell_type": "markdown",
   "metadata": {
    "id": "Silc91dGk-sb"
   },
   "source": [
    "## `np.zeros`"
   ]
  },
  {
   "cell_type": "markdown",
   "metadata": {
    "id": "L3CE6J0ok-sc"
   },
   "source": [
    "The `zeros` function creates an array containing any number of zeros:"
   ]
  },
  {
   "cell_type": "code",
   "metadata": {
    "id": "OpfBOIkqk-sc",
    "outputId": "5f3e98a2-80e0-40b3-8f1d-97b1b889de38",
    "ExecuteTime": {
     "end_time": "2024-09-17T04:18:41.568477Z",
     "start_time": "2024-09-17T04:18:41.565848Z"
    }
   },
   "source": [],
   "outputs": [],
   "execution_count": null
  },
  {
   "cell_type": "code",
   "metadata": {
    "collapsed": false,
    "jupyter": {
     "outputs_hidden": false
    },
    "ExecuteTime": {
     "end_time": "2024-09-17T04:18:41.690599Z",
     "start_time": "2024-09-17T04:18:41.688348Z"
    }
   },
   "source": [],
   "outputs": [],
   "execution_count": null
  },
  {
   "cell_type": "markdown",
   "metadata": {
    "id": "Ly4apKNkk-sd"
   },
   "source": [
    "It's just as easy to create a 2D array (i.e. a matrix) by providing a tuple with the desired number of rows and columns. For example, here's a 3x4 matrix:"
   ]
  },
  {
   "cell_type": "code",
   "metadata": {
    "id": "f1gqzESYk-sd",
    "outputId": "66cf0845-9683-45dd-fbe3-153f21a5ec12",
    "ExecuteTime": {
     "end_time": "2024-09-17T04:18:41.827608Z",
     "start_time": "2024-09-17T04:18:41.824999Z"
    }
   },
   "source": [],
   "outputs": [],
   "execution_count": null
  },
  {
   "cell_type": "markdown",
   "metadata": {
    "id": "aDzR8wD7k-sd"
   },
   "source": [
    "## Some vocabulary\n",
    "\n",
    "* In NumPy, each dimension is called an **axis**.\n",
    "* The number of axes is called the **rank**.\n",
    "    * For example, the above 3x4 matrix is an array of rank 2 (it is 2-dimensional).\n",
    "    * The first axis has length 3, the second has length 4.\n",
    "* An array's list of axis lengths is called the **shape** of the array.\n",
    "    * For example, the above matrix's shape is `(3, 4)`.\n",
    "    * The rank is equal to the shape's length.\n",
    "* The **size** of an array is the total number of elements, which is the product of all axis lengths (e.g. 3*4=12)"
   ]
  },
  {
   "cell_type": "code",
   "metadata": {
    "id": "QKt_wchmk-se",
    "outputId": "9e933399-5732-499d-fd4e-10da605dc9b1",
    "ExecuteTime": {
     "end_time": "2024-09-17T04:18:41.940159Z",
     "start_time": "2024-09-17T04:18:41.937635Z"
    }
   },
   "source": [],
   "outputs": [],
   "execution_count": null
  },
  {
   "cell_type": "code",
   "metadata": {
    "id": "Hek46pbxk-se",
    "outputId": "b3eb58c0-3c6b-4a0b-9eb4-34d90c84886f",
    "ExecuteTime": {
     "end_time": "2024-09-17T04:18:42.150769Z",
     "start_time": "2024-09-17T04:18:42.148536Z"
    }
   },
   "source": [],
   "outputs": [],
   "execution_count": null
  },
  {
   "cell_type": "code",
   "metadata": {
    "id": "9Nqxg15yk-se",
    "outputId": "ed69bbf3-6347-44af-d68c-f9b1954513bf",
    "ExecuteTime": {
     "end_time": "2024-09-17T04:18:42.255684Z",
     "start_time": "2024-09-17T04:18:42.253091Z"
    }
   },
   "source": [],
   "outputs": [],
   "execution_count": null
  },
  {
   "cell_type": "code",
   "metadata": {
    "id": "ZxM6QTYDk-se",
    "outputId": "9ec197de-2730-4046-86cd-7240dfb3d9ae",
    "ExecuteTime": {
     "end_time": "2024-09-17T04:18:42.275824Z",
     "start_time": "2024-09-17T04:18:42.273945Z"
    }
   },
   "source": [],
   "outputs": [],
   "execution_count": null
  },
  {
   "cell_type": "markdown",
   "metadata": {
    "id": "eV_R9N0Fk-se"
   },
   "source": [
    "## N-dimensional arrays\n",
    "You can also create an N-dimensional array of arbitrary rank. For example, here's a 3D array (rank=3), with shape `(2,3,4)`:"
   ]
  },
  {
   "cell_type": "code",
   "metadata": {
    "id": "C0cuKN3dk-sf",
    "outputId": "2e4d40ce-a15b-4154-eeca-336c3d56dbe0",
    "ExecuteTime": {
     "end_time": "2024-09-17T04:18:42.382819Z",
     "start_time": "2024-09-17T04:18:42.380393Z"
    }
   },
   "source": [],
   "outputs": [],
   "execution_count": null
  },
  {
   "cell_type": "markdown",
   "metadata": {
    "id": "ilzdviC5k-sf"
   },
   "source": [
    "## Array type\n",
    "NumPy arrays have the type `ndarray`s:"
   ]
  },
  {
   "cell_type": "code",
   "metadata": {
    "id": "PujRm9kSk-sf",
    "outputId": "9ffe5895-e2ff-4a94-9438-16817ab29296",
    "ExecuteTime": {
     "end_time": "2024-09-17T04:18:42.517999Z",
     "start_time": "2024-09-17T04:18:42.516405Z"
    }
   },
   "source": [],
   "outputs": [],
   "execution_count": null
  },
  {
   "cell_type": "markdown",
   "metadata": {
    "id": "qFgOVZopk-sf"
   },
   "source": [
    "## `np.ones`\n",
    "Many other NumPy functions create `ndarray`s.\n",
    "\n",
    "Here's a 3x4 matrix full of ones:"
   ]
  },
  {
   "cell_type": "code",
   "metadata": {
    "id": "82sZw-1ak-sf",
    "outputId": "0947e0cd-ab13-4bcc-f21f-2b4ffba5771b",
    "ExecuteTime": {
     "end_time": "2024-09-17T04:18:42.619083Z",
     "start_time": "2024-09-17T04:18:42.617178Z"
    }
   },
   "source": [],
   "outputs": [],
   "execution_count": null
  },
  {
   "cell_type": "markdown",
   "metadata": {
    "id": "L_krMO9Fk-sf"
   },
   "source": [
    "## `np.full`\n",
    "Creates an array of the given shape initialized with the given value. Here's a 3x4 matrix full of `π`."
   ]
  },
  {
   "cell_type": "code",
   "metadata": {
    "id": "gQF86CV3k-sg",
    "outputId": "ba0a98aa-ba5f-4fa6-ff10-e8a7dbd9a795",
    "ExecuteTime": {
     "end_time": "2024-09-17T04:18:42.727202Z",
     "start_time": "2024-09-17T04:18:42.725286Z"
    }
   },
   "source": [],
   "outputs": [],
   "execution_count": null
  },
  {
   "cell_type": "markdown",
   "metadata": {
    "id": "bblQBCDgk-sg"
   },
   "source": [
    "## `np.empty`\n",
    "An uninitialized 2x3 array (its content is not predictable, as it is whatever is in memory at that point):"
   ]
  },
  {
   "cell_type": "code",
   "metadata": {
    "id": "DK-f3Qajk-sg",
    "outputId": "32de9c11-5d3e-48e2-b836-5cf1e7183780",
    "scrolled": true,
    "ExecuteTime": {
     "end_time": "2024-09-17T04:18:42.838258Z",
     "start_time": "2024-09-17T04:18:42.835757Z"
    }
   },
   "source": [],
   "outputs": [],
   "execution_count": null
  },
  {
   "cell_type": "markdown",
   "metadata": {
    "id": "zupy78bvk-sg"
   },
   "source": [
    "## np.array\n",
    "Of course, you can initialize an `ndarray` using a regular python array. Just call the `array` function:"
   ]
  },
  {
   "cell_type": "code",
   "metadata": {
    "id": "ls3N07ikk-sg",
    "outputId": "97fbd806-af21-486b-c533-30373a74c5fd",
    "ExecuteTime": {
     "end_time": "2024-09-17T04:18:42.965531Z",
     "start_time": "2024-09-17T04:18:42.963723Z"
    }
   },
   "source": [],
   "outputs": [],
   "execution_count": null
  },
  {
   "cell_type": "markdown",
   "metadata": {
    "id": "RHdTHcNZk-sg"
   },
   "source": [
    "## `np.arange`\n",
    "You can create an `ndarray` using NumPy's `arange` function, which is similar to python's built-in `range` function:"
   ]
  },
  {
   "cell_type": "code",
   "metadata": {
    "id": "ZRdhM8Cmk-sg",
    "outputId": "ceec4e50-071d-426c-c3d4-e3d5b3881807",
    "scrolled": true,
    "ExecuteTime": {
     "end_time": "2024-09-17T04:18:42.992146Z",
     "start_time": "2024-09-17T04:18:42.990016Z"
    }
   },
   "source": [],
   "outputs": [],
   "execution_count": null
  },
  {
   "cell_type": "markdown",
   "metadata": {
    "id": "cQ1JxYH6k-sh"
   },
   "source": [
    "It also works with floats:"
   ]
  },
  {
   "cell_type": "code",
   "metadata": {
    "id": "yn0Wfy3jk-sh",
    "outputId": "a88d6892-bb8e-4eed-ab57-3dcf4f9bbf29",
    "ExecuteTime": {
     "end_time": "2024-09-17T04:18:43.104703Z",
     "start_time": "2024-09-17T04:18:43.102286Z"
    }
   },
   "source": [],
   "outputs": [],
   "execution_count": null
  },
  {
   "cell_type": "markdown",
   "metadata": {
    "id": "wTx8Rujtk-sh"
   },
   "source": [
    "Of course, you can provide a step parameter:"
   ]
  },
  {
   "cell_type": "code",
   "metadata": {
    "id": "aVm7bHCLk-sh",
    "outputId": "328acf96-1e69-4941-cac9-a14ed5e27e24",
    "ExecuteTime": {
     "end_time": "2024-09-17T04:18:43.133764Z",
     "start_time": "2024-09-17T04:18:43.131296Z"
    }
   },
   "source": [],
   "outputs": [],
   "execution_count": null
  },
  {
   "cell_type": "markdown",
   "metadata": {
    "id": "86unAUZqk-sh"
   },
   "source": [
    "However, when dealing with floats, the exact number of elements in the array is not always predictable. For example, consider this:"
   ]
  },
  {
   "cell_type": "code",
   "metadata": {
    "id": "yg0GyWuVk-sh",
    "outputId": "ce3a3cc1-cfd0-4b08-c1e7-179f6fdf7665",
    "ExecuteTime": {
     "end_time": "2024-09-17T04:18:43.245945Z",
     "start_time": "2024-09-17T04:18:43.242964Z"
    }
   },
   "source": [
    "# import numpy as np\n",
    "# print(np.arange(0, 5/3, 1/3)) # depending on floating point errors, the max value is 4/3 or 5/3.\n",
    "# print(np.arange(0, 5/3, 0.333333333))\n",
    "# print(np.arange(0, 5/3, 0.333333334))\n"
   ],
   "outputs": [],
   "execution_count": 1
  },
  {
   "cell_type": "markdown",
   "metadata": {
    "id": "c4oq01ifk-sh"
   },
   "source": [
    "## `np.linspace`\n",
    "For this reason, it is generally preferable to use the `linspace` function instead of `arange` when working with floats. The `linspace` function returns an array containing a specific number of points evenly distributed between two values (note that the maximum value is *included*, contrary to `arange`):"
   ]
  },
  {
   "cell_type": "code",
   "metadata": {
    "id": "YvLyC95ak-sh",
    "outputId": "04816678-989b-4460-f869-537bba376aaa",
    "ExecuteTime": {
     "end_time": "2024-09-17T04:18:43.435251Z",
     "start_time": "2024-09-17T04:18:43.432805Z"
    }
   },
   "source": [],
   "outputs": [],
   "execution_count": null
  },
  {
   "cell_type": "markdown",
   "metadata": {
    "id": "Br1ft8_lk-si"
   },
   "source": [
    "## `np.rand` and `np.randn`\n",
    "A number of functions are available in NumPy's `random` module to create `ndarray`s initialized with random values.\n",
    "For example, here is a 3x4 matrix initialized with random floats between 0 and 1 (uniform distribution):"
   ]
  },
  {
   "cell_type": "code",
   "metadata": {
    "id": "mioJqEPIk-si",
    "outputId": "feb85d0d-aaf2-414c-c581-853d9fd56ed8",
    "ExecuteTime": {
     "end_time": "2024-09-17T04:18:43.529406Z",
     "start_time": "2024-09-17T04:18:43.527273Z"
    }
   },
   "source": [],
   "outputs": [],
   "execution_count": null
  },
  {
   "cell_type": "markdown",
   "metadata": {
    "id": "CWls3FqMk-si"
   },
   "source": [
    "Here's a 3x4 matrix containing random floats sampled from a univariate [normal distribution](https://en.wikipedia.org/wiki/Normal_distribution) (Gaussian distribution) of mean 0 and variance 1:"
   ]
  },
  {
   "cell_type": "code",
   "metadata": {
    "id": "vBQo33dZk-si",
    "outputId": "18a669d8-46b6-4798-8cda-2b862cf58135",
    "ExecuteTime": {
     "end_time": "2024-09-17T04:18:43.557631Z",
     "start_time": "2024-09-17T04:18:43.555312Z"
    }
   },
   "source": [],
   "outputs": [],
   "execution_count": null
  },
  {
   "cell_type": "markdown",
   "metadata": {
    "id": "KyivMRJnk-si"
   },
   "source": [
    "## np.fromfunction\n",
    "You can also initialize an `ndarray` using a function:"
   ]
  },
  {
   "cell_type": "code",
   "metadata": {
    "id": "4A2RfSqsk-si",
    "outputId": "84aea7a7-0469-4e4d-f91d-daf0b4ac350d",
    "ExecuteTime": {
     "end_time": "2024-09-17T04:18:43.657085Z",
     "start_time": "2024-09-17T04:18:43.654939Z"
    }
   },
   "source": [],
   "outputs": [],
   "execution_count": null
  },
  {
   "cell_type": "markdown",
   "metadata": {
    "id": "jgz9pdVQk-sj"
   },
   "source": [
    "NumPy first creates three `ndarray`s (one per dimension), each of shape `(3, 2, 10)`. Each array has values equal to the coordinate along a specific axis. For example, all elements in the `z` array are equal to their z-coordinate:\n",
    "\n",
    "    [[[ 0.  0.  0.  0.  0.  0.  0.  0.  0.  0.]\n",
    "      [ 0.  0.  0.  0.  0.  0.  0.  0.  0.  0.]]\n",
    "    \n",
    "     [[ 1.  1.  1.  1.  1.  1.  1.  1.  1.  1.]\n",
    "      [ 1.  1.  1.  1.  1.  1.  1.  1.  1.  1.]]\n",
    "    \n",
    "     [[ 2.  2.  2.  2.  2.  2.  2.  2.  2.  2.]\n",
    "      [ 2.  2.  2.  2.  2.  2.  2.  2.  2.  2.]]]\n",
    "\n",
    "So the terms `x`, `y` and `z` in the expression `x + 10 * y + 100 * z` above are in fact `ndarray`s (we will discuss arithmetic operations on arrays below).  The point is that the function `my_function` is only called *once*, instead of once per element. This makes initialization very efficient."
   ]
  },
  {
   "cell_type": "markdown",
   "metadata": {
    "id": "Xexwktb2k-sj"
   },
   "source": [
    "# Array data\n",
    "## `dtype`\n",
    "NumPy's `ndarray`s are also efficient in part because all their elements must have the same type (usually numbers).\n",
    "You can check what the data type is by looking at the `dtype` attribute:"
   ]
  },
  {
   "cell_type": "code",
   "metadata": {
    "id": "oTveu3a6k-sj",
    "outputId": "39df8b73-db2a-40a3-9239-e87f9a2d69df",
    "scrolled": true,
    "ExecuteTime": {
     "end_time": "2024-09-17T04:18:43.692694Z",
     "start_time": "2024-09-17T04:18:43.690065Z"
    }
   },
   "source": [],
   "outputs": [],
   "execution_count": null
  },
  {
   "cell_type": "code",
   "metadata": {
    "id": "_JT7HVUek-sj",
    "outputId": "a82309f6-49f8-4ffd-ad1e-f3e2d00fd598",
    "ExecuteTime": {
     "end_time": "2024-09-17T04:18:43.799116Z",
     "start_time": "2024-09-17T04:18:43.796518Z"
    }
   },
   "source": [],
   "outputs": [],
   "execution_count": null
  },
  {
   "cell_type": "markdown",
   "metadata": {
    "id": "KgpafLCQk-sj"
   },
   "source": [
    "Instead of letting NumPy guess what data type to use, you can set it explicitly when creating an array by setting the `dtype` parameter:"
   ]
  },
  {
   "cell_type": "code",
   "metadata": {
    "id": "eIVJ1WZXk-sj",
    "outputId": "bc052df9-c555-408a-d8f9-a38c673d127e",
    "ExecuteTime": {
     "end_time": "2024-09-17T04:18:43.914840Z",
     "start_time": "2024-09-17T04:18:43.912499Z"
    }
   },
   "source": [],
   "outputs": [],
   "execution_count": null
  },
  {
   "cell_type": "markdown",
   "metadata": {
    "id": "aQC-0EiDk-sj"
   },
   "source": [
    "Available data types include signed `int8`, `int16`, `int32`, `int64`, unsigned `uint8`|`16`|`32`|`64`, `float16`|`32`|`64` and `complex64`|`128`. Check out the documentation for the [basic types](https://numpy.org/doc/stable/user/basics.types.html) and [sized aliases](https://numpy.org/doc/stable/reference/arrays.scalars.html#sized-aliases) for the full list.\n",
    "\n",
    "## `itemsize`\n",
    "The `itemsize` attribute returns the size (in bytes) of each item:"
   ]
  },
  {
   "cell_type": "code",
   "metadata": {
    "id": "tJsK09zbk-sj",
    "outputId": "f5d3d36f-3c9d-4e13-9a1c-81945ea635f5",
    "ExecuteTime": {
     "end_time": "2024-09-17T04:18:44.006050Z",
     "start_time": "2024-09-17T04:18:44.003999Z"
    }
   },
   "source": [],
   "outputs": [],
   "execution_count": null
  },
  {
   "cell_type": "markdown",
   "metadata": {
    "id": "uBpC5XAek-sk"
   },
   "source": [
    "# Reshaping an array\n",
    "## In place\n",
    "Changing the shape of an `ndarray` is as simple as setting its `shape` attribute. However, the array's size must remain the same."
   ]
  },
  {
   "cell_type": "code",
   "metadata": {
    "id": "G9p_2iR2k-sk",
    "outputId": "0223368d-6585-4d98-c640-b6f835f2a7e9",
    "ExecuteTime": {
     "end_time": "2024-09-17T04:18:44.100278Z",
     "start_time": "2024-09-17T04:18:44.098250Z"
    }
   },
   "source": [],
   "outputs": [],
   "execution_count": null
  },
  {
   "cell_type": "code",
   "metadata": {
    "id": "WNFEZKhVk-sk",
    "outputId": "52ed0380-06bc-4035-da11-a7887b18b340",
    "ExecuteTime": {
     "end_time": "2024-09-17T04:18:44.196959Z",
     "start_time": "2024-09-17T04:18:44.194264Z"
    }
   },
   "source": [],
   "outputs": [],
   "execution_count": null
  },
  {
   "cell_type": "code",
   "metadata": {
    "id": "DIbkOoqwk-sl",
    "outputId": "6fe9377f-5ed4-495d-f2d3-c2c8441f06b1",
    "scrolled": true,
    "ExecuteTime": {
     "end_time": "2024-09-17T04:18:44.322060Z",
     "start_time": "2024-09-17T04:18:44.319745Z"
    }
   },
   "source": [],
   "outputs": [],
   "execution_count": null
  },
  {
   "cell_type": "markdown",
   "metadata": {
    "id": "PMyha7y9k-sl"
   },
   "source": [
    "## `reshape`\n",
    "The `reshape` function returns a new `ndarray` object pointing at the *same* data. This means that modifying one array will also modify the other."
   ]
  },
  {
   "cell_type": "code",
   "metadata": {
    "id": "qPG-_DkFk-sl",
    "outputId": "75a2fded-4339-422c-9369-170bd17da9b7",
    "scrolled": true,
    "ExecuteTime": {
     "end_time": "2024-09-17T04:18:44.416323Z",
     "start_time": "2024-09-17T04:18:44.414015Z"
    }
   },
   "source": [],
   "outputs": [],
   "execution_count": null
  },
  {
   "cell_type": "markdown",
   "metadata": {
    "id": "g_KBrodjk-sl"
   },
   "source": [
    "Set item at row 1, col 2 to 999 (more about indexing below)."
   ]
  },
  {
   "cell_type": "code",
   "metadata": {
    "id": "10WiARBPk-sl",
    "outputId": "c2f865f8-60dc-47b0-df74-0566dae9b3c8",
    "ExecuteTime": {
     "end_time": "2024-09-17T04:18:44.588268Z",
     "start_time": "2024-09-17T04:18:44.585555Z"
    }
   },
   "source": [],
   "outputs": [],
   "execution_count": null
  },
  {
   "cell_type": "markdown",
   "metadata": {
    "id": "jg7fC3Cyk-sl"
   },
   "source": [
    "The corresponding element in `g` has been modified."
   ]
  },
  {
   "cell_type": "code",
   "metadata": {
    "id": "9vTZiluek-sl",
    "outputId": "d930ebc3-81dd-4c66-a77b-3394c1af9608",
    "ExecuteTime": {
     "end_time": "2024-09-17T04:18:44.612839Z",
     "start_time": "2024-09-17T04:18:44.611298Z"
    }
   },
   "source": [],
   "outputs": [],
   "execution_count": null
  },
  {
   "cell_type": "markdown",
   "metadata": {
    "id": "bHJfJZTzk-sl"
   },
   "source": [
    "## `ravel`\n",
    "Finally, the `ravel` function returns a new one-dimensional `ndarray` that also points to the same data:"
   ]
  },
  {
   "cell_type": "code",
   "metadata": {
    "id": "Ttk-QwBlk-sm",
    "outputId": "be57ce73-58d3-4aaa-dc4b-30bae1bb64f4",
    "ExecuteTime": {
     "end_time": "2024-09-17T04:18:44.702280Z",
     "start_time": "2024-09-17T04:18:44.700310Z"
    }
   },
   "source": [],
   "outputs": [],
   "execution_count": null
  },
  {
   "cell_type": "markdown",
   "metadata": {
    "id": "62YvzpJJk-sm"
   },
   "source": [
    "# Arithmetic operations\n",
    "All the usual arithmetic operators (`+`, `-`, `*`, `/`, `//`, `**`, etc.) can be used with `ndarray`s. They apply *elementwise*:"
   ]
  },
  {
   "cell_type": "code",
   "metadata": {
    "id": "r86jMKrHk-sm",
    "outputId": "f6e2f9b9-1fde-4e7a-ff58-6016129ff5b1",
    "ExecuteTime": {
     "end_time": "2024-09-17T04:18:44.733218Z",
     "start_time": "2024-09-17T04:18:44.730975Z"
    }
   },
   "source": [],
   "outputs": [],
   "execution_count": null
  },
  {
   "cell_type": "markdown",
   "metadata": {
    "id": "hfxoflf5k-sm"
   },
   "source": [
    "Note that the multiplication is *not* a matrix multiplication. We will discuss matrix operations below.\n",
    "\n",
    "The arrays must have the same shape. If they do not, NumPy will apply the *broadcasting rules*."
   ]
  },
  {
   "cell_type": "markdown",
   "metadata": {
    "id": "Z-kPwCBDk-sm"
   },
   "source": [
    "# Broadcasting"
   ]
  },
  {
   "cell_type": "markdown",
   "metadata": {
    "id": "7sJVG_S1k-sm"
   },
   "source": [
    "In general, when NumPy expects arrays of the same shape but finds that this is not the case, it applies the so-called *broadcasting* rules:\n",
    "\n",
    "## First rule\n",
    "*If the arrays do not have the same rank, then a 1 will be prepended to the smaller ranking arrays until their ranks match.*"
   ]
  },
  {
   "cell_type": "code",
   "metadata": {
    "id": "c-eA1PFnk-sm",
    "outputId": "b73b90bf-ee08-4f31-89aa-0f7c61de7e4d",
    "ExecuteTime": {
     "end_time": "2024-09-17T04:18:44.826395Z",
     "start_time": "2024-09-17T04:18:44.824553Z"
    }
   },
   "source": [],
   "outputs": [],
   "execution_count": null
  },
  {
   "cell_type": "markdown",
   "metadata": {
    "id": "hnVjXzOLk-sm"
   },
   "source": [
    "Now let's try to add a 1D array of shape `(5,)` to this 3D array of shape `(1,1,5)`. Applying the first rule of broadcasting!"
   ]
  },
  {
   "cell_type": "code",
   "metadata": {
    "id": "J7OeFQ1-k-sm",
    "outputId": "b76ce01a-7a19-420c-cbd1-e26e22a5ea58",
    "ExecuteTime": {
     "end_time": "2024-09-17T04:18:45.000535Z",
     "start_time": "2024-09-17T04:18:44.998077Z"
    }
   },
   "source": [],
   "outputs": [],
   "execution_count": null
  },
  {
   "cell_type": "markdown",
   "metadata": {
    "id": "_fUOyy-1k-sm"
   },
   "source": [
    "## Second rule\n",
    "*Arrays with a 1 along a particular dimension act as if they had the size of the array with the largest shape along that dimension. The value of the array element is repeated along that dimension.*"
   ]
  },
  {
   "cell_type": "code",
   "metadata": {
    "id": "pqIoyfmhk-sn",
    "outputId": "8e09f344-1135-4e73-a6ee-a26dce07bd49",
    "ExecuteTime": {
     "end_time": "2024-09-17T04:18:45.121262Z",
     "start_time": "2024-09-17T04:18:45.118875Z"
    }
   },
   "source": [],
   "outputs": [],
   "execution_count": null
  },
  {
   "cell_type": "markdown",
   "metadata": {
    "id": "HTimjDLWk-sn"
   },
   "source": [
    "Let's try to add a 2D array of shape `(2,1)` to this 2D `ndarray` of shape `(2, 3)`. NumPy will apply the second rule of broadcasting:"
   ]
  },
  {
   "cell_type": "code",
   "metadata": {
    "id": "XmXMoAV9k-sn",
    "outputId": "f09fc97b-c16b-42cc-f3dd-e0ac338bf048",
    "ExecuteTime": {
     "end_time": "2024-09-17T04:18:45.267294Z",
     "start_time": "2024-09-17T04:18:45.264295Z"
    }
   },
   "source": [],
   "outputs": [],
   "execution_count": null
  },
  {
   "cell_type": "markdown",
   "metadata": {
    "id": "oDDHv5K7k-sn"
   },
   "source": [
    "Combining rules 1 & 2, we can do this:"
   ]
  },
  {
   "cell_type": "code",
   "metadata": {
    "id": "zVaebPRvk-sn",
    "outputId": "3e7def8f-7ac7-4f74-eb4f-5ce051fd539a",
    "ExecuteTime": {
     "end_time": "2024-09-17T04:18:45.296386Z",
     "start_time": "2024-09-17T04:18:45.294586Z"
    }
   },
   "source": [],
   "outputs": [],
   "execution_count": null
  },
  {
   "cell_type": "markdown",
   "metadata": {
    "id": "DN4EnKEnk-sn"
   },
   "source": [
    "And also, very simply:"
   ]
  },
  {
   "cell_type": "code",
   "metadata": {
    "id": "V18c5Ahek-sn",
    "outputId": "11b6f592-1d6f-43fe-a660-f42bb05031f0",
    "ExecuteTime": {
     "end_time": "2024-09-17T04:18:45.384498Z",
     "start_time": "2024-09-17T04:18:45.382770Z"
    }
   },
   "source": [],
   "outputs": [],
   "execution_count": null
  },
  {
   "cell_type": "markdown",
   "metadata": {
    "id": "Yx_Dyh1ck-sn"
   },
   "source": [
    "## Third rule\n",
    "*After rules 1 & 2, the sizes of all arrays must match.*"
   ]
  },
  {
   "cell_type": "code",
   "metadata": {
    "id": "SzIDKB9tk-sn",
    "outputId": "4b19efed-8986-4c68-ddea-1c315a273904",
    "ExecuteTime": {
     "end_time": "2024-09-17T04:18:45.416295Z",
     "start_time": "2024-09-17T04:18:45.413792Z"
    }
   },
   "source": [],
   "outputs": [],
   "execution_count": null
  },
  {
   "cell_type": "markdown",
   "metadata": {
    "id": "vb6b4P0Jk-sn"
   },
   "source": [
    "Broadcasting rules are used in many NumPy operations, not just arithmetic operations, as we will see below.\n",
    "For more details about broadcasting, check out [the documentation](https://numpy.org/doc/stable/user/basics.broadcasting.html)."
   ]
  },
  {
   "cell_type": "markdown",
   "metadata": {
    "id": "TN-Toujpk-so"
   },
   "source": [
    "# Conditional operators"
   ]
  },
  {
   "cell_type": "markdown",
   "metadata": {
    "id": "5Cl0XBKLk-so"
   },
   "source": [
    "The conditional operators also apply elementwise:"
   ]
  },
  {
   "cell_type": "code",
   "metadata": {
    "id": "SaIEprDwk-so",
    "outputId": "bfbb9d5b-f6ae-4fd8-c7ea-008421fee8cf",
    "ExecuteTime": {
     "end_time": "2024-09-17T04:18:45.503162Z",
     "start_time": "2024-09-17T04:18:45.500403Z"
    }
   },
   "source": [],
   "outputs": [],
   "execution_count": null
  },
  {
   "cell_type": "markdown",
   "metadata": {
    "id": "g-NfQqekk-so"
   },
   "source": [
    "And using broadcasting:"
   ]
  },
  {
   "cell_type": "code",
   "metadata": {
    "id": "NOgG4i0Rk-sp",
    "outputId": "f0a257b7-547e-4206-f059-89e8d5fc363c",
    "ExecuteTime": {
     "end_time": "2024-09-17T04:18:45.588431Z",
     "start_time": "2024-09-17T04:18:45.586436Z"
    }
   },
   "source": [],
   "outputs": [],
   "execution_count": null
  },
  {
   "cell_type": "markdown",
   "metadata": {
    "id": "sQyeXMkJk-sp"
   },
   "source": [
    "This is most useful in conjunction with boolean indexing (discussed below)."
   ]
  },
  {
   "cell_type": "code",
   "metadata": {
    "id": "Lo3J4F4Xk-sp",
    "outputId": "4f1f8896-6f89-4f36-8e8d-445c4ceb0abd",
    "ExecuteTime": {
     "end_time": "2024-09-17T04:18:45.753817Z",
     "start_time": "2024-09-17T04:18:45.751136Z"
    }
   },
   "source": [],
   "outputs": [],
   "execution_count": null
  },
  {
   "cell_type": "markdown",
   "metadata": {
    "id": "6qNS8XEDk-sp"
   },
   "source": [
    "# Mathematical and statistical functions"
   ]
  },
  {
   "cell_type": "markdown",
   "metadata": {
    "id": "CO3FDAbjk-sp"
   },
   "source": [
    "Many mathematical and statistical functions are available for `ndarray`s.\n",
    "\n",
    "## `ndarray` methods\n",
    "Some functions are simply `ndarray` methods, for example:"
   ]
  },
  {
   "cell_type": "code",
   "metadata": {
    "id": "KMbC8Q6Hk-sp",
    "outputId": "f5955089-830f-444b-b3e7-6a52dfb6f4c2",
    "ExecuteTime": {
     "end_time": "2024-09-17T04:18:45.831896Z",
     "start_time": "2024-09-17T04:18:45.829618Z"
    }
   },
   "source": [],
   "outputs": [],
   "execution_count": null
  },
  {
   "cell_type": "markdown",
   "metadata": {
    "id": "-X2krLnpk-sp"
   },
   "source": [
    "Note that this computes the mean of all elements in the `ndarray`, regardless of its shape.\n",
    "\n",
    "Here are a few more useful `ndarray` methods:"
   ]
  },
  {
   "cell_type": "code",
   "metadata": {
    "id": "Jb5kU26ak-sp",
    "outputId": "60d9cd4f-c086-46c9-8b2d-a01923974f25",
    "ExecuteTime": {
     "end_time": "2024-09-17T04:18:45.861923Z",
     "start_time": "2024-09-17T04:18:45.859399Z"
    }
   },
   "source": [],
   "outputs": [],
   "execution_count": null
  },
  {
   "cell_type": "markdown",
   "metadata": {
    "id": "7VEq4530k-sp"
   },
   "source": [
    "These functions accept an optional argument `axis` which lets you ask for the operation to be performed on elements along the given axis. For example:"
   ]
  },
  {
   "cell_type": "code",
   "metadata": {
    "id": "y5m5eG7Zk-sq",
    "outputId": "1aba7a1e-3545-4eee-fb45-dc8da3bad108",
    "ExecuteTime": {
     "end_time": "2024-09-17T04:18:45.941781Z",
     "start_time": "2024-09-17T04:18:45.939726Z"
    }
   },
   "source": [],
   "outputs": [],
   "execution_count": null
  },
  {
   "cell_type": "code",
   "metadata": {
    "id": "HGSpIA3xk-sq",
    "outputId": "8ffc4db0-44b0-43c6-b122-08dc3754a917",
    "ExecuteTime": {
     "end_time": "2024-09-17T04:18:46.047945Z",
     "start_time": "2024-09-17T04:18:46.045933Z"
    }
   },
   "source": [],
   "outputs": [],
   "execution_count": null
  },
  {
   "cell_type": "code",
   "metadata": {
    "id": "kZGOFCkLk-sq",
    "outputId": "321d56d3-068b-4d48-b63c-a1a64e36bc06",
    "ExecuteTime": {
     "end_time": "2024-09-17T04:18:46.119752Z",
     "start_time": "2024-09-17T04:18:46.117457Z"
    }
   },
   "source": [],
   "outputs": [],
   "execution_count": null
  },
  {
   "cell_type": "markdown",
   "metadata": {
    "id": "To1NlEgZk-sq"
   },
   "source": [
    "You can also sum over multiple axes:"
   ]
  },
  {
   "cell_type": "code",
   "metadata": {
    "id": "4xXoEDYzk-sq",
    "outputId": "a9ae803b-9559-4bb8-a83b-f9baca88c641",
    "ExecuteTime": {
     "end_time": "2024-09-17T04:18:46.144022Z",
     "start_time": "2024-09-17T04:18:46.142047Z"
    }
   },
   "source": [],
   "outputs": [],
   "execution_count": null
  },
  {
   "cell_type": "code",
   "metadata": {
    "id": "iRq9dyfjk-sq",
    "outputId": "f1eec825-4080-4b62-ae64-6186e4b45515",
    "ExecuteTime": {
     "end_time": "2024-09-17T04:18:46.218468Z",
     "start_time": "2024-09-17T04:18:46.216747Z"
    }
   },
   "source": [],
   "outputs": [],
   "execution_count": null
  },
  {
   "cell_type": "markdown",
   "metadata": {
    "id": "jzvcH3Nnk-sq"
   },
   "source": [
    "## Universal functions\n",
    "NumPy also provides fast elementwise functions called *universal functions*, or **ufunc**. They are vectorized wrappers of simple functions. For example `square` returns a new `ndarray` which is a copy of the original `ndarray` except that each element is squared:\n",
    "\n",
    "np.abs, np.sqrt, np.exp, np.log, np.sign, np.ceil, np.modf, np.isnan, np.cos"
   ]
  },
  {
   "cell_type": "code",
   "metadata": {
    "id": "J1VRo4DZk-sq",
    "outputId": "eff90d14-b6b4-4278-edb4-b48cde5dcbbb",
    "ExecuteTime": {
     "end_time": "2024-09-17T04:18:46.246052Z",
     "start_time": "2024-09-17T04:18:46.243228Z"
    }
   },
   "source": [
    "# a = np.array([[-2.5, 3.1, 7], [10, 11, 12]])\n"
   ],
   "outputs": [],
   "execution_count": 2
  },
  {
   "cell_type": "markdown",
   "metadata": {
    "id": "l1PYLESnk-sr"
   },
   "source": [
    "Here are a few more useful unary ufuncs:"
   ]
  },
  {
   "cell_type": "code",
   "metadata": {
    "id": "BsamZJKHk-sr",
    "outputId": "6692fed0-1fa7-4101-eccb-28c0a3c2e4b9",
    "ExecuteTime": {
     "end_time": "2024-09-17T04:18:46.321303Z",
     "start_time": "2024-09-17T04:18:46.318686Z"
    }
   },
   "source": [],
   "outputs": [],
   "execution_count": null
  },
  {
   "cell_type": "markdown",
   "metadata": {
    "id": "CX5A_pC-k-sr"
   },
   "source": [
    "The two warnings are due to the fact that `sqrt()` and `log()` are undefined for negative numbers, which is why there is a `np.nan` value in the first cell of the output of these two functions."
   ]
  },
  {
   "cell_type": "markdown",
   "metadata": {
    "id": "HpJ_e7Qak-sr"
   },
   "source": [
    "## Binary ufuncs\n",
    "There are also many binary ufuncs, that apply elementwise on two `ndarray`s.  Broadcasting rules are applied if the arrays do not have the same shape:"
   ]
  },
  {
   "cell_type": "code",
   "metadata": {
    "id": "bkMY56Ytk-sr",
    "outputId": "900bb848-eda1-4d57-882f-ef6200992acf",
    "ExecuteTime": {
     "end_time": "2024-09-17T04:18:46.462093Z",
     "start_time": "2024-09-17T04:18:46.459634Z"
    }
   },
   "source": [
    "# a = np.array([1, -2, 3, 4])\n",
    "# b = np.array([2, 8, -1, 7])\n",
    "# np.add(a, b)  # equivalent to a + b"
   ],
   "outputs": [],
   "execution_count": 3
  },
  {
   "cell_type": "code",
   "metadata": {
    "id": "Jv9kwX2dk-sr",
    "outputId": "cefa8eea-d5f5-4a7f-ee98-ee3a8f2e336c",
    "ExecuteTime": {
     "end_time": "2024-09-17T04:18:46.539366Z",
     "start_time": "2024-09-17T04:18:46.537111Z"
    }
   },
   "source": [
    "# np.greater(a, b)  # equivalent to a > b"
   ],
   "outputs": [],
   "execution_count": 4
  },
  {
   "cell_type": "code",
   "metadata": {
    "id": "Z5j0YqsVk-sr",
    "outputId": "8913b066-47c3-4099-b654-b8930ba9bdcd",
    "ExecuteTime": {
     "end_time": "2024-09-17T04:18:46.564152Z",
     "start_time": "2024-09-17T04:18:46.561398Z"
    }
   },
   "source": [
    "# np.maximum(a, b)"
   ],
   "outputs": [],
   "execution_count": 5
  },
  {
   "cell_type": "code",
   "metadata": {
    "id": "RP0QeqYJk-sr",
    "outputId": "621cc087-d3ae-4e68-8b25-42160fda64b3",
    "ExecuteTime": {
     "end_time": "2024-09-17T04:18:46.603323Z",
     "start_time": "2024-09-17T04:18:46.601293Z"
    }
   },
   "source": [
    "# np.copysign(a, b)"
   ],
   "outputs": [],
   "execution_count": 6
  },
  {
   "cell_type": "markdown",
   "metadata": {
    "id": "3ZVOCYgxk-ss"
   },
   "source": [
    "# Array indexing\n",
    "## One-dimensional arrays\n",
    "One-dimensional NumPy arrays can be accessed more or less like regular python arrays:"
   ]
  },
  {
   "cell_type": "code",
   "metadata": {
    "id": "GaYJzV4uk-ss",
    "outputId": "c3be7c20-1fc4-4263-8721-0d9280f91502",
    "ExecuteTime": {
     "end_time": "2024-09-17T04:18:46.625858Z",
     "start_time": "2024-09-17T04:18:46.623329Z"
    }
   },
   "source": [
    "# a = np.array([1, 5, 3, 19, 13, 7, 3])\n"
   ],
   "outputs": [],
   "execution_count": 7
  },
  {
   "cell_type": "code",
   "metadata": {
    "id": "a9Ixqs3Dk-ss",
    "outputId": "ab6ac2c6-2231-4141-8bac-4b03171a91f2",
    "ExecuteTime": {
     "end_time": "2024-09-17T04:18:46.643910Z",
     "start_time": "2024-09-17T04:18:46.641798Z"
    }
   },
   "source": [],
   "outputs": [],
   "execution_count": null
  },
  {
   "cell_type": "code",
   "metadata": {
    "id": "H3cCuBrCk-ss",
    "outputId": "bc7a44ee-2c1b-483e-a366-ed6f2b089369",
    "ExecuteTime": {
     "end_time": "2024-09-17T04:18:46.667427Z",
     "start_time": "2024-09-17T04:18:46.665608Z"
    }
   },
   "source": [],
   "outputs": [],
   "execution_count": null
  },
  {
   "cell_type": "code",
   "metadata": {
    "id": "ZIwZYEd8k-ss",
    "outputId": "4b42c28f-24da-4c41-abcc-a6476b9a4c0f",
    "ExecuteTime": {
     "end_time": "2024-09-17T04:18:46.691371Z",
     "start_time": "2024-09-17T04:18:46.689722Z"
    }
   },
   "source": [],
   "outputs": [],
   "execution_count": null
  },
  {
   "cell_type": "code",
   "metadata": {
    "id": "sn2alfatk-ss",
    "outputId": "e1e3e43f-3095-411b-a23b-67fe9941c50c",
    "ExecuteTime": {
     "end_time": "2024-09-17T04:18:46.768846Z",
     "start_time": "2024-09-17T04:18:46.766712Z"
    }
   },
   "source": [],
   "outputs": [],
   "execution_count": null
  },
  {
   "cell_type": "code",
   "metadata": {
    "id": "VmfTf1R7k-ss",
    "outputId": "bdcbddd0-5272-46fd-d7be-5825e31a4457",
    "ExecuteTime": {
     "end_time": "2024-09-17T04:18:46.858593Z",
     "start_time": "2024-09-17T04:18:46.856931Z"
    }
   },
   "source": [],
   "outputs": [],
   "execution_count": null
  },
  {
   "cell_type": "markdown",
   "metadata": {
    "id": "RYvwNFb3k-ss"
   },
   "source": [
    "Of course, you can modify elements:"
   ]
  },
  {
   "cell_type": "code",
   "metadata": {
    "id": "yDYmirFZk-ss",
    "outputId": "7c0685e0-6f3e-4de7-f2fd-676520fe3bcb",
    "ExecuteTime": {
     "end_time": "2024-09-17T04:18:46.933145Z",
     "start_time": "2024-09-17T04:18:46.930980Z"
    }
   },
   "source": [],
   "outputs": [],
   "execution_count": null
  },
  {
   "cell_type": "markdown",
   "metadata": {
    "id": "bYG9eN34k-st"
   },
   "source": [
    "You can also modify an `ndarray` slice:"
   ]
  },
  {
   "cell_type": "code",
   "metadata": {
    "id": "M-JCX1Zhk-st",
    "outputId": "35933a95-4ca0-46e5-bc75-a711ac14a385",
    "ExecuteTime": {
     "end_time": "2024-09-17T04:18:46.994574Z",
     "start_time": "2024-09-17T04:18:46.992161Z"
    }
   },
   "source": [],
   "outputs": [],
   "execution_count": null
  },
  {
   "cell_type": "markdown",
   "metadata": {
    "id": "7bAs4UqFk-st"
   },
   "source": [
    "## Differences with regular python arrays\n",
    "Contrary to regular python arrays, if you assign a single value to an `ndarray` slice, it is copied across the whole slice, thanks to broadcasting rules discussed above."
   ]
  },
  {
   "cell_type": "code",
   "metadata": {
    "id": "U4brZGork-st",
    "outputId": "82d179a8-fb2b-408a-848a-61fba7d390ed",
    "ExecuteTime": {
     "end_time": "2024-09-17T04:18:47.056323Z",
     "start_time": "2024-09-17T04:18:47.053770Z"
    }
   },
   "source": [],
   "outputs": [],
   "execution_count": null
  },
  {
   "cell_type": "markdown",
   "metadata": {
    "id": "vLpNSkU7k-st"
   },
   "source": [
    "Also, you cannot grow or shrink `ndarray`s this way:"
   ]
  },
  {
   "cell_type": "markdown",
   "metadata": {
    "id": "BwZ6vgSUk-st"
   },
   "source": [
    "Last but not least, `ndarray` **slices are actually *views*** on the same data buffer. This means that if you create a slice and modify it, you are actually going to modify the original `ndarray` as well!"
   ]
  },
  {
   "cell_type": "code",
   "metadata": {
    "id": "AeSW6fpfk-su",
    "outputId": "8cbfaf2c-77b9-4716-e70e-ac4e43c79b46",
    "ExecuteTime": {
     "end_time": "2024-09-17T04:18:47.121436Z",
     "start_time": "2024-09-17T04:18:47.119142Z"
    }
   },
   "source": [],
   "outputs": [],
   "execution_count": null
  },
  {
   "cell_type": "code",
   "metadata": {
    "id": "_r4J8MDzk-su",
    "outputId": "12b748c5-1402-47f1-91f2-3fa11c45d9bf",
    "ExecuteTime": {
     "end_time": "2024-09-17T04:18:47.145180Z",
     "start_time": "2024-09-17T04:18:47.143121Z"
    }
   },
   "source": [],
   "outputs": [],
   "execution_count": null
  },
  {
   "cell_type": "markdown",
   "metadata": {
    "id": "zAAd1w6dk-su"
   },
   "source": [
    "If you want a copy of the data, you need to use the `copy` method:"
   ]
  },
  {
   "cell_type": "code",
   "metadata": {
    "id": "LlVBukGkk-su",
    "outputId": "02f7582e-2082-4aac-ace4-9b43ad9e52ee",
    "ExecuteTime": {
     "end_time": "2024-09-17T04:18:47.206942Z",
     "start_time": "2024-09-17T04:18:47.204991Z"
    }
   },
   "source": [],
   "outputs": [],
   "execution_count": null
  },
  {
   "cell_type": "code",
   "metadata": {
    "id": "-I9X_2UFk-su",
    "outputId": "17c6954c-f160-4a30-9648-17c1ab8ccb09",
    "ExecuteTime": {
     "end_time": "2024-09-17T04:18:47.274242Z",
     "start_time": "2024-09-17T04:18:47.272099Z"
    }
   },
   "source": [],
   "outputs": [],
   "execution_count": null
  },
  {
   "cell_type": "markdown",
   "metadata": {
    "id": "3rIau8fck-su"
   },
   "source": [
    "## Multidimensional arrays\n",
    "Multidimensional arrays can be accessed in a similar way by providing an index or slice for each axis, separated by commas:"
   ]
  },
  {
   "cell_type": "code",
   "metadata": {
    "id": "qtGfvwLzk-su",
    "outputId": "430ea90f-cf23-46ca-8aa7-6f9289fb01dd",
    "ExecuteTime": {
     "end_time": "2024-09-17T04:18:47.336895Z",
     "start_time": "2024-09-17T04:18:47.334733Z"
    }
   },
   "source": [
    "# b = np.arange(48).reshape(4, 12)\n",
    "# b"
   ],
   "outputs": [],
   "execution_count": 8
  },
  {
   "cell_type": "code",
   "metadata": {
    "id": "fRn5AEBfk-su",
    "outputId": "ddcaf3db-f471-4876-b841-9facfafbb513",
    "ExecuteTime": {
     "end_time": "2024-09-17T04:18:47.399150Z",
     "start_time": "2024-09-17T04:18:47.396480Z"
    }
   },
   "source": [
    " # row 1, col 2"
   ],
   "outputs": [],
   "execution_count": 9
  },
  {
   "cell_type": "code",
   "metadata": {
    "id": "K9g__kREk-sv",
    "outputId": "da6dec23-3ca5-46c8-995c-7dc483fcd0e8",
    "ExecuteTime": {
     "end_time": "2024-09-17T04:18:47.458087Z",
     "start_time": "2024-09-17T04:18:47.454996Z"
    }
   },
   "source": [
    " # row 1, all columns"
   ],
   "outputs": [],
   "execution_count": 10
  },
  {
   "cell_type": "code",
   "metadata": {
    "id": "oMzkBsYMk-sv",
    "outputId": "b481f0be-905b-413d-f847-efd4c8a125e6",
    "ExecuteTime": {
     "end_time": "2024-09-17T04:18:47.503471Z",
     "start_time": "2024-09-17T04:18:47.500357Z"
    }
   },
   "source": [
    "  # all rows, column 1"
   ],
   "outputs": [],
   "execution_count": 11
  },
  {
   "cell_type": "markdown",
   "metadata": {
    "id": "mFQm68_Dk-sv"
   },
   "source": [
    "**Caution**: note the subtle difference between these two expressions: "
   ]
  },
  {
   "cell_type": "code",
   "metadata": {
    "id": "Id2hJWxlk-sv",
    "outputId": "5d1b3e07-35a4-4c43-9b1f-2013b20e54a9",
    "scrolled": true,
    "ExecuteTime": {
     "end_time": "2024-09-17T04:18:47.511286Z",
     "start_time": "2024-09-17T04:18:47.509337Z"
    }
   },
   "source": [],
   "outputs": [],
   "execution_count": null
  },
  {
   "cell_type": "code",
   "metadata": {
    "id": "uD3Jb-AZk-sv",
    "outputId": "8a620b9b-e09a-4731-e2ea-9bf28b54c9db",
    "ExecuteTime": {
     "end_time": "2024-09-17T04:18:47.518160Z",
     "start_time": "2024-09-17T04:18:47.515874Z"
    }
   },
   "source": [],
   "outputs": [],
   "execution_count": null
  },
  {
   "cell_type": "markdown",
   "metadata": {
    "id": "7h2Wq5idk-sv"
   },
   "source": [
    "The first expression returns row 1 as a 1D array of shape `(12,)`, while the second returns that same row as a 2D array of shape `(1, 12)`."
   ]
  },
  {
   "cell_type": "markdown",
   "metadata": {
    "id": "vR10wiIxk-sv"
   },
   "source": [
    "## Fancy indexing\n",
    "You may also specify a list of indices that you are interested in. This is referred to as *fancy indexing*."
   ]
  },
  {
   "cell_type": "code",
   "metadata": {
    "id": "Bgh87eRZk-sv",
    "outputId": "9603ff62-f73a-4738-ad9e-df7dba0e6eca",
    "scrolled": true,
    "ExecuteTime": {
     "end_time": "2024-09-17T04:18:47.539905Z",
     "start_time": "2024-09-17T04:18:47.536688Z"
    }
   },
   "source": [
    "  # rows 0 and 2, columns 2 to 4 (5-1)"
   ],
   "outputs": [],
   "execution_count": 12
  },
  {
   "cell_type": "code",
   "metadata": {
    "id": "YLVR7M9Dk-sv",
    "outputId": "4e934bc8-7be1-47c5-e859-b8ce4a45bc02",
    "ExecuteTime": {
     "end_time": "2024-09-17T04:18:47.562672Z",
     "start_time": "2024-09-17T04:18:47.559462Z"
    }
   },
   "source": [
    "  # all rows, columns -1 (last), 2 and -1 (again, and in this order)"
   ],
   "outputs": [],
   "execution_count": 13
  },
  {
   "cell_type": "markdown",
   "metadata": {
    "id": "tIOScnw-k-sv"
   },
   "source": [
    "If you provide multiple index arrays, you get a 1D `ndarray` containing the values of the elements at the specified coordinates."
   ]
  },
  {
   "cell_type": "code",
   "metadata": {
    "id": "3FTyzXcuk-sw",
    "outputId": "bf75a989-b344-493e-d231-ce0f6c9f7c2d",
    "ExecuteTime": {
     "end_time": "2024-09-17T04:18:47.618027Z",
     "start_time": "2024-09-17T04:18:47.614892Z"
    }
   },
   "source": [],
   "outputs": [],
   "execution_count": null
  },
  {
   "cell_type": "markdown",
   "metadata": {
    "id": "7vqbpa-_k-sw"
   },
   "source": [
    "## Higher dimensions\n",
    "Everything works just as well with higher dimensional arrays, but it's useful to look at a few examples:"
   ]
  },
  {
   "cell_type": "code",
   "metadata": {
    "id": "8ompLEFZk-sw",
    "outputId": "02201bce-3ee8-4a7c-f1a4-82a122a245fa",
    "ExecuteTime": {
     "end_time": "2024-09-17T04:18:47.660456Z",
     "start_time": "2024-09-17T04:18:47.658499Z"
    }
   },
   "source": [
    "# c = b.reshape(4,2,6)\n",
    "# c"
   ],
   "outputs": [],
   "execution_count": 14
  },
  {
   "cell_type": "code",
   "metadata": {
    "id": "oaC1P8JCk-sw",
    "outputId": "0779e3d8-1f80-41e2-ca29-81b7440293bf",
    "ExecuteTime": {
     "end_time": "2024-09-17T04:18:47.684029Z",
     "start_time": "2024-09-17T04:18:47.681639Z"
    }
   },
   "source": [
    "  # matrix 2, row 1, col 4"
   ],
   "outputs": [],
   "execution_count": 15
  },
  {
   "cell_type": "code",
   "metadata": {
    "id": "yYbO_8NRk-sw",
    "outputId": "95d1593d-0331-4fc1-f8c8-d9b1a3b44bfd",
    "ExecuteTime": {
     "end_time": "2024-09-17T04:18:47.740361Z",
     "start_time": "2024-09-17T04:18:47.738003Z"
    }
   },
   "source": [
    "  # matrix 2, all rows, col 3"
   ],
   "outputs": [],
   "execution_count": 16
  },
  {
   "cell_type": "markdown",
   "metadata": {
    "id": "7LUnxELik-sw"
   },
   "source": [
    "If you omit coordinates for some axes, then all elements in these axes are returned:"
   ]
  },
  {
   "cell_type": "code",
   "metadata": {
    "id": "sEqpUziuk-sw",
    "outputId": "3c369a22-c6db-45e9-85d0-c9f21307435b",
    "ExecuteTime": {
     "end_time": "2024-09-17T04:18:47.762153Z",
     "start_time": "2024-09-17T04:18:47.759636Z"
    }
   },
   "source": [
    "  # Return matrix 2, row 1, all columns.  This is equivalent to c[2, 1, :]"
   ],
   "outputs": [],
   "execution_count": 17
  },
  {
   "cell_type": "markdown",
   "metadata": {
    "id": "4Z5urIDGk-sw"
   },
   "source": [
    "## Ellipsis (`...`)\n",
    "You may also write an ellipsis (`...`) to ask that all non-specified axes be entirely included."
   ]
  },
  {
   "cell_type": "code",
   "metadata": {
    "id": "4lnPO-Wyk-sw",
    "outputId": "d6bbdc70-eabd-4b82-d249-9664d78edd4d",
    "ExecuteTime": {
     "end_time": "2024-09-17T04:18:47.784434Z",
     "start_time": "2024-09-17T04:18:47.782036Z"
    }
   },
   "source": [
    "# c[2, ...]  #  matrix 2, all rows, all columns.  This is equivalent to c[2, :, :]"
   ],
   "outputs": [],
   "execution_count": 18
  },
  {
   "cell_type": "code",
   "metadata": {
    "id": "bJ1QHsUPk-sw",
    "outputId": "c115ad6e-effa-439e-de71-4aaf1c2754a9",
    "ExecuteTime": {
     "end_time": "2024-09-17T04:18:47.805679Z",
     "start_time": "2024-09-17T04:18:47.803482Z"
    }
   },
   "source": [
    "# c[2, 1, ...]  # matrix 2, row 1, all columns.  This is equivalent to c[2, 1, :]"
   ],
   "outputs": [],
   "execution_count": 19
  },
  {
   "cell_type": "code",
   "metadata": {
    "id": "PxHHFsqjk-sx",
    "outputId": "b1a371ac-e233-483c-a622-989eda35aca4",
    "ExecuteTime": {
     "end_time": "2024-09-17T04:18:47.825377Z",
     "start_time": "2024-09-17T04:18:47.822530Z"
    }
   },
   "source": [
    "# c[2, ..., 3]  # matrix 2, all rows, column 3.  This is equivalent to c[2, :, 3]"
   ],
   "outputs": [],
   "execution_count": 20
  },
  {
   "cell_type": "code",
   "metadata": {
    "id": "av4OWlAQk-sx",
    "outputId": "d7cd4df7-ae72-4152-90c7-723c3a641bdb",
    "ExecuteTime": {
     "end_time": "2024-09-17T04:18:47.844948Z",
     "start_time": "2024-09-17T04:18:47.842141Z"
    }
   },
   "source": [
    "# c[..., 3]  # all matrices, all rows, column 3.  This is equivalent to c[:, :, 3]"
   ],
   "outputs": [],
   "execution_count": 21
  },
  {
   "cell_type": "markdown",
   "metadata": {
    "id": "LviuAioUk-sx"
   },
   "source": [
    "## Boolean indexing\n",
    "You can also provide an `ndarray` of boolean values on one axis to specify the indices that you want to access."
   ]
  },
  {
   "cell_type": "code",
   "metadata": {
    "id": "JXHEQ8pdk-sx",
    "outputId": "39b374a4-cb00-4c31-b809-d8748f208ace",
    "ExecuteTime": {
     "end_time": "2024-09-17T04:18:47.867281Z",
     "start_time": "2024-09-17T04:18:47.864894Z"
    }
   },
   "source": [
    "# b = np.arange(48).reshape(4, 12)\n",
    "# b"
   ],
   "outputs": [],
   "execution_count": 22
  },
  {
   "cell_type": "code",
   "metadata": {
    "id": "zH1XRTs1k-sx",
    "outputId": "f72ca8a7-8d5b-4873-dbf1-5da236165e88",
    "ExecuteTime": {
     "end_time": "2024-09-17T04:18:47.888533Z",
     "start_time": "2024-09-17T04:18:47.885869Z"
    }
   },
   "source": [
    " # Rows 0 and 2, all columns. Equivalent to b[(0, 2), :]"
   ],
   "outputs": [],
   "execution_count": 23
  },
  {
   "cell_type": "code",
   "metadata": {
    "id": "-SG5vzCCk-sx",
    "outputId": "8e746ac2-daed-4772-8308-a7025176c5e6",
    "ExecuteTime": {
     "end_time": "2024-09-17T04:18:47.909957Z",
     "start_time": "2024-09-17T04:18:47.907709Z"
    }
   },
   "source": [
    " # All rows, columns 1, 4, 7 and 10"
   ],
   "outputs": [],
   "execution_count": 24
  },
  {
   "cell_type": "markdown",
   "metadata": {
    "collapsed": false,
    "jupyter": {
     "outputs_hidden": false
    }
   },
   "source": [
    "## `np.ix_`\n",
    "You cannot use boolean indexing this way on multiple axes, but you can work around this by using the `ix_` function:"
   ]
  },
  {
   "cell_type": "code",
   "metadata": {
    "id": "0r2-2BCyk-sx",
    "outputId": "c152de46-671c-4518-eb1b-05a56fc17666",
    "ExecuteTime": {
     "end_time": "2024-09-17T04:18:47.934223Z",
     "start_time": "2024-09-17T04:18:47.931889Z"
    }
   },
   "source": [],
   "outputs": [],
   "execution_count": null
  },
  {
   "cell_type": "code",
   "metadata": {
    "id": "fZ3f1ZVpk-sx",
    "outputId": "6b46e5f3-4fd7-4f40-daff-f55a44b2ccd0",
    "ExecuteTime": {
     "end_time": "2024-09-17T04:18:47.982808Z",
     "start_time": "2024-09-17T04:18:47.980972Z"
    }
   },
   "source": [],
   "outputs": [],
   "execution_count": null
  },
  {
   "cell_type": "markdown",
   "metadata": {
    "id": "xnAHLtxIk-sx"
   },
   "source": [
    "If you use a boolean array that has the same shape as the `ndarray`, then you get in return a 1D array containing all the values that have `True` at their coordinate. This is generally used along with conditional operators:"
   ]
  },
  {
   "cell_type": "code",
   "metadata": {
    "id": "PAPyoy_Uk-sy",
    "outputId": "bda36833-392e-4c2e-8a26-234c99b78612",
    "ExecuteTime": {
     "end_time": "2024-09-17T04:18:48.030525Z",
     "start_time": "2024-09-17T04:18:48.028820Z"
    }
   },
   "source": [],
   "outputs": [],
   "execution_count": null
  },
  {
   "cell_type": "markdown",
   "metadata": {
    "id": "LbnQtl9Rk-sy"
   },
   "source": [
    "# Stacking arrays\n",
    "It is often useful to stack together different arrays. NumPy offers several functions to do just that. Let's start by creating a few arrays."
   ]
  },
  {
   "cell_type": "code",
   "metadata": {
    "id": "dIfYWedzk-sy",
    "outputId": "4743061b-8eec-4b60-8a5a-3f8cb254c4e2",
    "ExecuteTime": {
     "end_time": "2024-09-17T04:18:48.053537Z",
     "start_time": "2024-09-17T04:18:48.051317Z"
    }
   },
   "source": [
    "# q1 = np.full((3,4), 1.0)\n",
    "# q1"
   ],
   "outputs": [],
   "execution_count": 25
  },
  {
   "cell_type": "code",
   "metadata": {
    "id": "Rt1Htd5yk-sy",
    "outputId": "36a79093-baa1-4ade-ebcd-103fdb23c4d2",
    "ExecuteTime": {
     "end_time": "2024-09-17T04:18:48.106826Z",
     "start_time": "2024-09-17T04:18:48.104575Z"
    }
   },
   "source": [
    "# q2 = np.full((4,4), 2.0)\n",
    "# q2"
   ],
   "outputs": [],
   "execution_count": 26
  },
  {
   "cell_type": "code",
   "metadata": {
    "id": "7gFEDMoCk-sz",
    "outputId": "42e6ca4d-1b44-4bb1-c847-1c103fbc3d41",
    "ExecuteTime": {
     "end_time": "2024-09-17T04:18:48.166566Z",
     "start_time": "2024-09-17T04:18:48.164585Z"
    }
   },
   "source": [
    "# q3 = np.full((3,4), 3.0)\n",
    "# q3"
   ],
   "outputs": [],
   "execution_count": 27
  },
  {
   "cell_type": "markdown",
   "metadata": {
    "id": "VKYtGa6Bk-sz"
   },
   "source": [
    "## `vstack`\n",
    "Now let's stack them vertically using `vstack`:"
   ]
  },
  {
   "cell_type": "code",
   "metadata": {
    "id": "uPTZaERUk-sz",
    "outputId": "f9520ace-a875-4378-da98-96c8454b81c3",
    "ExecuteTime": {
     "end_time": "2024-09-17T04:18:48.182695Z",
     "start_time": "2024-09-17T04:18:48.180573Z"
    }
   },
   "source": [],
   "outputs": [],
   "execution_count": null
  },
  {
   "cell_type": "code",
   "metadata": {
    "id": "W_n97SlTk-sz",
    "outputId": "384b5e17-10f0-4424-8eba-95f0175f571f",
    "ExecuteTime": {
     "end_time": "2024-09-17T04:18:48.191678Z",
     "start_time": "2024-09-17T04:18:48.189667Z"
    }
   },
   "source": [],
   "outputs": [],
   "execution_count": null
  },
  {
   "cell_type": "markdown",
   "metadata": {
    "id": "G2oIO5k-k-sz"
   },
   "source": [
    "It was possible because q1, q2 and q3 all have the same shape (except for the vertical axis, but that's ok since we are stacking on that axis).\n",
    "\n",
    "## `hstack`\n",
    "We can also stack arrays horizontally using `hstack`:"
   ]
  },
  {
   "cell_type": "code",
   "metadata": {
    "id": "v2l2kMynk-sz",
    "outputId": "7e5ec993-a868-44db-8219-819329e249a0",
    "ExecuteTime": {
     "end_time": "2024-09-17T04:18:48.213191Z",
     "start_time": "2024-09-17T04:18:48.210674Z"
    }
   },
   "source": [],
   "outputs": [],
   "execution_count": null
  },
  {
   "cell_type": "code",
   "metadata": {
    "id": "msGWF20vk-sz",
    "outputId": "dcfa866d-66d6-4fe3-8309-b79fe22ce91d",
    "ExecuteTime": {
     "end_time": "2024-09-17T04:18:48.264348Z",
     "start_time": "2024-09-17T04:18:48.262204Z"
    }
   },
   "source": [],
   "outputs": [],
   "execution_count": null
  },
  {
   "cell_type": "markdown",
   "metadata": {
    "id": "pnXHyRvTk-s0"
   },
   "source": [
    "# Splitting arrays\n",
    "Splitting is the opposite of stacking. For example, let's use the `vsplit` function to split a matrix vertically.\n",
    "\n",
    "First let's create a 6x4 matrix:"
   ]
  },
  {
   "cell_type": "code",
   "metadata": {
    "id": "Ekp7LdwLk-s0",
    "outputId": "ba01dce7-c701-4c20-9449-4c5fa3378ccc",
    "ExecuteTime": {
     "end_time": "2024-09-17T04:18:48.288213Z",
     "start_time": "2024-09-17T04:18:48.285572Z"
    }
   },
   "source": [
    "# r = np.arange(24).reshape(6,4)\n",
    "# r"
   ],
   "outputs": [],
   "execution_count": 28
  },
  {
   "cell_type": "markdown",
   "metadata": {
    "id": "LRGlH28Mk-s0"
   },
   "source": [
    "Now let's split it in three equal parts, vertically:"
   ]
  },
  {
   "cell_type": "code",
   "metadata": {
    "id": "2xS73ZxKk-s0",
    "outputId": "996ef0c8-1c82-42f9-95f6-068e53d93b71",
    "ExecuteTime": {
     "end_time": "2024-09-17T04:18:48.337630Z",
     "start_time": "2024-09-17T04:18:48.334191Z"
    }
   },
   "source": [
    "# r1, r2, r3 = np.vsplit(r, 3)\n",
    "# r1"
   ],
   "outputs": [],
   "execution_count": 29
  },
  {
   "cell_type": "code",
   "metadata": {
    "id": "xkAmG567k-s0",
    "outputId": "eb0bdf74-4795-467a-f0f6-79924bbfc6e3",
    "ExecuteTime": {
     "end_time": "2024-09-17T04:18:48.382621Z",
     "start_time": "2024-09-17T04:18:48.379688Z"
    }
   },
   "source": [
    "# r2"
   ],
   "outputs": [],
   "execution_count": 30
  },
  {
   "cell_type": "code",
   "metadata": {
    "id": "lu78aCWdk-s0",
    "outputId": "6cf04e01-77df-4d24-d0d2-41f151e45021",
    "ExecuteTime": {
     "end_time": "2024-09-17T04:18:48.417243Z",
     "start_time": "2024-09-17T04:18:48.414938Z"
    }
   },
   "source": [
    "# r3"
   ],
   "outputs": [],
   "execution_count": 31
  },
  {
   "cell_type": "markdown",
   "metadata": {
    "id": "6jASlglmk-s1"
   },
   "source": [
    "There is also a `split` function which splits an array along any given axis. Calling `vsplit` is equivalent to calling `split` with `axis=0`. There is also an `hsplit` function, equivalent to calling `split` with `axis=1`:"
   ]
  },
  {
   "cell_type": "code",
   "metadata": {
    "id": "qMxuIV--k-s1",
    "outputId": "3adc3c85-c1c8-43ba-81ed-b698b2086e6f",
    "ExecuteTime": {
     "end_time": "2024-09-17T04:18:48.425723Z",
     "start_time": "2024-09-17T04:18:48.423648Z"
    }
   },
   "source": [
    "# r4, r5 = np.hsplit(r, 2)\n",
    "# r4"
   ],
   "outputs": [],
   "execution_count": 32
  },
  {
   "cell_type": "code",
   "metadata": {
    "id": "jpYA529pk-s3",
    "outputId": "0f0d5e09-c38f-4ce5-b142-f9a2b06af5fa",
    "ExecuteTime": {
     "end_time": "2024-09-17T04:18:48.435276Z",
     "start_time": "2024-09-17T04:18:48.433149Z"
    }
   },
   "source": [
    "# r5"
   ],
   "outputs": [],
   "execution_count": 33
  },
  {
   "attachments": {},
   "cell_type": "markdown",
   "metadata": {
    "id": "PP7ZZ0dZk-s4"
   },
   "source": [
    "# Linear algebra\n",
    "NumPy 2D arrays can be used to represent matrices efficiently in python. We will just quickly go through some of the main matrix operations available.\n",
    "## Matrix transpose\n",
    "The `T` attribute is equivalent to calling `transpose()` when the rank is ≥2:"
   ]
  },
  {
   "cell_type": "code",
   "metadata": {
    "id": "LsWA6MOak-s4",
    "outputId": "416d58a8-caa7-4461-9955-b5a320fe795a",
    "ExecuteTime": {
     "end_time": "2024-09-17T04:18:48.458551Z",
     "start_time": "2024-09-17T04:18:48.456811Z"
    }
   },
   "source": [
    "# m1 = np.arange(10).reshape(2,5)\n",
    "# m1"
   ],
   "outputs": [],
   "execution_count": 34
  },
  {
   "cell_type": "code",
   "metadata": {
    "id": "C516qxyBk-s4",
    "outputId": "42cd9cda-03e2-4245-acb6-03ce1aceafd9",
    "ExecuteTime": {
     "end_time": "2024-09-17T04:18:48.463753Z",
     "start_time": "2024-09-17T04:18:48.461555Z"
    }
   },
   "source": [],
   "outputs": [],
   "execution_count": null
  },
  {
   "cell_type": "markdown",
   "metadata": {
    "id": "za_Glg7wk-s5"
   },
   "source": [
    "The `T` attribute has no effect on rank 0 (empty) or rank 1 arrays:"
   ]
  },
  {
   "cell_type": "code",
   "metadata": {
    "id": "XEWuTLK0k-s5",
    "outputId": "b77dadc4-e6ed-429a-ef7f-583fed87c5f5",
    "scrolled": true,
    "ExecuteTime": {
     "end_time": "2024-09-17T04:18:48.471408Z",
     "start_time": "2024-09-17T04:18:48.468795Z"
    }
   },
   "source": [
    "# m2 = np.arange(5)\n",
    "# m2"
   ],
   "outputs": [],
   "execution_count": 35
  },
  {
   "cell_type": "code",
   "metadata": {
    "id": "O5Tl66ook-s5",
    "outputId": "33a97fb5-5524-491c-ed8f-6e5acbe41757",
    "scrolled": true,
    "ExecuteTime": {
     "end_time": "2024-09-17T04:18:48.494257Z",
     "start_time": "2024-09-17T04:18:48.491943Z"
    }
   },
   "source": [],
   "outputs": [],
   "execution_count": null
  },
  {
   "cell_type": "markdown",
   "metadata": {
    "id": "myBoBHSzk-s5"
   },
   "source": [
    "We can get the desired transposition by first reshaping the 1D array to a single-row matrix (2D):"
   ]
  },
  {
   "cell_type": "code",
   "metadata": {
    "id": "dn_khJjfk-s5",
    "outputId": "50e35732-9b4c-4110-fe50-8d6676704ae0",
    "ExecuteTime": {
     "end_time": "2024-09-17T04:18:48.531745Z",
     "start_time": "2024-09-17T04:18:48.529316Z"
    }
   },
   "source": [
    "# m2r = m2.reshape(1,5)\n",
    "# m2r"
   ],
   "outputs": [],
   "execution_count": 36
  },
  {
   "cell_type": "code",
   "metadata": {
    "id": "FpP3feJ3k-s5",
    "outputId": "e5606e92-a842-41c3-ee04-7f3d2d5f2a23",
    "ExecuteTime": {
     "end_time": "2024-09-17T04:18:48.555086Z",
     "start_time": "2024-09-17T04:18:48.552621Z"
    }
   },
   "source": [],
   "outputs": [],
   "execution_count": null
  },
  {
   "cell_type": "markdown",
   "metadata": {
    "id": "3eSiWi5Qk-s5"
   },
   "source": [
    "## Matrix multiplication\n",
    "Let's create two matrices and execute a [matrix multiplication](https://en.wikipedia.org/wiki/Matrix_multiplication) using the `dot()` method."
   ]
  },
  {
   "cell_type": "code",
   "metadata": {
    "id": "OTFxUjI5k-s5",
    "outputId": "1f75f08c-21a9-4e60-95b7-78689383fdbe",
    "ExecuteTime": {
     "end_time": "2024-09-17T04:18:48.593225Z",
     "start_time": "2024-09-17T04:18:48.591019Z"
    }
   },
   "source": [
    "# n1 = np.arange(10).reshape(2, 5)\n",
    "# n1"
   ],
   "outputs": [],
   "execution_count": 37
  },
  {
   "cell_type": "code",
   "metadata": {
    "id": "AJvSGmcmk-s5",
    "outputId": "0f4f24cd-4cf6-4e5a-b762-7ffc6d8c9f57",
    "ExecuteTime": {
     "end_time": "2024-09-17T04:18:48.615099Z",
     "start_time": "2024-09-17T04:18:48.613044Z"
    }
   },
   "source": [
    "# n2 = np.arange(15).reshape(5,3)\n",
    "# n2"
   ],
   "outputs": [],
   "execution_count": 38
  },
  {
   "cell_type": "code",
   "metadata": {
    "id": "l_I-tCesk-s5",
    "outputId": "b3a0dec5-47ed-4616-c905-fef1dda243a0",
    "ExecuteTime": {
     "end_time": "2024-09-17T04:18:48.653719Z",
     "start_time": "2024-09-17T04:18:48.651920Z"
    }
   },
   "source": [],
   "outputs": [],
   "execution_count": null
  },
  {
   "cell_type": "code",
   "metadata": {
    "collapsed": false,
    "jupyter": {
     "outputs_hidden": false
    },
    "ExecuteTime": {
     "end_time": "2024-09-17T04:18:48.661323Z",
     "start_time": "2024-09-17T04:18:48.659535Z"
    }
   },
   "source": [],
   "outputs": [],
   "execution_count": null
  },
  {
   "cell_type": "markdown",
   "metadata": {
    "id": "wPoui5-9k-s6"
   },
   "source": [
    "**Caution**: as mentioned previously, `n1*n2` is *not* a matrix multiplication, it is an elementwise product (also called a [Hadamard product](https://en.wikipedia.org/wiki/Hadamard_product_(matrices)))."
   ]
  },
  {
   "cell_type": "markdown",
   "metadata": {
    "id": "pd5GmWoNk-s6"
   },
   "source": [
    "## Matrix inverse and pseudo-inverse\n",
    "Many of the linear algebra functions are available in the `numpy.linalg` module, in particular the `inv` function to compute a square matrix's inverse:"
   ]
  },
  {
   "cell_type": "code",
   "metadata": {
    "id": "xX9x4C3ek-s6",
    "outputId": "eeb9eb78-b097-4cfd-bd1b-ec90dc66be14",
    "ExecuteTime": {
     "end_time": "2024-09-17T04:18:48.681472Z",
     "start_time": "2024-09-17T04:18:48.678295Z"
    }
   },
   "source": [
    "# import numpy.linalg as linalg\n",
    "#\n",
    "# m3 = np.array([[1,2,3],[5,7,11],[21,29,31]])\n",
    "# m3"
   ],
   "outputs": [],
   "execution_count": 39
  },
  {
   "cell_type": "code",
   "metadata": {
    "id": "Yu_i_7INk-s6",
    "outputId": "b4c3e98c-1a44-4688-ff17-564914c96bc7",
    "ExecuteTime": {
     "end_time": "2024-09-17T04:18:48.721581Z",
     "start_time": "2024-09-17T04:18:48.719369Z"
    }
   },
   "source": [
    "# inverse\n"
   ],
   "outputs": [],
   "execution_count": 40
  },
  {
   "cell_type": "markdown",
   "metadata": {
    "id": "kUbRTID2k-s6"
   },
   "source": [
    "You can also compute the [pseudoinverse](https://en.wikipedia.org/wiki/Moore%E2%80%93Penrose_pseudoinverse) using `pinv`:"
   ]
  },
  {
   "cell_type": "code",
   "metadata": {
    "id": "0Uu50NkIk-s6",
    "outputId": "76b1728b-640a-4acc-df44-3bd93348e920",
    "ExecuteTime": {
     "end_time": "2024-09-17T04:18:48.767878Z",
     "start_time": "2024-09-17T04:18:48.766021Z"
    }
   },
   "source": [
    "# linalg.pinv(m3)"
   ],
   "outputs": [],
   "execution_count": 41
  },
  {
   "cell_type": "markdown",
   "metadata": {
    "id": "U5_-1GlWk-s6"
   },
   "source": [
    "## Identity matrix\n",
    "The product of a matrix by its inverse returns the identity matrix (with small floating point errors):"
   ]
  },
  {
   "cell_type": "code",
   "metadata": {
    "id": "zTtCsdKok-s6",
    "outputId": "488245b4-fddd-41bc-d5dc-37131abbe11c",
    "ExecuteTime": {
     "end_time": "2024-09-17T04:18:48.775718Z",
     "start_time": "2024-09-17T04:18:48.772881Z"
    }
   },
   "source": [
    "# m3.dot(linalg.inv(m3))"
   ],
   "outputs": [],
   "execution_count": 42
  },
  {
   "cell_type": "markdown",
   "metadata": {
    "id": "5s-p1hTWk-s6"
   },
   "source": [
    "You can create an identity matrix of size NxN by calling `eye(N)` function:"
   ]
  },
  {
   "cell_type": "code",
   "metadata": {
    "id": "ev36VUIxk-s6",
    "outputId": "2ed59b34-0945-4d9d-92d6-408bd26a971e",
    "ExecuteTime": {
     "end_time": "2024-09-17T04:18:48.782930Z",
     "start_time": "2024-09-17T04:18:48.780272Z"
    }
   },
   "source": [
    "# np.eye(3)"
   ],
   "outputs": [],
   "execution_count": 43
  },
  {
   "cell_type": "markdown",
   "metadata": {
    "id": "1bRnGVlnk-s7"
   },
   "source": [
    "## QR decomposition\n",
    "The `qr` function computes the [QR decomposition](https://en.wikipedia.org/wiki/QR_decomposition) of a matrix:"
   ]
  },
  {
   "cell_type": "code",
   "metadata": {
    "id": "fCV_oSIHk-s7",
    "outputId": "433cc223-4e29-4086-9f56-168e53faac09",
    "ExecuteTime": {
     "end_time": "2024-09-17T04:18:48.791033Z",
     "start_time": "2024-09-17T04:18:48.788516Z"
    }
   },
   "source": [
    "# q, r = linalg.qr(m3)\n",
    "# q"
   ],
   "outputs": [],
   "execution_count": 44
  },
  {
   "cell_type": "code",
   "metadata": {
    "id": "jIyCSe_hk-s7",
    "outputId": "5933a945-ba50-42b5-afca-f63399df37e9",
    "ExecuteTime": {
     "end_time": "2024-09-17T04:18:48.798342Z",
     "start_time": "2024-09-17T04:18:48.795796Z"
    }
   },
   "source": [
    "# r"
   ],
   "outputs": [],
   "execution_count": 45
  },
  {
   "cell_type": "code",
   "metadata": {
    "id": "KULXI_LHk-s7",
    "outputId": "efa02cbc-bfa2-4aca-bb23-8f684cf9f5b0",
    "ExecuteTime": {
     "end_time": "2024-09-17T04:18:48.811218Z",
     "start_time": "2024-09-17T04:18:48.809165Z"
    }
   },
   "source": [
    "# q.dot(r)  # q.r equals m3"
   ],
   "outputs": [],
   "execution_count": 46
  },
  {
   "cell_type": "markdown",
   "metadata": {
    "id": "JLPxVuV_k-s7"
   },
   "source": [
    "## Determinant\n",
    "The `det` function computes the [matrix determinant](https://en.wikipedia.org/wiki/Determinant):"
   ]
  },
  {
   "cell_type": "code",
   "metadata": {
    "id": "l2lVUcyEk-s7",
    "outputId": "b5aad366-7a0d-4c2f-c536-b9575873fb99",
    "ExecuteTime": {
     "end_time": "2024-09-17T04:18:48.818508Z",
     "start_time": "2024-09-17T04:18:48.815861Z"
    }
   },
   "source": [
    "# linalg.det(m3)  # Computes the matrix determinant"
   ],
   "outputs": [],
   "execution_count": 47
  },
  {
   "cell_type": "markdown",
   "metadata": {
    "id": "ucOHi6D3k-s7"
   },
   "source": [
    "## Eigenvalues and eigenvectors\n",
    "The `eig` function computes the [eigenvalues and eigenvectors](https://en.wikipedia.org/wiki/Eigenvalues_and_eigenvectors) of a square matrix:"
   ]
  },
  {
   "cell_type": "code",
   "metadata": {
    "id": "VDrHdNRuk-s7",
    "outputId": "8bf5dfae-dab5-4291-e409-85611455c8c6",
    "ExecuteTime": {
     "end_time": "2024-09-17T04:18:48.827476Z",
     "start_time": "2024-09-17T04:18:48.825022Z"
    }
   },
   "source": [
    "# eigenvalues, eigenvectors = linalg.eig(m3)\n",
    "# eigenvalues # λ"
   ],
   "outputs": [],
   "execution_count": 48
  },
  {
   "cell_type": "code",
   "metadata": {
    "id": "Kzf6hRWCk-s7",
    "outputId": "4f15bb34-e093-4864-f3ae-b0571bf95de8",
    "ExecuteTime": {
     "end_time": "2024-09-17T04:18:48.848485Z",
     "start_time": "2024-09-17T04:18:48.845818Z"
    }
   },
   "source": [
    "# eigenvectors # v"
   ],
   "outputs": [],
   "execution_count": 49
  },
  {
   "cell_type": "code",
   "metadata": {
    "id": "CBl8KqwEk-s7",
    "outputId": "8ec4cb0c-740d-4240-863e-1a6d15322bc9",
    "ExecuteTime": {
     "end_time": "2024-09-17T04:18:48.854191Z",
     "start_time": "2024-09-17T04:18:48.850488Z"
    }
   },
   "source": [
    "# m3.dot(eigenvectors) - eigenvalues * eigenvectors  # m3.v - λ*v = 0"
   ],
   "outputs": [],
   "execution_count": 50
  },
  {
   "cell_type": "markdown",
   "metadata": {
    "id": "qohFE_Elk-s7"
   },
   "source": [
    "## Singular Value Decomposition (not our focus)\n",
    "The `svd` function takes a matrix and returns its [singular value decomposition](https://en.wikipedia.org/wiki/Singular_value_decomposition):"
   ]
  },
  {
   "cell_type": "code",
   "metadata": {
    "id": "KxieFdxUk-s8",
    "outputId": "c7f347d9-9d93-408a-9d79-fcc9d293420a",
    "ExecuteTime": {
     "end_time": "2024-09-17T04:18:48.861410Z",
     "start_time": "2024-09-17T04:18:48.858790Z"
    }
   },
   "source": [
    "# m4 = np.array([[1,0,0,0,2], [0,0,3,0,0], [0,0,0,0,0], [0,2,0,0,0]])\n",
    "# m4"
   ],
   "outputs": [],
   "execution_count": 51
  },
  {
   "cell_type": "code",
   "metadata": {
    "id": "KAwnXb71k-s8",
    "outputId": "6a81173e-6759-4bbf-fe25-190de873dc43",
    "ExecuteTime": {
     "end_time": "2024-09-17T04:18:48.868678Z",
     "start_time": "2024-09-17T04:18:48.866984Z"
    }
   },
   "source": [
    "# U, S_diag, V = linalg.svd(m4)\n",
    "# U"
   ],
   "outputs": [],
   "execution_count": 52
  },
  {
   "cell_type": "code",
   "metadata": {
    "id": "AaGf8PNkk-s8",
    "outputId": "78901362-4fca-4703-ac8b-c9a521184943",
    "ExecuteTime": {
     "end_time": "2024-09-17T04:18:48.877318Z",
     "start_time": "2024-09-17T04:18:48.874752Z"
    }
   },
   "source": [
    "# S_diag"
   ],
   "outputs": [],
   "execution_count": 53
  },
  {
   "cell_type": "markdown",
   "metadata": {
    "id": "BCliSjnck-s8"
   },
   "source": [
    "The `svd` function just returns the values in the diagonal of Σ, but we want the full Σ matrix, so let's create it:"
   ]
  },
  {
   "cell_type": "code",
   "metadata": {
    "id": "r9meFPmtk-s8",
    "outputId": "3b7510a5-262f-41f5-b07e-dfd39208c86a",
    "ExecuteTime": {
     "end_time": "2024-09-17T04:18:48.885833Z",
     "start_time": "2024-09-17T04:18:48.883224Z"
    }
   },
   "source": [
    "# S = np.zeros((4, 5))\n",
    "# S[np.diag_indices(4)] = S_diag\n",
    "# S  # Σ"
   ],
   "outputs": [],
   "execution_count": 54
  },
  {
   "cell_type": "code",
   "metadata": {
    "id": "hObxlZ72k-s8",
    "outputId": "d6928c00-7a5f-439b-a354-664aafe7c81e",
    "ExecuteTime": {
     "end_time": "2024-09-17T04:18:48.894519Z",
     "start_time": "2024-09-17T04:18:48.891635Z"
    }
   },
   "source": [
    "# V"
   ],
   "outputs": [],
   "execution_count": 55
  },
  {
   "cell_type": "code",
   "metadata": {
    "id": "nyk5HNPek-s8",
    "outputId": "f735c571-2cf1-4164-b77f-a2bdc6fb58a9",
    "ExecuteTime": {
     "end_time": "2024-09-17T04:18:48.902946Z",
     "start_time": "2024-09-17T04:18:48.900285Z"
    }
   },
   "source": [
    "# U.dot(S).dot(V) # U.Σ.V == m4"
   ],
   "outputs": [],
   "execution_count": 56
  },
  {
   "cell_type": "markdown",
   "metadata": {
    "id": "I1GhPpklk-s8"
   },
   "source": [
    "## Diagonal and trace (not our focus)"
   ]
  },
  {
   "cell_type": "code",
   "metadata": {
    "id": "PwIB35A2k-s8",
    "outputId": "fdc57e32-325e-4a95-ceda-122f0021b05b",
    "ExecuteTime": {
     "end_time": "2024-09-17T04:18:48.910813Z",
     "start_time": "2024-09-17T04:18:48.908666Z"
    }
   },
   "source": [
    "# np.diag(m3)  # the values in the diagonal of m3 (top left to bottom right)"
   ],
   "outputs": [],
   "execution_count": 57
  },
  {
   "cell_type": "code",
   "metadata": {
    "collapsed": false,
    "jupyter": {
     "outputs_hidden": false
    },
    "ExecuteTime": {
     "end_time": "2024-09-17T04:18:48.918712Z",
     "start_time": "2024-09-17T04:18:48.916660Z"
    }
   },
   "source": [
    "# m3.diagonal()"
   ],
   "outputs": [],
   "execution_count": 58
  },
  {
   "cell_type": "code",
   "metadata": {
    "id": "Rh0sDroXk-s8",
    "outputId": "d8fd5d5d-0e1a-450e-ccd6-e226577db153",
    "ExecuteTime": {
     "end_time": "2024-09-17T04:18:48.927089Z",
     "start_time": "2024-09-17T04:18:48.924833Z"
    }
   },
   "source": [
    "# m3.trace()  # equivalent to np.diag(m3).sum()"
   ],
   "outputs": [],
   "execution_count": 59
  },
  {
   "cell_type": "markdown",
   "metadata": {
    "id": "JQQFVtuEk-s9"
   },
   "source": [
    "# Meshgrid\n",
    "x_coords = np.arange(0, 3)  # [0, 1, 2, ..., 1023]\n",
    "y_coords = np.arange(0, 5)   # [0, 1, 2, ..., 767]\n",
    "X, Y = np.meshgrid(x_coords, y_coords)"
   ]
  },
  {
   "cell_type": "code",
   "metadata": {
    "id": "SAzKSpR0k-s9",
    "ExecuteTime": {
     "end_time": "2024-09-17T04:18:48.934934Z",
     "start_time": "2024-09-17T04:18:48.933191Z"
    }
   },
   "source": [],
   "outputs": [],
   "execution_count": null
  },
  {
   "cell_type": "markdown",
   "metadata": {
    "id": "QQD0_1bik-s-"
   },
   "source": [
    "# Saving and loading\n",
    "NumPy makes it easy to save and load `ndarray`s in text format.\n",
    "\n",
    "\n",
    "Let's create a random array and save it."
   ]
  },
  {
   "cell_type": "code",
   "metadata": {
    "id": "1V8OKEcJk-s-",
    "outputId": "23baf9b7-d297-4f69-9d4a-c49278a66f31",
    "scrolled": true,
    "ExecuteTime": {
     "end_time": "2024-09-17T04:18:48.943851Z",
     "start_time": "2024-09-17T04:18:48.941797Z"
    }
   },
   "source": [],
   "outputs": [],
   "execution_count": null
  },
  {
   "cell_type": "markdown",
   "metadata": {
    "id": "WWpxZhwbk-s-"
   },
   "source": [
    "## Text format\n",
    "Let's try saving the array in text format:"
   ]
  },
  {
   "cell_type": "markdown",
   "metadata": {
    "id": "vjo9nrpTk-s_"
   },
   "source": [
    "This is a CSV file with tabs as delimiters. You can set a different delimiter:\n",
    "np.savetxt(\"my_array.csv\", a, delimiter=\",\")"
   ]
  },
  {
   "cell_type": "code",
   "metadata": {
    "id": "cY55einpk-s_",
    "ExecuteTime": {
     "end_time": "2024-09-17T04:18:48.965525Z",
     "start_time": "2024-09-17T04:18:48.962778Z"
    }
   },
   "source": [],
   "outputs": [],
   "execution_count": null
  },
  {
   "cell_type": "markdown",
   "metadata": {
    "id": "wOZ7JbIIk-s_"
   },
   "source": [
    "To load this file, just use `loadtxt`:\n",
    "np.loadtxt(\"my_array.csv\", delimiter=\",\")"
   ]
  },
  {
   "cell_type": "code",
   "metadata": {
    "id": "Qacl0l5Tk-s_",
    "outputId": "911de8dd-3c11-4f3e-cbec-69d7dd093fcc",
    "ExecuteTime": {
     "end_time": "2024-09-17T04:18:48.991828Z",
     "start_time": "2024-09-17T04:18:48.989542Z"
    }
   },
   "source": [],
   "outputs": [],
   "execution_count": null
  },
  {
   "cell_type": "code",
   "metadata": {
    "collapsed": false,
    "jupyter": {
     "outputs_hidden": false
    },
    "ExecuteTime": {
     "end_time": "2024-09-17T04:18:49.014779Z",
     "start_time": "2024-09-17T04:18:49.012260Z"
    }
   },
   "source": [],
   "outputs": [],
   "execution_count": null
  }
 ],
 "metadata": {
  "colab": {
   "provenance": []
  },
  "kernelspec": {
   "display_name": "Python 3 (ipykernel)",
   "language": "python",
   "name": "python3"
  },
  "language_info": {
   "codemirror_mode": {
    "name": "ipython",
    "version": 3
   },
   "file_extension": ".py",
   "mimetype": "text/x-python",
   "name": "python",
   "nbconvert_exporter": "python",
   "pygments_lexer": "ipython3",
   "version": "3.11.8"
  },
  "toc": {
   "toc_cell": false,
   "toc_number_sections": true,
   "toc_section_display": "block",
   "toc_threshold": 6,
   "toc_window_display": false
  },
  "toc_position": {
   "height": "677px",
   "left": "1195.02px",
   "right": "20px",
   "top": "78px",
   "width": "238px"
  }
 },
 "nbformat": 4,
 "nbformat_minor": 4
}
