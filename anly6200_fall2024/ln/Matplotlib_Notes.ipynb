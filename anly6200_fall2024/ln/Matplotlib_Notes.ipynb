{
 "cells": [
  {
   "cell_type": "markdown",
   "metadata": {},
   "source": [
    "## **Put your name and student ID here**"
   ]
  },
  {
   "cell_type": "markdown",
   "metadata": {},
   "source": [
    "# **Matplotlib**\n",
    "\n",
    "*This notebook demonstrates how to use the matplotlib library to plot beautiful graphs.*"
   ]
  },
  {
   "cell_type": "markdown",
   "metadata": {
    "collapsed": false,
    "jupyter": {
     "outputs_hidden": false
    }
   },
   "source": [
    "**Figure**\n",
    "**Axes**\n",
    "\n",
    "<img style=\"600px;\" src=\"https://juxinglong.github.io/static/img/ML/mpl1.png\">"
   ]
  },
  {
   "cell_type": "code",
   "execution_count": null,
   "metadata": {
    "ExecuteTime": {
     "end_time": "2023-06-20T02:43:41.745344500Z",
     "start_time": "2023-06-20T02:43:40.649787500Z"
    },
    "collapsed": false,
    "jupyter": {
     "outputs_hidden": false
    }
   },
   "outputs": [],
   "source": []
  },
  {
   "cell_type": "code",
   "execution_count": null,
   "metadata": {
    "ExecuteTime": {
     "end_time": "2023-06-20T02:43:41.802396100Z",
     "start_time": "2023-06-20T02:43:40.667804100Z"
    },
    "collapsed": false,
    "jupyter": {
     "outputs_hidden": false
    }
   },
   "outputs": [],
   "source": []
  },
  {
   "cell_type": "markdown",
   "metadata": {
    "id": "5mwSE9AZGMZh"
   },
   "source": [
    "# Plotting your first graph"
   ]
  },
  {
   "cell_type": "code",
   "execution_count": null,
   "metadata": {
    "ExecuteTime": {
     "end_time": "2023-06-20T02:43:41.831927Z",
     "start_time": "2023-06-20T02:43:40.690824700Z"
    }
   },
   "outputs": [],
   "source": []
  },
  {
   "cell_type": "code",
   "execution_count": null,
   "metadata": {
    "ExecuteTime": {
     "end_time": "2023-06-20T02:43:41.832927700Z",
     "start_time": "2023-06-20T02:43:40.699832600Z"
    },
    "collapsed": false,
    "jupyter": {
     "outputs_hidden": false
    }
   },
   "outputs": [],
   "source": []
  },
  {
   "cell_type": "markdown",
   "metadata": {
    "id": "hUijkD2IGMZl"
   },
   "source": [
    "# Line style and color"
   ]
  },
  {
   "cell_type": "markdown",
   "metadata": {
    "id": "TdZQBwPAGMZl"
   },
   "source": [
    "By default, matplotlib draws a line between consecutive points.\n",
    "Default colors (b: blue, g: green, r: red, c: cyan, m: magenta,\n",
    "y: yellow, k: black, w: white)\n",
    "color=\"0.75\" creates a 75% gray\n",
    "You can use hexcodes color=\"#eeefff\"\n",
    "You can use color names found next like this color=\"burlywood\"\n",
    "<a href=\"https://en.wikipedia.org/wiki/Web_colors\">https://en.wikipedia.org/wiki/Web_colors</a>\n",
    "alpha defines the percentage of opacity\n",
    "\n",
    "Color picker: <a href=\"https://www.google.com/search?q=color+picker\">https://www.google.com/search?q=color+picker</a>\n",
    "\n",
    "The default line width is 1, so to double it put in 2 and so forth\n",
    "\n",
    "There are many line styles\n",
    "<a href=\"https://matplotlib.org/stable/gallery/lines_bars_and_markers/linestyles.html\">https://matplotlib.org/stable/gallery/lines_bars_and_markers/linestyles.html</a>\n",
    "You can also provide a sample like '-.'\n",
    "\n",
    "Markers can mark your provided points on the graph\n",
    "<a href=\"https://matplotlib.org/stable/api/markers_api.html\">https://matplotlib.org/stable/api/markers_api.html</a>\n",
    "You can change the markersize as well\n",
    "\n",
    "markerfacecolor changes the marker fill color\n",
    "markeredgecolor changes the marker stroke color\n",
    "markeredgewidth changes the markers stroke size\n",
    "\n",
    "'''\n",
    "plot(x_1,y_1,color='navy', alpha=.75, lw=2, ls='-.',\n",
    "           marker='o', markersize=7, markerfacecolor='y',\n",
    "           markeredgecolor='y', markeredgewidth=4)\n",
    "'''"
   ]
  },
  {
   "cell_type": "markdown",
   "metadata": {
    "collapsed": false,
    "jupyter": {
     "outputs_hidden": false
    }
   },
   "source": [
    "<a href=\"https://www.google.com/search?q=color+picker\">**Color picker**</a>\n",
    "\n",
    "<a href=\"https://matplotlib.org/stable/gallery/lines_bars_and_markers/linestyles.html\">**Linestyles**</a>\n",
    "\n",
    "<a href=\"https://matplotlib.org/stable/api/markers_api.html\">**Markers**</a>\n"
   ]
  },
  {
   "cell_type": "code",
   "execution_count": null,
   "metadata": {
    "ExecuteTime": {
     "end_time": "2023-06-20T02:43:41.849943100Z",
     "start_time": "2023-06-20T02:43:40.818463700Z"
    },
    "id": "zthd7WzIGMZl",
    "outputId": "a2dc16d5-3859-4f19-86d2-1095f2183f08"
   },
   "outputs": [],
   "source": []
  },
  {
   "cell_type": "markdown",
   "metadata": {
    "id": "ZF3VIvBHGMZn"
   },
   "source": [
    "# Saving a figure\n",
    "Saving a figure to disk is as simple as calling [`savefig`](https://matplotlib.org/stable/api/_as_gen/matplotlib.pyplot.savefig.html) with the name of the file (or a file object). The available image formats depend on the graphics backend you use.\n",
    "\n",
    "jpg,png,svg,pdf\n",
    "\n",
    "plt.savefig(\"prediction.png\",dpi=300,bbox_inches='tight',pad_inches=0.01, transparent=True)"
   ]
  },
  {
   "cell_type": "code",
   "execution_count": null,
   "metadata": {
    "ExecuteTime": {
     "end_time": "2023-06-20T02:43:41.853947Z",
     "start_time": "2023-06-20T02:43:40.861004300Z"
    },
    "id": "lpEjkhp1GMZn",
    "outputId": "2be6bf95-7d57-4166-9d8d-6a8235c04d09",
    "scrolled": true
   },
   "outputs": [],
   "source": []
  },
  {
   "cell_type": "markdown",
   "metadata": {
    "id": "Dnl8i0_FGMZn"
   },
   "source": [
    "# Subplots\n",
    "A matplotlib figure may contain multiple subplots. These subplots are organized in a grid. To create a subplot, just call the `subplot` function, and specify the number of rows and columns in the figure, and the index of the subplot you want to draw on (starting from 1, then left to right, and top to bottom). Note that pyplot keeps track of the currently active subplot (which you can get a reference to by calling `plt.gca()`), so when you call the `plot` function, it draws on the *active* subplot.\n"
   ]
  },
  {
   "cell_type": "markdown",
   "metadata": {
    "id": "58LivCMbGMZo"
   },
   "source": [
    "If you need more complex subplot positioning, you can use `subplot2grid` instead of `subplot`. You specify the number of rows and columns in the grid, then your subplot's position in that grid (top-left = (0,0)), and optionally how many rows and/or columns it spans. For example:"
   ]
  },
  {
   "cell_type": "code",
   "execution_count": null,
   "metadata": {
    "ExecuteTime": {
     "end_time": "2023-06-20T02:43:41.859952300Z",
     "start_time": "2023-06-20T02:43:40.943584400Z"
    },
    "id": "Ew5Bjd5PGMZo",
    "outputId": "57ed1c50-0704-4a22-b44e-0d6dccaed62b"
   },
   "outputs": [],
   "source": []
  },
  {
   "cell_type": "markdown",
   "metadata": {
    "id": "4nBbQLZjGMZo"
   },
   "source": [
    "If you need even more flexibility in subplot positioning, check out the [corresponding matplotlib tutorial](https://matplotlib.org/stable/tutorials/intermediate/arranging_axes.html)."
   ]
  },
  {
   "cell_type": "markdown",
   "metadata": {
    "id": "vkyoYl3nGMZp"
   },
   "source": [
    "# Drawing text\n",
    "You can call `text` to add text at any location in the graph. Just specify the horizontal and vertical coordinates and the text, and optionally some extra arguments. Any text in matplotlib may contain TeX equation expressions, see [the documentation](https://matplotlib.org/stable/tutorials/text/mathtext.html) for more details."
   ]
  },
  {
   "cell_type": "markdown",
   "metadata": {
    "collapsed": false,
    "jupyter": {
     "outputs_hidden": false
    }
   },
   "source": [
    "<a href=\"https://matplotlib.org/stable/api/_as_gen/matplotlib.pyplot.text.html\">**text()**</a>"
   ]
  },
  {
   "cell_type": "code",
   "execution_count": null,
   "metadata": {
    "ExecuteTime": {
     "end_time": "2023-06-20T02:43:41.871963Z",
     "start_time": "2023-06-20T02:43:41.071202800Z"
    },
    "id": "QUxhTqn6GMZp",
    "outputId": "2a00fae8-7bf4-4591-f595-8287f92bf856"
   },
   "outputs": [],
   "source": []
  },
  {
   "cell_type": "markdown",
   "metadata": {
    "id": "YfkzzrXiGMZp"
   },
   "source": [
    "* Note: `ha` is an alias for `horizontalalignment`\n",
    "\n",
    "For more text properties, visit [the documentation](https://matplotlib.org/stable/tutorials/text/text_props.html).\n",
    "\n",
    "Every so often it is required to annotate elements of a graph, such as the beautiful point above. The `annotate` function makes it easy: just indicate the location of the point of interest, and the position of the text, plus optionally some extra arguments for the text and the arrow."
   ]
  },
  {
   "cell_type": "markdown",
   "metadata": {
    "collapsed": false,
    "jupyter": {
     "outputs_hidden": false
    }
   },
   "source": [
    "<a href=\"https://matplotlib.org/stable/api/_as_gen/matplotlib.pyplot.annotate.html\">**annotate()**</a>"
   ]
  },
  {
   "cell_type": "code",
   "execution_count": null,
   "metadata": {
    "ExecuteTime": {
     "end_time": "2023-06-20T02:43:41.875966600Z",
     "start_time": "2023-06-20T02:43:41.154784900Z"
    },
    "id": "dFTbCRmdGMZp",
    "outputId": "69730474-ac53-44c9-ba49-c753deda0957"
   },
   "outputs": [],
   "source": []
  },
  {
   "cell_type": "markdown",
   "metadata": {
    "id": "bOMX8zXDGMZp"
   },
   "source": [
    "You can also add a bounding box around your text by using the `bbox` argument:"
   ]
  },
  {
   "cell_type": "markdown",
   "metadata": {
    "collapsed": false,
    "jupyter": {
     "outputs_hidden": false
    }
   },
   "source": [
    "<a href=\"https://matplotlib.org/stable/gallery/shapes_and_collections/fancybox_demo.html\">**bbox**</a>"
   ]
  },
  {
   "cell_type": "code",
   "execution_count": null,
   "metadata": {
    "ExecuteTime": {
     "end_time": "2023-06-20T02:43:41.886976700Z",
     "start_time": "2023-06-20T02:43:41.235359800Z"
    },
    "id": "thoSAITUGMZp",
    "outputId": "a1fc8f39-9aae-4ab7-9447-75211ba08015"
   },
   "outputs": [],
   "source": []
  },
  {
   "cell_type": "markdown",
   "metadata": {
    "id": "S2XxQAnRGMZq"
   },
   "source": [
    "# Legends\n",
    "The simplest way to add a legend is to set a label on all lines, then just call the `legend` function."
   ]
  },
  {
   "cell_type": "code",
   "execution_count": null,
   "metadata": {
    "ExecuteTime": {
     "end_time": "2023-06-20T02:43:41.902990900Z",
     "start_time": "2023-06-20T02:43:41.276396700Z"
    },
    "id": "oRwhiyz3GMZq",
    "outputId": "06cafbcd-f90f-439c-aeb3-f0dab9c074f7"
   },
   "outputs": [],
   "source": []
  },
  {
   "cell_type": "markdown",
   "metadata": {
    "id": "ueROZWjmGMZq"
   },
   "source": [
    "# Non-linear scales\n",
    "Matplotlib supports non-linear scales, such as logarithmic or logit scales.\n",
    "\n",
    "plt.yscale('linear')\n",
    "plt.yscale('log')\n",
    "plt.yscale('logit')\n",
    "plt.yscale('symlog', linthresh=0.05)\n"
   ]
  },
  {
   "cell_type": "code",
   "execution_count": null,
   "metadata": {
    "ExecuteTime": {
     "end_time": "2023-06-20T02:43:41.910998300Z",
     "start_time": "2023-06-20T02:43:41.318436100Z"
    },
    "id": "-M7qCW0_GMZq",
    "outputId": "771ec2bc-72ad-4f14-94d0-93ed93bc83a9",
    "scrolled": true,
    "tags": []
   },
   "outputs": [],
   "source": []
  },
  {
   "cell_type": "markdown",
   "metadata": {
    "id": "8t7MrMKHGMZq"
   },
   "source": [
    "# Ticks and tickers\n",
    "The axes have little marks called \"ticks\". To be precise, \"ticks\" are the *locations* of the marks (e.g. (-1, 0, 1)), \"tick lines\" are the small lines drawn at those locations, \"tick labels\" are the labels drawn next to the tick lines, and \"tickers\" are objects that are capable of deciding where to place ticks. The default tickers typically do a pretty good job at placing ~5 to 8 ticks at a reasonable distance from one another.\n",
    "\n",
    "But sometimes you need more control (e.g. there are too many tick labels on the logit graph above). Fortunately, matplotlib gives you full control over ticks. You can even activate minor ticks.\n",
    "\n",
    "'''\n",
    "ax.xaxis.set_ticks([-2, 0, 1, 2])\n",
    "ax.yaxis.set_ticklabels([\"min\", -4, -3, -2, -1, 0, 1, 2, 3, \"max\"])\n",
    "'''\n"
   ]
  },
  {
   "cell_type": "code",
   "execution_count": null,
   "metadata": {
    "ExecuteTime": {
     "end_time": "2023-06-20T02:43:41.917004900Z",
     "start_time": "2023-06-20T02:43:41.359978100Z"
    },
    "id": "zKQZPyzDGMZq",
    "outputId": "78879205-d4ce-4564-e6be-9a1da83a9ade"
   },
   "outputs": [],
   "source": []
  },
  {
   "cell_type": "markdown",
   "metadata": {},
   "source": [
    "# 3D projection\n",
    "\n",
    "Plotting 3D graphs is quite straightforward: when creating a subplot, set the `projection` to `\"3d\"`. It returns a 3D axes object, which you can use to call `plot_surface`, providing x, y, and z coordinates, plus other optional arguments. For more information on generating 3D plots, check out the [matplotlib tutorial](https://matplotlib.org/stable/tutorials/toolkits/mplot3d.html)."
   ]
  },
  {
   "cell_type": "markdown",
   "metadata": {
    "collapsed": false,
    "jupyter": {
     "outputs_hidden": false
    }
   },
   "source": [
    "'''\n",
    "ax=plt.subplot(1,1,1,projection=\"3d\")\n",
    "sf=ax.plot_surface(X,Y,Z,cmap=plt.cm.coolwarm)\n",
    "ax.xaxis.pane.fill = False\n",
    "ax.yaxis.pane.fill = False\n",
    "ax.zaxis.pane.fill = False\n",
    "\n",
    "Now set color to white (or whatever is \"invisible\")\n",
    "ax.xaxis.pane.set_edgecolor('w')\n",
    "ax.yaxis.pane.set_edgecolor('w')\n",
    "ax.zaxis.pane.set_edgecolor('w')\n",
    "plt.colorbar(sf)\n",
    "\n",
    "Bonus: To get rid of the grid as well:\n",
    "ax.grid(False)\n",
    "plt.show()\n",
    "'''"
   ]
  },
  {
   "cell_type": "markdown",
   "metadata": {
    "collapsed": false,
    "jupyter": {
     "outputs_hidden": false
    }
   },
   "source": [
    "<a href=\"https://matplotlib.org/stable/tutorials/colors/colormaps.html\">**color map**</a>"
   ]
  },
  {
   "cell_type": "code",
   "execution_count": null,
   "metadata": {
    "ExecuteTime": {
     "end_time": "2023-06-20T02:43:41.921008400Z",
     "start_time": "2023-06-20T02:43:41.480589800Z"
    },
    "collapsed": false,
    "jupyter": {
     "outputs_hidden": false
    }
   },
   "outputs": [],
   "source": []
  },
  {
   "cell_type": "markdown",
   "metadata": {
    "id": "vsLYicCFGMZr"
   },
   "source": [
    "Another way to display this same data is *via* a contour plot.\n",
    "\n",
    "plt.contourf(X, Y, Z, cmap=matplotlib.cm.coolwarm)"
   ]
  },
  {
   "cell_type": "code",
   "execution_count": null,
   "metadata": {
    "ExecuteTime": {
     "end_time": "2023-06-20T02:43:41.929015800Z",
     "start_time": "2023-06-20T02:43:41.521627700Z"
    },
    "id": "F1cXPKdPGMZr",
    "outputId": "68f674d5-846e-4803-f2ae-8068b598c4ab"
   },
   "outputs": [],
   "source": []
  },
  {
   "cell_type": "markdown",
   "metadata": {
    "id": "Q8cUgIawGMZr"
   },
   "source": [
    "# Scatter plot"
   ]
  },
  {
   "cell_type": "markdown",
   "metadata": {
    "id": "CMZwkXN_GMZr"
   },
   "source": [
    "To draw a scatter plot, simply provide the x and y coordinates of the points."
   ]
  },
  {
   "cell_type": "code",
   "execution_count": null,
   "metadata": {
    "ExecuteTime": {
     "end_time": "2023-06-20T02:43:41.937529400Z",
     "start_time": "2023-06-20T02:43:41.603205400Z"
    },
    "id": "DWrRINDIGMZr",
    "outputId": "4cc2c090-0b45-4813-8fe8-430d4ef6680b"
   },
   "outputs": [],
   "source": []
  },
  {
   "cell_type": "markdown",
   "metadata": {
    "id": "N8aEhbp-GMZr"
   },
   "source": [
    "# Lines\n",
    "You can draw lines simply using the `plot` function, as we have done so far. However, it is often convenient to create a utility function that plots a (seemingly) infinite line across the graph, given a slope and an intercept. You can also use the `hlines` and `vlines` functions that plot horizontal and vertical line segments.\n",
    "For example:"
   ]
  },
  {
   "cell_type": "code",
   "execution_count": null,
   "metadata": {
    "ExecuteTime": {
     "end_time": "2023-06-20T02:43:41.943534500Z",
     "start_time": "2023-06-20T02:43:41.645748500Z"
    },
    "id": "E8aplNxFGMZs",
    "outputId": "ed097ef9-c9d2-4146-ce1e-42ada1acc75e"
   },
   "outputs": [],
   "source": []
  },
  {
   "cell_type": "markdown",
   "metadata": {
    "id": "LLXxe2MVGMZs"
   },
   "source": [
    "# Histograms"
   ]
  },
  {
   "cell_type": "code",
   "execution_count": null,
   "metadata": {
    "ExecuteTime": {
     "end_time": "2023-06-20T02:43:41.959548600Z",
     "start_time": "2023-06-20T02:43:41.687786400Z"
    },
    "id": "qe4eeWiFGMZs",
    "outputId": "8169a42f-682b-4de6-91f2-410c14d83bcc"
   },
   "outputs": [],
   "source": []
  },
  {
   "cell_type": "code",
   "execution_count": null,
   "metadata": {
    "ExecuteTime": {
     "end_time": "2023-06-20T02:43:41.960550Z",
     "start_time": "2023-06-20T02:43:41.694792400Z"
    },
    "collapsed": false,
    "jupyter": {
     "outputs_hidden": false
    }
   },
   "outputs": [],
   "source": []
  },
  {
   "cell_type": "code",
   "execution_count": null,
   "metadata": {
    "ExecuteTime": {
     "end_time": "2023-06-20T02:43:41.960550Z",
     "start_time": "2023-06-20T02:43:41.709805900Z"
    }
   },
   "outputs": [],
   "source": []
  }
 ],
 "metadata": {
  "colab": {
   "provenance": []
  },
  "kernelspec": {
   "display_name": "Python 3 (ipykernel)",
   "language": "python",
   "name": "python3"
  },
  "language_info": {
   "codemirror_mode": {
    "name": "ipython",
    "version": 3
   },
   "file_extension": ".py",
   "mimetype": "text/x-python",
   "name": "python",
   "nbconvert_exporter": "python",
   "pygments_lexer": "ipython3",
   "version": "3.11.8"
  },
  "toc": {
   "toc_cell": true,
   "toc_number_sections": true,
   "toc_section_display": "block",
   "toc_threshold": 6,
   "toc_window_display": false
  }
 },
 "nbformat": 4,
 "nbformat_minor": 4
}
