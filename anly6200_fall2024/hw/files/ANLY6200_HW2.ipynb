{
 "cells": [
  {
   "cell_type": "markdown",
   "metadata": {
    "collapsed": false
   },
   "source": [
    "## ANLY 2500 - Homework 2\n",
    "Homework - Python Basics"
   ]
  },
  {
   "cell_type": "markdown",
   "metadata": {
    "collapsed": false
   },
   "source": [
    "## **Please enter your name and student ID here.**"
   ]
  },
  {
   "cell_type": "markdown",
   "metadata": {
    "collapsed": false
   },
   "source": [
    "### Datatypes"
   ]
  },
  {
   "cell_type": "markdown",
   "metadata": {
    "collapsed": false
   },
   "source": [
    "#### 1. (1 points). Convert a float to an integer (trim the decimal portion)\n",
    "You should obtain the integer 26."
   ]
  },
  {
   "cell_type": "code",
   "execution_count": 1,
   "metadata": {
    "ExecuteTime": {
     "end_time": "2023-06-08T10:11:26.521391Z",
     "start_time": "2023-06-08T10:11:26.506379100Z"
    },
    "collapsed": false
   },
   "outputs": [],
   "source": [
    "d1=26.6999"
   ]
  },
  {
   "cell_type": "code",
   "execution_count": 2,
   "metadata": {
    "collapsed": false
   },
   "outputs": [],
   "source": [
    "# Your answer here\n",
    "\n"
   ]
  },
  {
   "cell_type": "markdown",
   "metadata": {
    "collapsed": false
   },
   "source": [
    "#### 2. (1 points). Convert a string into a float."
   ]
  },
  {
   "cell_type": "code",
   "execution_count": 3,
   "metadata": {
    "collapsed": false
   },
   "outputs": [],
   "source": [
    "str1=\"26.6999\""
   ]
  },
  {
   "cell_type": "code",
   "execution_count": 4,
   "metadata": {
    "collapsed": false
   },
   "outputs": [],
   "source": [
    "# Provide your answer here.\n"
   ]
  },
  {
   "cell_type": "markdown",
   "metadata": {
    "collapsed": false
   },
   "source": [
    "#### 3. (3 points). Interpolate a string\n",
    "Interpolate the variable values, age, weight, grade, into a string using **f\"{}\"**\\\n",
    "You should get a string like this \"The age is 20. The weight is 130.30 lbs. The grade is 96.600%\" (1 point)\\\n",
    "Ensure the weight is displayed with two decimal places. (1 point)\\\n",
    "Display the grade in percentage format with three digits after the decimal point. (1 point)\\\n"
   ]
  },
  {
   "cell_type": "code",
   "execution_count": 5,
   "metadata": {
    "collapsed": false
   },
   "outputs": [],
   "source": [
    "age=20\n",
    "weight=130.3\n",
    "grade=0.966"
   ]
  },
  {
   "cell_type": "code",
   "execution_count": 6,
   "metadata": {
    "collapsed": false
   },
   "outputs": [],
   "source": [
    "# Provide your answer here.\n",
    "\n"
   ]
  },
  {
   "cell_type": "markdown",
   "metadata": {
    "collapsed": false
   },
   "source": [
    "#### 4. (2 points). List Comprehension\n",
    "Use list comprehension to create a list of dictionaries based on an age list.\n",
    "You should get a new list like this\n",
    "[{'age': 23}, {'age': 45}, {'age': 12}, {'age': 26}]"
   ]
  },
  {
   "cell_type": "code",
   "execution_count": 7,
   "metadata": {
    "collapsed": false
   },
   "outputs": [],
   "source": [
    "ageList=[23,45,12,26]"
   ]
  },
  {
   "cell_type": "code",
   "execution_count": 8,
   "metadata": {
    "collapsed": false
   },
   "outputs": [],
   "source": [
    "# Provide your answer here.\n",
    "\n"
   ]
  },
  {
   "cell_type": "markdown",
   "metadata": {
    "collapsed": false
   },
   "source": [
    "#### 5. (2 points). Dictionary\n",
    "Add new fields to the following dictionary, so you will get a new dictionary like this\n",
    "{'age': 23, 'name': 'aiden', 'weight': 136.6}\n",
    "\n",
    "You could not define a new dictionary stu, like\n",
    "stu={'age': 23, 'name': 'aiden', 'weight': 136.6}\n",
    "\n",
    "You can only add the new fields to the current stu dict"
   ]
  },
  {
   "cell_type": "code",
   "execution_count": 9,
   "metadata": {
    "collapsed": false
   },
   "outputs": [],
   "source": [
    "stu={\"age\":23,} #"
   ]
  },
  {
   "cell_type": "code",
   "execution_count": 10,
   "metadata": {
    "collapsed": false
   },
   "outputs": [],
   "source": [
    "# Provide your answer here.\n",
    "\n"
   ]
  },
  {
   "cell_type": "markdown",
   "metadata": {
    "collapsed": false
   },
   "source": [
    "#### 6. (1 points). Use * operator to create a list like this\n",
    "[2, 3, 2, 3, 2, 3, 2, 3, 2, 3]\n"
   ]
  },
  {
   "cell_type": "code",
   "execution_count": 11,
   "metadata": {
    "collapsed": false
   },
   "outputs": [],
   "source": [
    "# Provide your answer here.\n",
    "\n"
   ]
  },
  {
   "attachments": {},
   "cell_type": "markdown",
   "metadata": {
    "collapsed": false
   },
   "source": [
    "#### 7. (2 points).\n",
    "Use input() function to get input from the user, and store the user input into a variable **inStr**\\\n",
    "Then print out how many characters there are in the user input in the format: \"There are 3 characters in the user input string: Tom\"\n",
    "\n",
    "Example run:\\\n",
    "Please input a string: Tommy\\\n",
    "There are 5 characters in the user input string: Tommy\n"
   ]
  },
  {
   "cell_type": "code",
   "execution_count": 12,
   "metadata": {
    "collapsed": false
   },
   "outputs": [],
   "source": [
    "# Provide your answer here.\n",
    "\n"
   ]
  },
  {
   "cell_type": "code",
   "execution_count": null,
   "metadata": {
    "collapsed": false
   },
   "outputs": [],
   "source": []
  }
 ],
 "metadata": {
  "kernelspec": {
   "display_name": "Python 3",
   "language": "python",
   "name": "python3"
  },
  "language_info": {
   "codemirror_mode": {
    "name": "ipython",
    "version": 3
   },
   "file_extension": ".py",
   "mimetype": "text/x-python",
   "name": "python",
   "nbconvert_exporter": "python",
   "pygments_lexer": "ipython3",
   "version": "3.12.5"
  }
 },
 "nbformat": 4,
 "nbformat_minor": 0
}
