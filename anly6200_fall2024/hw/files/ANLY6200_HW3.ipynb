{
 "cells": [
  {
   "cell_type": "markdown",
   "metadata": {
    "collapsed": false,
    "jupyter": {
     "outputs_hidden": false
    }
   },
   "source": [
    "## **Put your name and student ID here**"
   ]
  },
  {
   "cell_type": "markdown",
   "metadata": {},
   "source": [
    "# NumPy Questions\n",
    "Use NumPy to solve questions 1-6."
   ]
  },
  {
   "cell_type": "markdown",
   "metadata": {},
   "source": [
    "#### 1. (0.5 points) Use `numpy.random.randn()` to generate an array, **a1**, with shape (10, 5) and an array, **a2**, with shape (10, 2)."
   ]
  },
  {
   "cell_type": "code",
   "execution_count": null,
   "metadata": {},
   "outputs": [],
   "source": [
    "# Provide your answer here."
   ]
  },
  {
   "cell_type": "markdown",
   "metadata": {},
   "source": [
    "#### 2. (0.5 points) Use `hstack` to horizontally stack **a1** and **a2** to create a new array, **a3**. The shape of **a3** will be (10, 7)."
   ]
  },
  {
   "cell_type": "code",
   "execution_count": null,
   "metadata": {},
   "outputs": [],
   "source": [
    "# Provide your answer here."
   ]
  },
  {
   "cell_type": "markdown",
   "metadata": {},
   "source": [
    "#### 3. (1.5 points) Calculate the maximum, minimum, and average of each row and each column in **a3**."
   ]
  },
  {
   "cell_type": "code",
   "execution_count": null,
   "metadata": {},
   "outputs": [],
   "source": [
    "# Provide your answer here."
   ]
  },
  {
   "cell_type": "markdown",
   "metadata": {},
   "source": [
    "#### 4. (0.5 points) Reshape **a3** into a 2 by 35 array."
   ]
  },
  {
   "cell_type": "code",
   "execution_count": null,
   "metadata": {},
   "outputs": [],
   "source": [
    "# Provide your answer here."
   ]
  },
  {
   "cell_type": "markdown",
   "metadata": {},
   "source": [
    "#### 5. (0.5 points) Use `ravel()` to make a3 a one-dimensional array"
   ]
  },
  {
   "cell_type": "code",
   "execution_count": null,
   "metadata": {},
   "outputs": [],
   "source": [
    "# Provide your answer here."
   ]
  },
  {
   "cell_type": "markdown",
   "metadata": {},
   "source": [
    "#### 6. (1.0 point) Use `linspace()` to create a **1D** array, **a6**, starting from 1 and ending at 20 with 100 points, and then reshape it into a 10 by 10 array."
   ]
  },
  {
   "cell_type": "code",
   "execution_count": null,
   "metadata": {},
   "outputs": [],
   "source": [
    "# Provide your answer here."
   ]
  },
  {
   "cell_type": "markdown",
   "metadata": {},
   "source": []
  },
  {
   "cell_type": "code",
   "execution_count": null,
   "metadata": {},
   "outputs": [],
   "source": []
  },
  {
   "cell_type": "markdown",
   "metadata": {
    "collapsed": false,
    "jupyter": {
     "outputs_hidden": false
    }
   },
   "source": [
    "# Pandas Questions\n",
    "Use Pandas to solve questions 7-11."
   ]
  },
  {
   "cell_type": "markdown",
   "metadata": {
    "collapsed": false,
    "jupyter": {
     "outputs_hidden": false
    }
   },
   "source": [
    "#### 7. (0.5 points) Import the Pandas package and load the data from **EmissionsData.csv** into a dataframe called **em_df**."
   ]
  },
  {
   "cell_type": "code",
   "execution_count": null,
   "metadata": {
    "ExecuteTime": {
     "end_time": "2023-06-19T18:02:44.168267400Z",
     "start_time": "2023-06-19T18:02:44.084192800Z"
    },
    "collapsed": false,
    "jupyter": {
     "outputs_hidden": false
    }
   },
   "outputs": [],
   "source": [
    "# Provide your answer here."
   ]
  },
  {
   "cell_type": "code",
   "execution_count": null,
   "metadata": {
    "ExecuteTime": {
     "end_time": "2023-06-19T18:02:44.251343400Z",
     "start_time": "2023-06-19T18:02:44.096202100Z"
    },
    "collapsed": false,
    "jupyter": {
     "outputs_hidden": false
    }
   },
   "outputs": [],
   "source": []
  },
  {
   "cell_type": "markdown",
   "metadata": {
    "collapsed": false,
    "jupyter": {
     "outputs_hidden": false
    }
   },
   "source": [
    "#### 8. (0.5 points) Sort the dataframe using the `sort_values()` function by the column '**Emission**' in descending order. Display the top 5 records.\n",
    "\n",
    "<img style=\"width:600px;\" src=\"https://juxinglong.github.io/static/img/ML/hw_pd_2.png\">"
   ]
  },
  {
   "cell_type": "code",
   "execution_count": null,
   "metadata": {
    "ExecuteTime": {
     "end_time": "2023-06-19T18:02:44.293381200Z",
     "start_time": "2023-06-19T18:02:44.111216Z"
    },
    "collapsed": false,
    "jupyter": {
     "outputs_hidden": false
    }
   },
   "outputs": [],
   "source": [
    "# Provide your answer here."
   ]
  },
  {
   "cell_type": "code",
   "execution_count": null,
   "metadata": {
    "ExecuteTime": {
     "end_time": "2023-06-19T18:02:44.298384900Z",
     "start_time": "2023-06-19T18:02:44.127230300Z"
    },
    "collapsed": false,
    "jupyter": {
     "outputs_hidden": false
    }
   },
   "outputs": [],
   "source": []
  },
  {
   "cell_type": "markdown",
   "metadata": {
    "collapsed": false,
    "jupyter": {
     "outputs_hidden": false
    }
   },
   "source": [
    "#### 9.\n",
    "#### 9.1 (0.5 points) Use the `groupby()` function to group **em_df** by the '**Year**' column..\n",
    "#### 9.2 (2.0 points) Retrieve the group '**2011**' using the `get_group()` function, and sort the 2011 group dataframe by '**Emission**' in ascending order. Display the first 5 rows.\n",
    "#### 9.3 (0.5 points) Use the `mean()` function to calculate the average emission of all countries in the year **2011**.\n",
    "\n",
    "<img style=\"width:600px;\" src=\"https://juxinglong.github.io/static/img/ML/hw_pd_3.png\">\n",
    "\n",
    "Average: 4.904900274527919"
   ]
  },
  {
   "cell_type": "code",
   "execution_count": null,
   "metadata": {
    "ExecuteTime": {
     "end_time": "2023-06-19T18:02:44.300386700Z",
     "start_time": "2023-06-19T18:02:44.143245100Z"
    },
    "collapsed": false,
    "jupyter": {
     "outputs_hidden": false
    }
   },
   "outputs": [],
   "source": [
    "# Provide your answer here."
   ]
  },
  {
   "cell_type": "code",
   "execution_count": null,
   "metadata": {
    "ExecuteTime": {
     "end_time": "2023-06-19T18:02:44.300386700Z",
     "start_time": "2023-06-19T18:02:44.158259600Z"
    },
    "collapsed": false,
    "jupyter": {
     "outputs_hidden": false
    }
   },
   "outputs": [],
   "source": []
  },
  {
   "cell_type": "code",
   "execution_count": null,
   "metadata": {
    "ExecuteTime": {
     "end_time": "2023-06-19T18:02:44.300386700Z",
     "start_time": "2023-06-19T18:02:44.174273100Z"
    },
    "collapsed": false,
    "jupyter": {
     "outputs_hidden": false
    }
   },
   "outputs": [],
   "source": []
  },
  {
   "cell_type": "markdown",
   "metadata": {
    "collapsed": false,
    "jupyter": {
     "outputs_hidden": false
    }
   },
   "source": [
    "#### 10.\n",
    "#### 10.1 (2.0 points) Find the rows that meet the following conditions: **Year is 2010, Continent is Europe, and Emission is greater than 2**. Sort the resulting dataframe by '**Emission**' in descending order, and display the first 5 rows.\n",
    "#### 10.2 (0.5 points) Calculate the average emission of **the resulting dataframe from the previous conditions**.\n",
    "\n",
    "<img style=\"width:600px;\" src=\"https://juxinglong.github.io/static/img/ML/hw_pd_4.png\">\n",
    "\n",
    "Average: 7.4887038956"
   ]
  },
  {
   "cell_type": "code",
   "execution_count": null,
   "metadata": {
    "ExecuteTime": {
     "end_time": "2023-06-19T18:02:44.300386700Z",
     "start_time": "2023-06-19T18:02:44.191289500Z"
    },
    "collapsed": false,
    "jupyter": {
     "outputs_hidden": false
    }
   },
   "outputs": [],
   "source": [
    "# Provide your answer here."
   ]
  },
  {
   "cell_type": "code",
   "execution_count": null,
   "metadata": {
    "ExecuteTime": {
     "end_time": "2023-06-19T18:02:44.301389300Z",
     "start_time": "2023-06-19T18:02:44.207302400Z"
    },
    "collapsed": false,
    "jupyter": {
     "outputs_hidden": false
    }
   },
   "outputs": [],
   "source": []
  },
  {
   "cell_type": "code",
   "execution_count": null,
   "metadata": {
    "ExecuteTime": {
     "end_time": "2023-06-19T18:02:44.301389300Z",
     "start_time": "2023-06-19T18:02:44.223317Z"
    },
    "collapsed": false,
    "jupyter": {
     "outputs_hidden": false
    }
   },
   "outputs": [],
   "source": []
  },
  {
   "cell_type": "markdown",
   "metadata": {
    "collapsed": false,
    "jupyter": {
     "outputs_hidden": false
    }
   },
   "source": [
    "#### 11.\n",
    "#### 11.1 (0.5 points) In **em_df**, create a new column called '**Emission10PMore**'. The value in this column should be 10% more than the corresponding value in the original '**Emission**' column.\n",
    "#### 11.2 (0.5 points) Sort the resulting dataframe by '**Emission10PMore**' in ascending order and display the first 5 rows.\n",
    "\n",
    "<img style=\"width:600px;\" src=\"https://juxinglong.github.io/static/img/ML/hw_pd_5.png\">\n"
   ]
  },
  {
   "cell_type": "code",
   "execution_count": null,
   "metadata": {
    "ExecuteTime": {
     "end_time": "2023-06-19T18:02:44.301389300Z",
     "start_time": "2023-06-19T18:02:44.240335300Z"
    },
    "collapsed": false,
    "jupyter": {
     "outputs_hidden": false
    }
   },
   "outputs": [],
   "source": [
    "# Provide your answer here."
   ]
  },
  {
   "cell_type": "code",
   "execution_count": null,
   "metadata": {
    "ExecuteTime": {
     "end_time": "2023-06-19T18:02:44.301389300Z",
     "start_time": "2023-06-19T18:02:44.255347900Z"
    },
    "collapsed": false,
    "jupyter": {
     "outputs_hidden": false
    }
   },
   "outputs": [],
   "source": []
  },
  {
   "cell_type": "code",
   "execution_count": null,
   "metadata": {
    "ExecuteTime": {
     "end_time": "2023-06-19T18:02:44.365446300Z",
     "start_time": "2023-06-19T18:02:44.272361700Z"
    },
    "collapsed": false,
    "jupyter": {
     "outputs_hidden": false
    }
   },
   "outputs": [],
   "source": []
  }
 ],
 "metadata": {
  "kernelspec": {
   "display_name": "Python 3 (ipykernel)",
   "language": "python",
   "name": "python3"
  },
  "language_info": {
   "codemirror_mode": {
    "name": "ipython",
    "version": 3
   },
   "file_extension": ".py",
   "mimetype": "text/x-python",
   "name": "python",
   "nbconvert_exporter": "python",
   "pygments_lexer": "ipython3",
   "version": "3.11.8"
  }
 },
 "nbformat": 4,
 "nbformat_minor": 4
}
